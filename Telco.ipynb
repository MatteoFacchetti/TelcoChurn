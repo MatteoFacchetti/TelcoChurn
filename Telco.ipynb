{
 "cells": [
  {
   "cell_type": "markdown",
   "metadata": {},
   "source": [
    "# Telco Customer Churn Analysis and Prediction\n",
    "\n",
    "_Matteo Facchetti_, _Mario Damiano Russo_, _Mirko Frigerio_."
   ]
  },
  {
   "cell_type": "markdown",
   "metadata": {
    "toc": true
   },
   "source": [
    "<h1>Table of Contents<span class=\"tocSkip\"></span></h1>\n",
    "<div class=\"toc\"><ul class=\"toc-item\"><li><span><a href=\"#Univariate-and-Bivariate-Analysis\" data-toc-modified-id=\"Univariate-and-Bivariate-Analysis-1\"><span class=\"toc-item-num\">1&nbsp;&nbsp;</span>Univariate and Bivariate Analysis</a></span><ul class=\"toc-item\"><li><span><a href=\"#Customer-Churn\" data-toc-modified-id=\"Customer-Churn-1.1\"><span class=\"toc-item-num\">1.1&nbsp;&nbsp;</span>Customer Churn</a></span></li><li><span><a href=\"#Gender-distribution\" data-toc-modified-id=\"Gender-distribution-1.2\"><span class=\"toc-item-num\">1.2&nbsp;&nbsp;</span>Gender distribution</a></span></li><li><span><a href=\"#Age-distribution\" data-toc-modified-id=\"Age-distribution-1.3\"><span class=\"toc-item-num\">1.3&nbsp;&nbsp;</span>Age distribution</a></span></li><li><span><a href=\"#Phone-Service-distribution\" data-toc-modified-id=\"Phone-Service-distribution-1.4\"><span class=\"toc-item-num\">1.4&nbsp;&nbsp;</span>Phone Service distribution</a></span></li><li><span><a href=\"#Internet-service-distribution\" data-toc-modified-id=\"Internet-service-distribution-1.5\"><span class=\"toc-item-num\">1.5&nbsp;&nbsp;</span>Internet service distribution</a></span></li><li><span><a href=\"#Tenure-distribution\" data-toc-modified-id=\"Tenure-distribution-1.6\"><span class=\"toc-item-num\">1.6&nbsp;&nbsp;</span>Tenure distribution</a></span></li><li><span><a href=\"#Contract-distribution\" data-toc-modified-id=\"Contract-distribution-1.7\"><span class=\"toc-item-num\">1.7&nbsp;&nbsp;</span>Contract distribution</a></span></li></ul></li><li><span><a href=\"#Train-test-split\" data-toc-modified-id=\"Train-test-split-2\"><span class=\"toc-item-num\">2&nbsp;&nbsp;</span>Train-test split</a></span></li><li><span><a href=\"#Dealing-with-Missing-Values\" data-toc-modified-id=\"Dealing-with-Missing-Values-3\"><span class=\"toc-item-num\">3&nbsp;&nbsp;</span>Dealing with Missing Values</a></span><ul class=\"toc-item\"><li><span><a href=\"#Encoding-the-dummy-variables\" data-toc-modified-id=\"Encoding-the-dummy-variables-3.1\"><span class=\"toc-item-num\">3.1&nbsp;&nbsp;</span>Encoding the dummy variables</a></span></li></ul></li><li><span><a href=\"#Dealing-with-Outliers\" data-toc-modified-id=\"Dealing-with-Outliers-4\"><span class=\"toc-item-num\">4&nbsp;&nbsp;</span>Dealing with Outliers</a></span></li><li><span><a href=\"#Logistic-regression\" data-toc-modified-id=\"Logistic-regression-5\"><span class=\"toc-item-num\">5&nbsp;&nbsp;</span>Logistic regression</a></span></li><li><span><a href=\"#Model-evaluation\" data-toc-modified-id=\"Model-evaluation-6\"><span class=\"toc-item-num\">6&nbsp;&nbsp;</span>Model evaluation</a></span></li><li><span><a href=\"#Resampling-methods\" data-toc-modified-id=\"Resampling-methods-7\"><span class=\"toc-item-num\">7&nbsp;&nbsp;</span>Resampling methods</a></span></li></ul></div>"
   ]
  },
  {
   "cell_type": "code",
   "execution_count": 308,
   "metadata": {
    "ExecuteTime": {
     "end_time": "2019-10-11T13:59:13.771089Z",
     "start_time": "2019-10-11T13:59:13.706606Z"
    }
   },
   "outputs": [
    {
     "data": {
      "text/html": [
       "        <script type=\"text/javascript\">\n",
       "        window.PlotlyConfig = {MathJaxConfig: 'local'};\n",
       "        if (window.MathJax) {MathJax.Hub.Config({SVG: {font: \"STIX-Web\"}});}\n",
       "        if (typeof require !== 'undefined') {\n",
       "        require.undef(\"plotly\");\n",
       "        requirejs.config({\n",
       "            paths: {\n",
       "                'plotly': ['https://cdn.plot.ly/plotly-latest.min']\n",
       "            }\n",
       "        });\n",
       "        require(['plotly'], function(Plotly) {\n",
       "            window._Plotly = Plotly;\n",
       "        });\n",
       "        }\n",
       "        </script>\n",
       "        "
      ]
     },
     "metadata": {},
     "output_type": "display_data"
    }
   ],
   "source": [
    "import pandas as pd\n",
    "import numpy as np\n",
    "import matplotlib.pyplot as plt\n",
    "import seaborn as sns\n",
    "import os\n",
    "import io\n",
    "import scipy\n",
    "\n",
    "from matplotlib import cm\n",
    "from IPython.display import display\n",
    "from scipy.spatial.distance import pdist, squareform\n",
    "from scipy.cluster.hierarchy import linkage\n",
    "from scipy.cluster.hierarchy import dendrogram\n",
    "from sklearn.preprocessing import StandardScaler\n",
    "from sklearn.cluster import KMeans\n",
    "from sklearn.metrics import silhouette_samples\n",
    "from sklearn.model_selection import train_test_split\n",
    "import statsmodels.api as sm\n",
    "from statsmodels.stats.outliers_influence import variance_inflation_factor\n",
    "import pylab as pl\n",
    "import scikitplot as skplt\n",
    "import plotly.graph_objs as go\n",
    "import plotly.offline as py\n",
    "from PIL import  Image\n",
    "import plotly.tools as tls\n",
    "import plotly.figure_factory as ff\n",
    "import matplotlib.ticker as mtick\n",
    "from mlxtend.plotting import plot_confusion_matrix\n",
    "\n",
    "pd.options.display.max_columns = None\n",
    "sns.set()\n",
    "%matplotlib inline\n",
    "py.init_notebook_mode(connected=True)"
   ]
  },
  {
   "cell_type": "code",
   "execution_count": 200,
   "metadata": {
    "ExecuteTime": {
     "end_time": "2019-10-11T13:25:33.750672Z",
     "start_time": "2019-10-11T13:25:33.724127Z"
    }
   },
   "outputs": [],
   "source": [
    "tcc = pd.read_csv(\"tcc.csv\")"
   ]
  },
  {
   "cell_type": "code",
   "execution_count": 201,
   "metadata": {
    "ExecuteTime": {
     "end_time": "2019-10-11T13:25:33.767732Z",
     "start_time": "2019-10-11T13:25:33.752529Z"
    }
   },
   "outputs": [
    {
     "data": {
      "text/html": [
       "<div>\n",
       "<style scoped>\n",
       "    .dataframe tbody tr th:only-of-type {\n",
       "        vertical-align: middle;\n",
       "    }\n",
       "\n",
       "    .dataframe tbody tr th {\n",
       "        vertical-align: top;\n",
       "    }\n",
       "\n",
       "    .dataframe thead th {\n",
       "        text-align: right;\n",
       "    }\n",
       "</style>\n",
       "<table border=\"1\" class=\"dataframe\">\n",
       "  <thead>\n",
       "    <tr style=\"text-align: right;\">\n",
       "      <th></th>\n",
       "      <th>customerID</th>\n",
       "      <th>gender</th>\n",
       "      <th>SeniorCitizen</th>\n",
       "      <th>Partner</th>\n",
       "      <th>Dependents</th>\n",
       "      <th>tenure</th>\n",
       "      <th>PhoneService</th>\n",
       "      <th>MultipleLines</th>\n",
       "      <th>InternetService</th>\n",
       "      <th>OnlineSecurity</th>\n",
       "      <th>OnlineBackup</th>\n",
       "      <th>DeviceProtection</th>\n",
       "      <th>TechSupport</th>\n",
       "      <th>StreamingTV</th>\n",
       "      <th>StreamingMovies</th>\n",
       "      <th>Contract</th>\n",
       "      <th>PaperlessBilling</th>\n",
       "      <th>PaymentMethod</th>\n",
       "      <th>MonthlyCharges</th>\n",
       "      <th>TotalCharges</th>\n",
       "      <th>Churn</th>\n",
       "    </tr>\n",
       "  </thead>\n",
       "  <tbody>\n",
       "    <tr>\n",
       "      <td>0</td>\n",
       "      <td>7590-VHVEG</td>\n",
       "      <td>Female</td>\n",
       "      <td>0</td>\n",
       "      <td>Yes</td>\n",
       "      <td>No</td>\n",
       "      <td>1</td>\n",
       "      <td>No</td>\n",
       "      <td>No phone service</td>\n",
       "      <td>DSL</td>\n",
       "      <td>No</td>\n",
       "      <td>Yes</td>\n",
       "      <td>No</td>\n",
       "      <td>No</td>\n",
       "      <td>No</td>\n",
       "      <td>No</td>\n",
       "      <td>Month-to-month</td>\n",
       "      <td>Yes</td>\n",
       "      <td>Electronic check</td>\n",
       "      <td>29.85</td>\n",
       "      <td>29.85</td>\n",
       "      <td>No</td>\n",
       "    </tr>\n",
       "    <tr>\n",
       "      <td>1</td>\n",
       "      <td>5575-GNVDE</td>\n",
       "      <td>Male</td>\n",
       "      <td>0</td>\n",
       "      <td>No</td>\n",
       "      <td>No</td>\n",
       "      <td>34</td>\n",
       "      <td>Yes</td>\n",
       "      <td>No</td>\n",
       "      <td>DSL</td>\n",
       "      <td>Yes</td>\n",
       "      <td>No</td>\n",
       "      <td>Yes</td>\n",
       "      <td>No</td>\n",
       "      <td>No</td>\n",
       "      <td>No</td>\n",
       "      <td>One year</td>\n",
       "      <td>No</td>\n",
       "      <td>Mailed check</td>\n",
       "      <td>56.95</td>\n",
       "      <td>1889.5</td>\n",
       "      <td>No</td>\n",
       "    </tr>\n",
       "    <tr>\n",
       "      <td>2</td>\n",
       "      <td>3668-QPYBK</td>\n",
       "      <td>Male</td>\n",
       "      <td>0</td>\n",
       "      <td>No</td>\n",
       "      <td>No</td>\n",
       "      <td>2</td>\n",
       "      <td>Yes</td>\n",
       "      <td>No</td>\n",
       "      <td>DSL</td>\n",
       "      <td>Yes</td>\n",
       "      <td>Yes</td>\n",
       "      <td>No</td>\n",
       "      <td>No</td>\n",
       "      <td>No</td>\n",
       "      <td>No</td>\n",
       "      <td>Month-to-month</td>\n",
       "      <td>Yes</td>\n",
       "      <td>Mailed check</td>\n",
       "      <td>53.85</td>\n",
       "      <td>108.15</td>\n",
       "      <td>Yes</td>\n",
       "    </tr>\n",
       "    <tr>\n",
       "      <td>3</td>\n",
       "      <td>7795-CFOCW</td>\n",
       "      <td>Male</td>\n",
       "      <td>0</td>\n",
       "      <td>No</td>\n",
       "      <td>No</td>\n",
       "      <td>45</td>\n",
       "      <td>No</td>\n",
       "      <td>No phone service</td>\n",
       "      <td>DSL</td>\n",
       "      <td>Yes</td>\n",
       "      <td>No</td>\n",
       "      <td>Yes</td>\n",
       "      <td>Yes</td>\n",
       "      <td>No</td>\n",
       "      <td>No</td>\n",
       "      <td>One year</td>\n",
       "      <td>No</td>\n",
       "      <td>Bank transfer (automatic)</td>\n",
       "      <td>42.30</td>\n",
       "      <td>1840.75</td>\n",
       "      <td>No</td>\n",
       "    </tr>\n",
       "    <tr>\n",
       "      <td>4</td>\n",
       "      <td>9237-HQITU</td>\n",
       "      <td>Female</td>\n",
       "      <td>0</td>\n",
       "      <td>No</td>\n",
       "      <td>No</td>\n",
       "      <td>2</td>\n",
       "      <td>Yes</td>\n",
       "      <td>No</td>\n",
       "      <td>Fiber optic</td>\n",
       "      <td>No</td>\n",
       "      <td>No</td>\n",
       "      <td>No</td>\n",
       "      <td>No</td>\n",
       "      <td>No</td>\n",
       "      <td>No</td>\n",
       "      <td>Month-to-month</td>\n",
       "      <td>Yes</td>\n",
       "      <td>Electronic check</td>\n",
       "      <td>70.70</td>\n",
       "      <td>151.65</td>\n",
       "      <td>Yes</td>\n",
       "    </tr>\n",
       "  </tbody>\n",
       "</table>\n",
       "</div>"
      ],
      "text/plain": [
       "   customerID  gender  SeniorCitizen Partner Dependents  tenure PhoneService  \\\n",
       "0  7590-VHVEG  Female              0     Yes         No       1           No   \n",
       "1  5575-GNVDE    Male              0      No         No      34          Yes   \n",
       "2  3668-QPYBK    Male              0      No         No       2          Yes   \n",
       "3  7795-CFOCW    Male              0      No         No      45           No   \n",
       "4  9237-HQITU  Female              0      No         No       2          Yes   \n",
       "\n",
       "      MultipleLines InternetService OnlineSecurity OnlineBackup  \\\n",
       "0  No phone service             DSL             No          Yes   \n",
       "1                No             DSL            Yes           No   \n",
       "2                No             DSL            Yes          Yes   \n",
       "3  No phone service             DSL            Yes           No   \n",
       "4                No     Fiber optic             No           No   \n",
       "\n",
       "  DeviceProtection TechSupport StreamingTV StreamingMovies        Contract  \\\n",
       "0               No          No          No              No  Month-to-month   \n",
       "1              Yes          No          No              No        One year   \n",
       "2               No          No          No              No  Month-to-month   \n",
       "3              Yes         Yes          No              No        One year   \n",
       "4               No          No          No              No  Month-to-month   \n",
       "\n",
       "  PaperlessBilling              PaymentMethod  MonthlyCharges TotalCharges  \\\n",
       "0              Yes           Electronic check           29.85        29.85   \n",
       "1               No               Mailed check           56.95       1889.5   \n",
       "2              Yes               Mailed check           53.85       108.15   \n",
       "3               No  Bank transfer (automatic)           42.30      1840.75   \n",
       "4              Yes           Electronic check           70.70       151.65   \n",
       "\n",
       "  Churn  \n",
       "0    No  \n",
       "1    No  \n",
       "2   Yes  \n",
       "3    No  \n",
       "4   Yes  "
      ]
     },
     "execution_count": 201,
     "metadata": {},
     "output_type": "execute_result"
    }
   ],
   "source": [
    "tcc.head()"
   ]
  },
  {
   "cell_type": "markdown",
   "metadata": {},
   "source": [
    "## Univariate and Bivariate Analysis"
   ]
  },
  {
   "cell_type": "markdown",
   "metadata": {},
   "source": [
    "### Customer Churn"
   ]
  },
  {
   "cell_type": "markdown",
   "metadata": {},
   "source": [
    "Let's first have a look at the churn rate."
   ]
  },
  {
   "cell_type": "code",
   "execution_count": 202,
   "metadata": {
    "ExecuteTime": {
     "end_time": "2019-10-11T13:25:34.302862Z",
     "start_time": "2019-10-11T13:25:34.220598Z"
    }
   },
   "outputs": [
    {
     "data": {
      "image/png": "[encoded data removed]",
      "text/plain": [
       "<Figure size 504x504 with 1 Axes>"
      ]
     },
     "metadata": {},
     "output_type": "display_data"
    }
   ],
   "source": [
    "senior = (tcc['Churn'].value_counts()*100.0 /len(tcc)).plot(kind='pie',\\\n",
    "        labels = ['No', 'Yes'], figsize = (7,7) , colors = ['yellow','blue'])\n",
    "\n",
    "senior.set_title('Churn rate')\n",
    "senior.legend(labels=['No','Yes']);"
   ]
  },
  {
   "cell_type": "markdown",
   "metadata": {},
   "source": [
    "One customer over four churns."
   ]
  },
  {
   "cell_type": "markdown",
   "metadata": {},
   "source": [
    "### Gender distribution"
   ]
  },
  {
   "cell_type": "code",
   "execution_count": 203,
   "metadata": {
    "ExecuteTime": {
     "end_time": "2019-10-11T13:25:34.685050Z",
     "start_time": "2019-10-11T13:25:34.526722Z"
    },
    "scrolled": true
   },
   "outputs": [
    {
     "data": {
      "image/png": "[encoded data removed]",
      "text/plain": [
       "<Figure size 432x288 with 1 Axes>"
      ]
     },
     "metadata": {
      "needs_background": "light"
     },
     "output_type": "display_data"
    }
   ],
   "source": [
    "gb = tcc.groupby(\"gender\")[\"Churn\"].value_counts().to_frame().rename({\"Churn\": \"Number of Customers\"}, axis = 1).reset_index()\n",
    "sns.barplot(x = \"gender\", y = \"Number of Customers\", data = gb, hue = \"Churn\", palette = sns.color_palette(\"hls\", 8)).set_title(\"Gender and relative Churn Rates in our population\");"
   ]
  },
  {
   "cell_type": "markdown",
   "metadata": {},
   "source": [
    "Men and women are evenly distributed in our sample, and show the same proportions of Churn."
   ]
  },
  {
   "cell_type": "markdown",
   "metadata": {},
   "source": [
    "### Age distribution"
   ]
  },
  {
   "cell_type": "code",
   "execution_count": 204,
   "metadata": {
    "ExecuteTime": {
     "end_time": "2019-10-11T13:25:34.930370Z",
     "start_time": "2019-10-11T13:25:34.833641Z"
    }
   },
   "outputs": [
    {
     "data": {
      "image/png": "[encoded data removed]",
      "text/plain": [
       "<Figure size 504x504 with 1 Axes>"
      ]
     },
     "metadata": {},
     "output_type": "display_data"
    }
   ],
   "source": [
    "senior = (tcc['SeniorCitizen'].value_counts()*100.0 /len(tcc)).plot(kind='pie',\\\n",
    "        labels = ['No', 'Yes'], figsize = (7,7) , colors = ['yellow','green'], fontsize = 15)\n",
    "\n",
    "senior.set_title('Seniors')\n",
    "senior.legend(labels=['Non Senior','Senior']);"
   ]
  },
  {
   "cell_type": "code",
   "execution_count": 205,
   "metadata": {
    "ExecuteTime": {
     "end_time": "2019-10-11T13:25:34.944489Z",
     "start_time": "2019-10-11T13:25:34.931674Z"
    }
   },
   "outputs": [
    {
     "data": {
      "text/html": [
       "<div>\n",
       "<style scoped>\n",
       "    .dataframe tbody tr th:only-of-type {\n",
       "        vertical-align: middle;\n",
       "    }\n",
       "\n",
       "    .dataframe tbody tr th {\n",
       "        vertical-align: top;\n",
       "    }\n",
       "\n",
       "    .dataframe thead th {\n",
       "        text-align: right;\n",
       "    }\n",
       "</style>\n",
       "<table border=\"1\" class=\"dataframe\">\n",
       "  <thead>\n",
       "    <tr style=\"text-align: right;\">\n",
       "      <th></th>\n",
       "      <th>SeniorCitizen</th>\n",
       "      <th>Churn</th>\n",
       "      <th>Number of Customers</th>\n",
       "    </tr>\n",
       "  </thead>\n",
       "  <tbody>\n",
       "    <tr>\n",
       "      <td>0</td>\n",
       "      <td>Young</td>\n",
       "      <td>No</td>\n",
       "      <td>4508</td>\n",
       "    </tr>\n",
       "    <tr>\n",
       "      <td>1</td>\n",
       "      <td>Young</td>\n",
       "      <td>Yes</td>\n",
       "      <td>1393</td>\n",
       "    </tr>\n",
       "    <tr>\n",
       "      <td>2</td>\n",
       "      <td>Senior</td>\n",
       "      <td>No</td>\n",
       "      <td>666</td>\n",
       "    </tr>\n",
       "    <tr>\n",
       "      <td>3</td>\n",
       "      <td>Senior</td>\n",
       "      <td>Yes</td>\n",
       "      <td>476</td>\n",
       "    </tr>\n",
       "  </tbody>\n",
       "</table>\n",
       "</div>"
      ],
      "text/plain": [
       "  SeniorCitizen Churn  Number of Customers\n",
       "0         Young    No                 4508\n",
       "1         Young   Yes                 1393\n",
       "2        Senior    No                  666\n",
       "3        Senior   Yes                  476"
      ]
     },
     "execution_count": 205,
     "metadata": {},
     "output_type": "execute_result"
    }
   ],
   "source": [
    "gb = tcc.groupby(\"SeniorCitizen\")[\"Churn\"].value_counts().to_frame().rename({\"Churn\": \"Number of Customers\"}, axis = 1).reset_index()\n",
    "gb.replace([0, 1], [\"Young\", \"Senior\"], inplace = True)\n",
    "gb"
   ]
  },
  {
   "cell_type": "code",
   "execution_count": 206,
   "metadata": {
    "ExecuteTime": {
     "end_time": "2019-10-11T13:25:35.302001Z",
     "start_time": "2019-10-11T13:25:34.945940Z"
    }
   },
   "outputs": [
    {
     "data": {
      "image/png": "[encoded data removed]",
      "text/plain": [
       "<Figure size 432x288 with 1 Axes>"
      ]
     },
     "metadata": {
      "needs_background": "light"
     },
     "output_type": "display_data"
    }
   ],
   "source": [
    "tp = gb.groupby(\"SeniorCitizen\")[\"Number of Customers\"].sum().to_frame().reset_index().rename({\"Number of Customers\": \"# Customers in Age Group\"}, axis = 1)\n",
    "gb = pd.merge(gb, tp, on = \"SeniorCitizen\")\n",
    "gb[\"Churn Rate in Age Group\"] = gb[\"Number of Customers\"]/gb[\"# Customers in Age Group\"]\n",
    "gb = gb[gb.Churn == \"Yes\"]\n",
    "\n",
    "sns.barplot(x = \"SeniorCitizen\", y = \"Churn Rate in Age Group\", data = gb).set_title(\"Churn Rate for Young and Senior customers\");"
   ]
  },
  {
   "cell_type": "markdown",
   "metadata": {},
   "source": [
    "Our sample is mainly composed by young people. Senior customers are more prone to churning."
   ]
  },
  {
   "cell_type": "markdown",
   "metadata": {},
   "source": [
    "### Phone Service distribution"
   ]
  },
  {
   "cell_type": "code",
   "execution_count": 207,
   "metadata": {
    "ExecuteTime": {
     "end_time": "2019-10-11T13:25:35.407353Z",
     "start_time": "2019-10-11T13:25:35.303627Z"
    }
   },
   "outputs": [
    {
     "data": {
      "image/png": "[encoded data removed]",
      "text/plain": [
       "<Figure size 432x288 with 1 Axes>"
      ]
     },
     "metadata": {
      "needs_background": "light"
     },
     "output_type": "display_data"
    }
   ],
   "source": [
    "phone = (tcc['PhoneService'].value_counts()*100.0 /len(tcc)).plot(kind='bar', stacked = True,\\\n",
    "                                                rot = 0, color = ['red','lightblue'])\n",
    "  \n",
    "phone.yaxis.set_major_formatter(mtick.PercentFormatter())\n",
    "phone.set_ylabel('Customers')\n",
    "phone.set_xlabel('Phone Service')\n",
    "phone.set_ylabel('Customers')\n",
    "phone.set_title('Phone service distribution');"
   ]
  },
  {
   "cell_type": "markdown",
   "metadata": {},
   "source": [
    "Just a little amount of people does not have phone service."
   ]
  },
  {
   "cell_type": "markdown",
   "metadata": {},
   "source": [
    "### Internet service distribution"
   ]
  },
  {
   "cell_type": "code",
   "execution_count": 208,
   "metadata": {
    "ExecuteTime": {
     "end_time": "2019-10-11T13:25:35.571717Z",
     "start_time": "2019-10-11T13:25:35.494465Z"
    }
   },
   "outputs": [
    {
     "data": {
      "image/png": "[encoded data removed]",
      "text/plain": [
       "<Figure size 504x504 with 1 Axes>"
      ]
     },
     "metadata": {},
     "output_type": "display_data"
    }
   ],
   "source": [
    "internet = (tcc['InternetService'].value_counts()*100.0 /len(tcc)).plot(kind='pie',\\\n",
    "        labels = ['Fiber optic', 'DSL', 'No'], figsize = (7,7) , colors = ['orange','purple', 'black'], fontsize = 15)\n",
    "\n",
    "senior.set_title('Seniors')\n",
    "senior.legend(labels=['Non Senior','Senior']);"
   ]
  },
  {
   "cell_type": "markdown",
   "metadata": {},
   "source": [
    "Among the ones that have internet service, DSL and Fiber optic are almost equally distributed (the fraction of people having Fiber optic is slightly greater). Less than one fourth of the members of our sample has no internet service."
   ]
  },
  {
   "cell_type": "markdown",
   "metadata": {},
   "source": [
    "### Tenure distribution"
   ]
  },
  {
   "cell_type": "code",
   "execution_count": 209,
   "metadata": {
    "ExecuteTime": {
     "end_time": "2019-10-11T13:25:36.050383Z",
     "start_time": "2019-10-11T13:25:35.816200Z"
    },
    "scrolled": true
   },
   "outputs": [
    {
     "data": {
      "image/png": "[encoded data removed]",
      "text/plain": [
       "<Figure size 432x288 with 1 Axes>"
      ]
     },
     "metadata": {
      "needs_background": "light"
     },
     "output_type": "display_data"
    }
   ],
   "source": [
    "plt.hist(tcc.tenure)\n",
    "plt.xlabel('tenure')\n",
    "plt.title(\"Tenure Distribution\");"
   ]
  },
  {
   "cell_type": "markdown",
   "metadata": {},
   "source": [
    "The majority of the customers in our sample are new clients. There is also a high number of people with a tenure around 70 months. Most likely the company is not older than 72 months, and there either was a strong incentive for subscription (like a competitive launch offer, which could explain the high number through efficient retention rates) or there was some form of selection bias (the offers were unique on the market and highly valued by a group of customers, leading to fast market saturation, which could explain the high number by keeping the retention rate constant and leveraging high sales volumes). These are the only two reasons that can explain such a sharp kickstart in the number of subscriptions and their sudden drop."
   ]
  },
  {
   "cell_type": "markdown",
   "metadata": {},
   "source": [
    "### Contract distribution"
   ]
  },
  {
   "cell_type": "code",
   "execution_count": 210,
   "metadata": {
    "ExecuteTime": {
     "end_time": "2019-10-11T13:25:36.277306Z",
     "start_time": "2019-10-11T13:25:36.140797Z"
    }
   },
   "outputs": [
    {
     "data": {
      "image/png": "[encoded data removed]",
      "text/plain": [
       "<Figure size 432x288 with 1 Axes>"
      ]
     },
     "metadata": {
      "needs_background": "light"
     },
     "output_type": "display_data"
    }
   ],
   "source": [
    "contract = (tcc['Contract'].value_counts()*100.0 /len(tcc)).plot(kind='bar', stacked = True,\\\n",
    "                                                rot = 0, color = ['orange','blue','magenta'])\n",
    "  \n",
    "contract.yaxis.set_major_formatter(mtick.PercentFormatter())\n",
    "contract.set_ylabel('Customers')\n",
    "contract.set_xlabel('Contract')\n",
    "contract.set_ylabel('Customers')\n",
    "contract.set_title('Contract distribution');"
   ]
  },
  {
   "cell_type": "markdown",
   "metadata": {},
   "source": [
    "More than half customers have a month-to-month contract."
   ]
  },
  {
   "cell_type": "markdown",
   "metadata": {},
   "source": [
    "## Train-test split\n",
    "\n",
    "Before building our predictive model, we will split the dataset into train and test set, in order to measure the accuracy of our model."
   ]
  },
  {
   "cell_type": "code",
   "execution_count": 211,
   "metadata": {
    "ExecuteTime": {
     "end_time": "2019-10-11T13:25:36.510007Z",
     "start_time": "2019-10-11T13:25:36.495269Z"
    }
   },
   "outputs": [],
   "source": [
    "msk = np.random.rand(len(tcc)) < 0.8\n",
    "test = tcc[~msk]\n",
    "tcc = tcc[msk]"
   ]
  },
  {
   "cell_type": "markdown",
   "metadata": {},
   "source": [
    "## Dealing with Missing Values"
   ]
  },
  {
   "cell_type": "code",
   "execution_count": 212,
   "metadata": {
    "ExecuteTime": {
     "end_time": "2019-10-11T13:25:36.714678Z",
     "start_time": "2019-10-11T13:25:36.674877Z"
    }
   },
   "outputs": [
    {
     "data": {
      "text/html": [
       "<div>\n",
       "<style scoped>\n",
       "    .dataframe tbody tr th:only-of-type {\n",
       "        vertical-align: middle;\n",
       "    }\n",
       "\n",
       "    .dataframe tbody tr th {\n",
       "        vertical-align: top;\n",
       "    }\n",
       "\n",
       "    .dataframe thead th {\n",
       "        text-align: right;\n",
       "    }\n",
       "</style>\n",
       "<table border=\"1\" class=\"dataframe\">\n",
       "  <thead>\n",
       "    <tr style=\"text-align: right;\">\n",
       "      <th></th>\n",
       "      <th>Missing?</th>\n",
       "      <th>dtype</th>\n",
       "    </tr>\n",
       "  </thead>\n",
       "  <tbody>\n",
       "    <tr>\n",
       "      <td>customerID</td>\n",
       "      <td>False</td>\n",
       "      <td>object</td>\n",
       "    </tr>\n",
       "    <tr>\n",
       "      <td>gender</td>\n",
       "      <td>False</td>\n",
       "      <td>object</td>\n",
       "    </tr>\n",
       "    <tr>\n",
       "      <td>SeniorCitizen</td>\n",
       "      <td>False</td>\n",
       "      <td>int64</td>\n",
       "    </tr>\n",
       "    <tr>\n",
       "      <td>Partner</td>\n",
       "      <td>False</td>\n",
       "      <td>object</td>\n",
       "    </tr>\n",
       "    <tr>\n",
       "      <td>Dependents</td>\n",
       "      <td>False</td>\n",
       "      <td>object</td>\n",
       "    </tr>\n",
       "    <tr>\n",
       "      <td>tenure</td>\n",
       "      <td>False</td>\n",
       "      <td>int64</td>\n",
       "    </tr>\n",
       "    <tr>\n",
       "      <td>PhoneService</td>\n",
       "      <td>False</td>\n",
       "      <td>object</td>\n",
       "    </tr>\n",
       "    <tr>\n",
       "      <td>MultipleLines</td>\n",
       "      <td>False</td>\n",
       "      <td>object</td>\n",
       "    </tr>\n",
       "    <tr>\n",
       "      <td>InternetService</td>\n",
       "      <td>False</td>\n",
       "      <td>object</td>\n",
       "    </tr>\n",
       "    <tr>\n",
       "      <td>OnlineSecurity</td>\n",
       "      <td>False</td>\n",
       "      <td>object</td>\n",
       "    </tr>\n",
       "    <tr>\n",
       "      <td>OnlineBackup</td>\n",
       "      <td>False</td>\n",
       "      <td>object</td>\n",
       "    </tr>\n",
       "    <tr>\n",
       "      <td>DeviceProtection</td>\n",
       "      <td>False</td>\n",
       "      <td>object</td>\n",
       "    </tr>\n",
       "    <tr>\n",
       "      <td>TechSupport</td>\n",
       "      <td>False</td>\n",
       "      <td>object</td>\n",
       "    </tr>\n",
       "    <tr>\n",
       "      <td>StreamingTV</td>\n",
       "      <td>False</td>\n",
       "      <td>object</td>\n",
       "    </tr>\n",
       "    <tr>\n",
       "      <td>StreamingMovies</td>\n",
       "      <td>False</td>\n",
       "      <td>object</td>\n",
       "    </tr>\n",
       "    <tr>\n",
       "      <td>Contract</td>\n",
       "      <td>False</td>\n",
       "      <td>object</td>\n",
       "    </tr>\n",
       "    <tr>\n",
       "      <td>PaperlessBilling</td>\n",
       "      <td>False</td>\n",
       "      <td>object</td>\n",
       "    </tr>\n",
       "    <tr>\n",
       "      <td>PaymentMethod</td>\n",
       "      <td>False</td>\n",
       "      <td>object</td>\n",
       "    </tr>\n",
       "    <tr>\n",
       "      <td>MonthlyCharges</td>\n",
       "      <td>False</td>\n",
       "      <td>float64</td>\n",
       "    </tr>\n",
       "    <tr>\n",
       "      <td>TotalCharges</td>\n",
       "      <td>False</td>\n",
       "      <td>object</td>\n",
       "    </tr>\n",
       "    <tr>\n",
       "      <td>Churn</td>\n",
       "      <td>False</td>\n",
       "      <td>object</td>\n",
       "    </tr>\n",
       "  </tbody>\n",
       "</table>\n",
       "</div>"
      ],
      "text/plain": [
       "                  Missing?    dtype\n",
       "customerID           False   object\n",
       "gender               False   object\n",
       "SeniorCitizen        False    int64\n",
       "Partner              False   object\n",
       "Dependents           False   object\n",
       "tenure               False    int64\n",
       "PhoneService         False   object\n",
       "MultipleLines        False   object\n",
       "InternetService      False   object\n",
       "OnlineSecurity       False   object\n",
       "OnlineBackup         False   object\n",
       "DeviceProtection     False   object\n",
       "TechSupport          False   object\n",
       "StreamingTV          False   object\n",
       "StreamingMovies      False   object\n",
       "Contract             False   object\n",
       "PaperlessBilling     False   object\n",
       "PaymentMethod        False   object\n",
       "MonthlyCharges       False  float64\n",
       "TotalCharges         False   object\n",
       "Churn                False   object"
      ]
     },
     "execution_count": 212,
     "metadata": {},
     "output_type": "execute_result"
    }
   ],
   "source": [
    "missing_values = []\n",
    "for col in tcc.columns:\n",
    "    missing_values.append(tcc[col].isna().any())\n",
    "\n",
    "missing_values = pd.DataFrame(np.array(missing_values).reshape(1, 21))\n",
    "missing_values.columns = tcc.columns\n",
    "missing_values_table   = tcc.append(missing_values).tail(1)\n",
    "missing_values_table   = missing_values_table.astype(bool)\n",
    "missing_values_table   = missing_values_table.transpose()\n",
    "missing_values_table.columns = [\"Missing?\"]\n",
    "\n",
    "missing_values_table[\"dtype\"] = tcc.dtypes\n",
    "missing_values_table"
   ]
  },
  {
   "cell_type": "markdown",
   "metadata": {},
   "source": [
    "The dtypes are not coherent with logic. There's no point in encoding TotalCharges as a string and MonthlyCharges as a float, or PhoneService as Yes/No and SeniorCitizen as a 0/1 dummy. Let's fix that."
   ]
  },
  {
   "cell_type": "code",
   "execution_count": 213,
   "metadata": {
    "ExecuteTime": {
     "end_time": "2019-10-11T13:25:36.874707Z",
     "start_time": "2019-10-11T13:25:36.868719Z"
    }
   },
   "outputs": [
    {
     "name": "stdout",
     "output_type": "stream",
     "text": [
      "We can't convert this column to floats, there must be some non-convertible values\n"
     ]
    }
   ],
   "source": [
    "try:\n",
    "    tcc.TotalCharges.astype(\"float64\")\n",
    "except ValueError:\n",
    "    print(\"We can't convert this column to floats, there must be some non-convertible values\")"
   ]
  },
  {
   "cell_type": "code",
   "execution_count": 214,
   "metadata": {
    "ExecuteTime": {
     "end_time": "2019-10-11T13:25:36.898024Z",
     "start_time": "2019-10-11T13:25:36.877766Z"
    }
   },
   "outputs": [
    {
     "name": "stdout",
     "output_type": "stream",
     "text": [
      "         10\n",
      "20.2      9\n",
      "19.9      8\n",
      "19.55     7\n",
      "19.75     6\n",
      "Name: TotalCharges, dtype: int64\n",
      "\n",
      "We have 11 observations that take an empty string value. Let's drop that. The string we want to drop is:\n"
     ]
    },
    {
     "data": {
      "text/plain": [
       "'20.2'"
      ]
     },
     "execution_count": 214,
     "metadata": {},
     "output_type": "execute_result"
    }
   ],
   "source": [
    "print(tcc.TotalCharges.value_counts().head())\n",
    "print(\"\")\n",
    "print(\"We have 11 observations that take an empty string value. Let's drop that. The string we want to drop is:\")\n",
    "tcc.TotalCharges.value_counts().index[1]"
   ]
  },
  {
   "cell_type": "markdown",
   "metadata": {},
   "source": [
    "Let's drop the observations with empty values, reset the index and now we should be able to convert the TotalCharges column to float:"
   ]
  },
  {
   "cell_type": "code",
   "execution_count": 215,
   "metadata": {
    "ExecuteTime": {
     "end_time": "2019-10-11T13:25:37.056011Z",
     "start_time": "2019-10-11T13:25:37.049221Z"
    }
   },
   "outputs": [],
   "source": [
    "def fill_missing(df):\n",
    "    df.drop(df[df.TotalCharges == \" \"].index, axis = 0, inplace = True)\n",
    "    df.reset_index(drop = True, inplace = True)\n",
    "    df.TotalCharges = df.TotalCharges.astype(\"float64\")\n",
    "    return df"
   ]
  },
  {
   "cell_type": "code",
   "execution_count": 216,
   "metadata": {
    "ExecuteTime": {
     "end_time": "2019-10-11T13:25:37.076258Z",
     "start_time": "2019-10-11T13:25:37.059550Z"
    }
   },
   "outputs": [],
   "source": [
    "tcc = fill_missing(tcc)"
   ]
  },
  {
   "cell_type": "markdown",
   "metadata": {},
   "source": [
    "Let's compute some last computations before extracting the Dummy Variables from our dataset and proceeding to the Regression Part."
   ]
  },
  {
   "cell_type": "code",
   "execution_count": 217,
   "metadata": {
    "ExecuteTime": {
     "end_time": "2019-10-11T13:25:43.709194Z",
     "start_time": "2019-10-11T13:25:43.677683Z"
    }
   },
   "outputs": [
    {
     "name": "stdout",
     "output_type": "stream",
     "text": [
      "customerID: ['7590-VHVEG' '5575-GNVDE' '3668-QPYBK' ... '2234-XADUH' '4801-JZAZL'\n",
      " '3186-AJIEK']\n",
      "gender: ['Female' 'Male']\n",
      "SeniorCitizen: [0 1]\n",
      "Partner: ['Yes' 'No']\n",
      "Dependents: ['No' 'Yes']\n",
      "tenure: [ 1 34  2 45  8 22 28 62 13 58 49 25 69 52 71 10 12 30 47 72 17  5 46 11\n",
      " 63 43 15 60 18 66  9 50  3 56  7 42 35 48 65 38 68 32 55 37 64 36 41 27\n",
      "  6  4 33 23 57 14 16 53 20 40 59 24 19 61 29 31 54 51 67 21 70 44 39 26]\n",
      "PhoneService: ['No' 'Yes']\n",
      "MultipleLines: ['No phone service' 'No' 'Yes']\n",
      "InternetService: ['DSL' 'Fiber optic' 'No']\n",
      "OnlineSecurity: ['No' 'Yes' 'No internet service']\n",
      "OnlineBackup: ['Yes' 'No' 'No internet service']\n",
      "DeviceProtection: ['No' 'Yes' 'No internet service']\n",
      "TechSupport: ['No' 'Yes' 'No internet service']\n",
      "StreamingTV: ['No' 'Yes' 'No internet service']\n",
      "StreamingMovies: ['No' 'Yes' 'No internet service']\n",
      "Contract: ['Month-to-month' 'One year' 'Two year']\n",
      "PaperlessBilling: ['Yes' 'No']\n",
      "PaymentMethod: ['Electronic check' 'Mailed check' 'Bank transfer (automatic)'\n",
      " 'Credit card (automatic)']\n",
      "MonthlyCharges: [ 29.85  56.95  53.85 ...  64.1  102.95  78.7 ]\n",
      "TotalCharges: [  29.85 1889.5   108.15 ... 7362.9   346.45 6844.5 ]\n",
      "Churn: ['No' 'Yes']\n"
     ]
    }
   ],
   "source": [
    "for col in tcc.columns:\n",
    "    print(\"{0}: {1}\".format(col, tcc.loc[:, col].unique()))"
   ]
  },
  {
   "cell_type": "code",
   "execution_count": 218,
   "metadata": {
    "ExecuteTime": {
     "end_time": "2019-10-11T13:25:48.333988Z",
     "start_time": "2019-10-11T13:25:47.408770Z"
    }
   },
   "outputs": [
    {
     "data": {
      "image/png": "[encoded data removed]",
      "text/plain": [
       "<Figure size 1152x720 with 6 Axes>"
      ]
     },
     "metadata": {
      "needs_background": "light"
     },
     "output_type": "display_data"
    }
   ],
   "source": [
    "fig, axis = plt.subplots(nrows = 2, ncols = 3, figsize = (16, 10))\n",
    "\n",
    "gb = tcc.groupby(\"InternetService\")[\"Churn\"].value_counts()/len(tcc)\n",
    "gb = gb.to_frame().rename({\"Churn\": \"% of customers\"}, axis = 1).reset_index()\n",
    "sns.barplot(x = \"InternetService\", y = \"% of customers\", data = gb, hue = \"Churn\", ax = axis[0][0]).set_title(\"Internet Service and Churn\");\n",
    "\n",
    "gb = tcc.groupby(\"PhoneService\")[\"Churn\"].value_counts()/len(tcc)\n",
    "gb = gb.to_frame().rename({\"Churn\": \"% of customers\"}, axis = 1).reset_index()\n",
    "sns.barplot(x = \"PhoneService\", y = \"% of customers\", data = gb, hue = \"Churn\", ax = axis[0][1]).set_title(\"Phone Service and Churn\");\n",
    "\n",
    "gb = tcc.groupby(\"MultipleLines\")[\"Churn\"].value_counts()/len(tcc)\n",
    "gb = gb.to_frame().rename({\"Churn\": \"% of customers\"}, axis = 1).reset_index()\n",
    "sns.barplot(x = \"MultipleLines\", y = \"% of customers\", data = gb, hue = \"Churn\", ax = axis[0][2]).set_title(\"Multiple Lines Phone Option and Churn\");\n",
    "\n",
    "gb = tcc.groupby(\"Contract\")[\"Churn\"].value_counts()/len(tcc)\n",
    "gb = gb.to_frame().rename({\"Churn\": \"% of customers\"}, axis = 1).reset_index()\n",
    "sns.barplot(x = \"Contract\", y = \"% of customers\", data = gb, hue = \"Churn\", ax = axis[1][1]).set_title(\"Contract Type and Churn\");"
   ]
  },
  {
   "cell_type": "markdown",
   "metadata": {},
   "source": [
    "We notice that The customers with Fiber optic tend to churn a lot more when compared to DSL and No Internet. Maybe the Internet connection offered is low-quality? (Other option: Elder Customers don't need an internet connection. Spoiler: No. See following graph that proves that elderly are proportionally more connected than youngsters and are only a reduced percentage of the population).\n",
    "\n",
    "MultipleLines do not seem to affect the churn rate.\n",
    "\n",
    "Shorter-term contract renewals are highly correlated with the churn rate. But most likely it's an omitted variable bias issue: the more I trust a provider, the more I reason in long-terms with it."
   ]
  },
  {
   "cell_type": "code",
   "execution_count": 219,
   "metadata": {
    "ExecuteTime": {
     "end_time": "2019-10-11T13:25:54.233464Z",
     "start_time": "2019-10-11T13:25:54.069088Z"
    }
   },
   "outputs": [
    {
     "data": {
      "image/png": "[encoded data removed]",
      "text/plain": [
       "<Figure size 432x288 with 1 Axes>"
      ]
     },
     "metadata": {
      "needs_background": "light"
     },
     "output_type": "display_data"
    }
   ],
   "source": [
    "gb = tcc.groupby(\"SeniorCitizen\")[\"InternetService\"].value_counts()/len(tcc)\n",
    "gb = gb.to_frame().rename({\"InternetService\": \"% of customers\"}, axis = 1).reset_index()\n",
    "sns.barplot(x = \"SeniorCitizen\", y = \"% of customers\", data = gb, hue = \"InternetService\").set_title(\"Age Group and Internet Connection\");"
   ]
  },
  {
   "cell_type": "markdown",
   "metadata": {},
   "source": [
    "Now we want to see how the \"Additional Internet Services\" that follow the variable pattern: [\"No\", \"Yes\", \"No internet service\"] affect the churn rate."
   ]
  },
  {
   "cell_type": "code",
   "execution_count": 220,
   "metadata": {
    "ExecuteTime": {
     "end_time": "2019-10-11T13:25:57.111214Z",
     "start_time": "2019-10-11T13:25:56.241382Z"
    }
   },
   "outputs": [
    {
     "data": {
      "image/png": "[encoded data removed]",
      "text/plain": [
       "<Figure size 1152x720 with 6 Axes>"
      ]
     },
     "metadata": {
      "needs_background": "light"
     },
     "output_type": "display_data"
    }
   ],
   "source": [
    "fig, axis = plt.subplots(nrows = 2, ncols = 3, figsize = (16, 10))\n",
    "\n",
    "gb = tcc.groupby(\"OnlineSecurity\")[\"Churn\"].value_counts()/len(tcc)\n",
    "gb = gb.to_frame().rename({\"Churn\": \"% of customers\"}, axis = 1).reset_index()\n",
    "sns.barplot(x = \"OnlineSecurity\", y = \"% of customers\", data = gb, hue = \"Churn\", ax = axis[0][0]).set_title(\"OnlineSecurity Internet Service and Churn\")\n",
    "\n",
    "gb = tcc.groupby(\"OnlineBackup\")[\"Churn\"].value_counts()/len(tcc)\n",
    "gb = gb.to_frame().rename({\"Churn\": \"% of customers\"}, axis = 1).reset_index()\n",
    "sns.barplot(x = \"OnlineBackup\", y = \"% of customers\", data = gb, hue = \"Churn\", ax = axis[0][1]).set_title(\"OnlineBackup Internet Service and Churn\")\n",
    "\n",
    "gb = tcc.groupby(\"DeviceProtection\")[\"Churn\"].value_counts()/len(tcc)\n",
    "gb = gb.to_frame().rename({\"Churn\": \"% of customers\"}, axis = 1).reset_index()\n",
    "sns.barplot(x = \"DeviceProtection\", y = \"% of customers\", data = gb, hue = \"Churn\", ax = axis[0][2]).set_title(\"DeviceProtection Internet Service and Churn\")\n",
    "\n",
    "gb = tcc.groupby(\"TechSupport\")[\"Churn\"].value_counts()/len(tcc)\n",
    "gb = gb.to_frame().rename({\"Churn\": \"% of customers\"}, axis = 1).reset_index()\n",
    "sns.barplot(x = \"TechSupport\", y = \"% of customers\", data = gb, hue = \"Churn\", ax = axis[1][0]).set_title(\"TechSupport Internet Service and Churn\")\n",
    "\n",
    "gb = tcc.groupby(\"StreamingTV\")[\"Churn\"].value_counts()/len(tcc)\n",
    "gb = gb.to_frame().rename({\"Churn\": \"% of customers\"}, axis = 1).reset_index()\n",
    "sns.barplot(x = \"StreamingTV\", y = \"% of customers\", data = gb, hue = \"Churn\", ax = axis[1][1]).set_title(\"StreamingTV Internet Service and Churn\")\n",
    "\n",
    "gb = tcc.groupby(\"StreamingMovies\")[\"Churn\"].value_counts()/len(tcc)\n",
    "gb = gb.to_frame().rename({\"Churn\": \"% of customers\"}, axis = 1).reset_index()\n",
    "sns.barplot(x = \"StreamingMovies\", y = \"% of customers\", data = gb, hue = \"Churn\", ax = axis[1][2]).set_title(\"StreamingMovies Internet Service and Churn\");"
   ]
  },
  {
   "cell_type": "markdown",
   "metadata": {},
   "source": [
    "- OnlineSecurity, OnlineBackup, TechSupport seem to have a significant impact on lowering the churn. If the company wants to lower the churn rate, It may be a good idea to include these services as standard in the following order: OnlineSecurity, TechSupport, OnlineBackUp, DeviceProtection (although removing the internet connection service altogether may be potentially be more beneficial, at least the Fiber one; see graphs above for details). Although unlikely, it is also possible that these services get cumulated with tenure, and thus their effect on the churn only reflects the negative impact of tenure on the churn rate; in the next cells we will try to figure out whether this is true or not.\n",
    "\n",
    "- StreamingTV and StreamingMovies do not seem to have a large enough effect on customer Churn Rate."
   ]
  },
  {
   "cell_type": "markdown",
   "metadata": {},
   "source": [
    "To assess whether additional services are accumulated through tenure (e.g. fidalty programs), we run a lmplot for each additional Internet service."
   ]
  },
  {
   "cell_type": "code",
   "execution_count": 221,
   "metadata": {
    "ExecuteTime": {
     "end_time": "2019-10-11T13:26:01.306169Z",
     "start_time": "2019-10-11T13:26:00.951408Z"
    }
   },
   "outputs": [
    {
     "data": {
      "image/png": "[encoded data removed]",
      "text/plain": [
       "<Figure size 360x360 with 1 Axes>"
      ]
     },
     "metadata": {
      "needs_background": "light"
     },
     "output_type": "display_data"
    }
   ],
   "source": [
    "gb = tcc[(tcc.OnlineSecurity != \"No internet service\")].replace([\"Yes\", \"No\"], [1, 0]).groupby(\"tenure\")[\"OnlineSecurity\"].sum().to_frame().reset_index()\n",
    "sns.lmplot(\"tenure\", \"OnlineSecurity\", data = gb, line_kws={'color': 'red'}, lowess = True);\n",
    "ax = plt.gca()\n",
    "ax.set_title(\"Number of OnlineSecurity subscribers per Tenure level\");"
   ]
  },
  {
   "cell_type": "code",
   "execution_count": 222,
   "metadata": {
    "ExecuteTime": {
     "end_time": "2019-10-11T13:26:01.829079Z",
     "start_time": "2019-10-11T13:26:01.481227Z"
    }
   },
   "outputs": [
    {
     "data": {
      "image/png": "[encoded data removed]",
      "text/plain": [
       "<Figure size 360x360 with 1 Axes>"
      ]
     },
     "metadata": {
      "needs_background": "light"
     },
     "output_type": "display_data"
    }
   ],
   "source": [
    "gb = tcc[(tcc.OnlineSecurity != \"No internet service\")].replace([\"Yes\", \"No\"], [1, 0]).groupby(\"tenure\")[\"OnlineBackup\"].sum().to_frame().reset_index()\n",
    "sns.lmplot(\"tenure\", \"OnlineBackup\", data = gb, line_kws={'color': 'red'}, lowess = True)\n",
    "ax = plt.gca()\n",
    "ax.set_title(\"Number of OnlineBackup subscribers per Tenure level\");"
   ]
  },
  {
   "cell_type": "code",
   "execution_count": 223,
   "metadata": {
    "ExecuteTime": {
     "end_time": "2019-10-11T13:26:05.643514Z",
     "start_time": "2019-10-11T13:26:05.302764Z"
    }
   },
   "outputs": [
    {
     "data": {
      "image/png": "[encoded data removed]",
      "text/plain": [
       "<Figure size 360x360 with 1 Axes>"
      ]
     },
     "metadata": {
      "needs_background": "light"
     },
     "output_type": "display_data"
    }
   ],
   "source": [
    "gb = tcc[(tcc.OnlineSecurity != \"No internet service\")].replace([\"Yes\", \"No\"], [1, 0]).groupby(\"tenure\")[\"DeviceProtection\"].sum().to_frame().reset_index()\n",
    "sns.lmplot(\"tenure\", \"DeviceProtection\", data = gb, line_kws={'color': 'red'}, lowess = True)\n",
    "ax = plt.gca()\n",
    "ax.set_title(\"Number of DeviceProtection subscribers per Tenure level\");"
   ]
  },
  {
   "cell_type": "code",
   "execution_count": 224,
   "metadata": {
    "ExecuteTime": {
     "end_time": "2019-10-11T13:26:06.509191Z",
     "start_time": "2019-10-11T13:26:06.175148Z"
    }
   },
   "outputs": [
    {
     "data": {
      "image/png": "[encoded data removed]",
      "text/plain": [
       "<Figure size 360x360 with 1 Axes>"
      ]
     },
     "metadata": {
      "needs_background": "light"
     },
     "output_type": "display_data"
    }
   ],
   "source": [
    "gb = tcc[(tcc.OnlineSecurity != \"No internet service\")].replace([\"Yes\", \"No\"], [1, 0]).groupby(\"tenure\")[\"TechSupport\"].sum().to_frame().reset_index()\n",
    "sns.lmplot(\"tenure\", \"TechSupport\", data = gb, line_kws={'color': 'red'}, lowess = True)\n",
    "ax = plt.gca()\n",
    "ax.set_title(\"Number of TechSupport subscribers per Tenure level\");"
   ]
  },
  {
   "cell_type": "code",
   "execution_count": 225,
   "metadata": {
    "ExecuteTime": {
     "end_time": "2019-10-11T13:26:08.441850Z",
     "start_time": "2019-10-11T13:26:08.095090Z"
    }
   },
   "outputs": [
    {
     "data": {
      "image/png": "[encoded data removed]",
      "text/plain": [
       "<Figure size 360x360 with 1 Axes>"
      ]
     },
     "metadata": {
      "needs_background": "light"
     },
     "output_type": "display_data"
    }
   ],
   "source": [
    "gb = tcc[(tcc.OnlineSecurity != \"No internet service\")].replace([\"Yes\", \"No\"], [1, 0]).groupby(\"tenure\")[\"StreamingTV\"].sum().to_frame().reset_index()\n",
    "sns.lmplot(\"tenure\", \"StreamingTV\", data = gb, line_kws={'color': 'red'}, lowess = True)\n",
    "ax = plt.gca()\n",
    "ax.set_title(\"Number of StreamingTV subscribers per Tenure level\");"
   ]
  },
  {
   "cell_type": "code",
   "execution_count": 226,
   "metadata": {
    "ExecuteTime": {
     "end_time": "2019-10-11T13:26:10.232717Z",
     "start_time": "2019-10-11T13:26:09.885920Z"
    }
   },
   "outputs": [
    {
     "data": {
      "image/png": "[encoded data removed]",
      "text/plain": [
       "<Figure size 360x360 with 1 Axes>"
      ]
     },
     "metadata": {
      "needs_background": "light"
     },
     "output_type": "display_data"
    }
   ],
   "source": [
    "gb = tcc[(tcc.OnlineSecurity != \"No internet service\")].replace([\"Yes\", \"No\"], [1, 0]).groupby(\"tenure\")[\"StreamingMovies\"].sum().to_frame().reset_index()\n",
    "sns.lmplot(\"tenure\", \"StreamingMovies\", data = gb, line_kws={'color': 'red'}, lowess = True)\n",
    "ax = plt.gca()\n",
    "ax.set_title(\"Number of StreamingMovies subscribers per Tenure level\");"
   ]
  },
  {
   "cell_type": "markdown",
   "metadata": {},
   "source": [
    "The absolute number of each Additional Service seems to move in syncro with the others as tenure increases. It does not seem that there is any significant correlation between the number of active Additional Services and tenure, although people with borderline tenures have an extremely high number of Additional Services.\n",
    "\n",
    "It's weird that so many people with high tenures have so many additional services. Is it just that there are many people with maximum tenure although the percentage of additional services across tenure level stays the same? Hypothesis: at the beginning, the company had a launch offer all-included. Let's check the percentages of people that have these services for each tenure level."
   ]
  },
  {
   "cell_type": "code",
   "execution_count": 227,
   "metadata": {
    "ExecuteTime": {
     "end_time": "2019-10-11T13:26:12.298092Z",
     "start_time": "2019-10-11T13:26:11.908503Z"
    }
   },
   "outputs": [
    {
     "data": {
      "image/png": "[encoded data removed]",
      "text/plain": [
       "<Figure size 360x360 with 1 Axes>"
      ]
     },
     "metadata": {
      "needs_background": "light"
     },
     "output_type": "display_data"
    }
   ],
   "source": [
    "gb = tcc[(tcc.OnlineSecurity != \"No internet service\")].replace([\"Yes\", \"No\"], [1, 0])\n",
    "gb[\"AllServices\"] = gb.OnlineSecurity*gb.OnlineBackup*gb.DeviceProtection*gb.TechSupport*gb.StreamingTV*gb.StreamingMovies\n",
    "sns.lmplot(\"tenure\", \"AllServices\", data = gb, line_kws={'color': 'red'}, lowess = True);\n",
    "ax = plt.gca()\n",
    "ax.set_title(\"Percentage of subscribers to all services per Tenure level\");"
   ]
  },
  {
   "cell_type": "code",
   "execution_count": 228,
   "metadata": {
    "ExecuteTime": {
     "end_time": "2019-10-11T13:26:17.787364Z",
     "start_time": "2019-10-11T13:26:17.663296Z"
    }
   },
   "outputs": [],
   "source": [
    "tvc = gb.tenure.value_counts()\n",
    "i = []\n",
    "v = []\n",
    "for tenure in tvc.index:\n",
    "    i.append(tenure)\n",
    "    v.append(len(gb[(gb.tenure == tenure) & (gb.AllServices == 1)])/len(gb[gb.tenure == tenure]))"
   ]
  },
  {
   "cell_type": "code",
   "execution_count": 229,
   "metadata": {
    "ExecuteTime": {
     "end_time": "2019-10-11T13:26:18.173169Z",
     "start_time": "2019-10-11T13:26:17.843050Z"
    },
    "scrolled": false
   },
   "outputs": [
    {
     "data": {
      "image/png": "[encoded data removed]",
      "text/plain": [
       "<Figure size 360x360 with 1 Axes>"
      ]
     },
     "metadata": {
      "needs_background": "light"
     },
     "output_type": "display_data"
    }
   ],
   "source": [
    "df = pd.DataFrame(data = v, index = i, columns = [\"%AllServices\"]).reset_index().sort_values(\"index\").reset_index(drop = True).rename({\"index\": \"tenure\"}, axis = 1)\n",
    "sns.lmplot(\"tenure\", \"%AllServices\", data = df, line_kws={'color': 'red'}, lowess = True)\n",
    "ax = plt.gca()\n",
    "ax.set_title(\"Percentage of Customers with all Additional Services Active per Tenure level\");"
   ]
  },
  {
   "cell_type": "code",
   "execution_count": 230,
   "metadata": {
    "ExecuteTime": {
     "end_time": "2019-10-11T13:26:20.070670Z",
     "start_time": "2019-10-11T13:26:19.838491Z"
    }
   },
   "outputs": [
    {
     "data": {
      "image/png": "[encoded data removed]",
      "text/plain": [
       "<Figure size 432x288 with 1 Axes>"
      ]
     },
     "metadata": {
      "needs_background": "light"
     },
     "output_type": "display_data"
    }
   ],
   "source": [
    "plt.plot(df.tenure, df[\"%AllServices\"]);\n",
    "ax = plt.gca()\n",
    "ax.set_title(\"Trend in percentage of customers subscribed to all services for each tenure level\");"
   ]
  },
  {
   "cell_type": "markdown",
   "metadata": {},
   "source": [
    "<a id='HERE'></a>"
   ]
  },
  {
   "cell_type": "markdown",
   "metadata": {},
   "source": [
    "Indeed, it seems that the people who subscribed for first have many additional services. Possible explanations:\n",
    "- Launch offer: all additional services forever included at a discounted price.\n",
    "- Selection bias: the first customers are the ones who appreciate the most the services offered by the company.\n",
    "\n",
    "Either case, we can dismiss the hypothesis that additional services are accumulated through tenure, for two reasons:\n",
    "- There is a strong spike up in the percentage and number of users with all the services around tenure = 70. Nonetheless, the trend in percentage of users with all the services grows constantly, while the absolute number of the individual services stays pretty much constant across tenure levels. This means the the increase in percentage is justifiable only by a convenient launch offer all-inclusive, that rules out the large amount of active offers for customers with extremely high tenure. [This regression](#another_cell) confirms our result;\n",
    "- if there was a cumulation of benefits, the drop on the 69th tenure value could be hardly justifiable, whereas it could be justified by a change in the offer or a decrease in interest towards the company."
   ]
  },
  {
   "cell_type": "markdown",
   "metadata": {},
   "source": [
    "### Encoding the dummy variables"
   ]
  },
  {
   "cell_type": "code",
   "execution_count": 231,
   "metadata": {
    "ExecuteTime": {
     "end_time": "2019-10-11T13:27:18.454318Z",
     "start_time": "2019-10-11T13:27:18.448188Z"
    }
   },
   "outputs": [],
   "source": [
    "def get_dummy(df):\n",
    "    df = pd.get_dummies(df.iloc[:, 1 :])\n",
    "    return df"
   ]
  },
  {
   "cell_type": "code",
   "execution_count": 232,
   "metadata": {
    "ExecuteTime": {
     "end_time": "2019-10-11T13:27:19.164428Z",
     "start_time": "2019-10-11T13:27:19.109354Z"
    }
   },
   "outputs": [
    {
     "data": {
      "text/html": [
       "<div>\n",
       "<style scoped>\n",
       "    .dataframe tbody tr th:only-of-type {\n",
       "        vertical-align: middle;\n",
       "    }\n",
       "\n",
       "    .dataframe tbody tr th {\n",
       "        vertical-align: top;\n",
       "    }\n",
       "\n",
       "    .dataframe thead th {\n",
       "        text-align: right;\n",
       "    }\n",
       "</style>\n",
       "<table border=\"1\" class=\"dataframe\">\n",
       "  <thead>\n",
       "    <tr style=\"text-align: right;\">\n",
       "      <th></th>\n",
       "      <th>SeniorCitizen</th>\n",
       "      <th>tenure</th>\n",
       "      <th>MonthlyCharges</th>\n",
       "      <th>TotalCharges</th>\n",
       "      <th>gender_Female</th>\n",
       "      <th>gender_Male</th>\n",
       "      <th>Partner_No</th>\n",
       "      <th>Partner_Yes</th>\n",
       "      <th>Dependents_No</th>\n",
       "      <th>Dependents_Yes</th>\n",
       "      <th>PhoneService_No</th>\n",
       "      <th>PhoneService_Yes</th>\n",
       "      <th>MultipleLines_No</th>\n",
       "      <th>MultipleLines_No phone service</th>\n",
       "      <th>MultipleLines_Yes</th>\n",
       "      <th>InternetService_DSL</th>\n",
       "      <th>InternetService_Fiber optic</th>\n",
       "      <th>InternetService_No</th>\n",
       "      <th>OnlineSecurity_No</th>\n",
       "      <th>OnlineSecurity_No internet service</th>\n",
       "      <th>OnlineSecurity_Yes</th>\n",
       "      <th>OnlineBackup_No</th>\n",
       "      <th>OnlineBackup_No internet service</th>\n",
       "      <th>OnlineBackup_Yes</th>\n",
       "      <th>DeviceProtection_No</th>\n",
       "      <th>DeviceProtection_No internet service</th>\n",
       "      <th>DeviceProtection_Yes</th>\n",
       "      <th>TechSupport_No</th>\n",
       "      <th>TechSupport_No internet service</th>\n",
       "      <th>TechSupport_Yes</th>\n",
       "      <th>StreamingTV_No</th>\n",
       "      <th>StreamingTV_No internet service</th>\n",
       "      <th>StreamingTV_Yes</th>\n",
       "      <th>StreamingMovies_No</th>\n",
       "      <th>StreamingMovies_No internet service</th>\n",
       "      <th>StreamingMovies_Yes</th>\n",
       "      <th>Contract_Month-to-month</th>\n",
       "      <th>Contract_One year</th>\n",
       "      <th>Contract_Two year</th>\n",
       "      <th>PaperlessBilling_No</th>\n",
       "      <th>PaperlessBilling_Yes</th>\n",
       "      <th>PaymentMethod_Bank transfer (automatic)</th>\n",
       "      <th>PaymentMethod_Credit card (automatic)</th>\n",
       "      <th>PaymentMethod_Electronic check</th>\n",
       "      <th>PaymentMethod_Mailed check</th>\n",
       "      <th>Churn_No</th>\n",
       "      <th>Churn_Yes</th>\n",
       "    </tr>\n",
       "  </thead>\n",
       "  <tbody>\n",
       "    <tr>\n",
       "      <td>0</td>\n",
       "      <td>0</td>\n",
       "      <td>1</td>\n",
       "      <td>29.85</td>\n",
       "      <td>29.85</td>\n",
       "      <td>1</td>\n",
       "      <td>0</td>\n",
       "      <td>0</td>\n",
       "      <td>1</td>\n",
       "      <td>1</td>\n",
       "      <td>0</td>\n",
       "      <td>1</td>\n",
       "      <td>0</td>\n",
       "      <td>0</td>\n",
       "      <td>1</td>\n",
       "      <td>0</td>\n",
       "      <td>1</td>\n",
       "      <td>0</td>\n",
       "      <td>0</td>\n",
       "      <td>1</td>\n",
       "      <td>0</td>\n",
       "      <td>0</td>\n",
       "      <td>0</td>\n",
       "      <td>0</td>\n",
       "      <td>1</td>\n",
       "      <td>1</td>\n",
       "      <td>0</td>\n",
       "      <td>0</td>\n",
       "      <td>1</td>\n",
       "      <td>0</td>\n",
       "      <td>0</td>\n",
       "      <td>1</td>\n",
       "      <td>0</td>\n",
       "      <td>0</td>\n",
       "      <td>1</td>\n",
       "      <td>0</td>\n",
       "      <td>0</td>\n",
       "      <td>1</td>\n",
       "      <td>0</td>\n",
       "      <td>0</td>\n",
       "      <td>0</td>\n",
       "      <td>1</td>\n",
       "      <td>0</td>\n",
       "      <td>0</td>\n",
       "      <td>1</td>\n",
       "      <td>0</td>\n",
       "      <td>1</td>\n",
       "      <td>0</td>\n",
       "    </tr>\n",
       "    <tr>\n",
       "      <td>1</td>\n",
       "      <td>0</td>\n",
       "      <td>34</td>\n",
       "      <td>56.95</td>\n",
       "      <td>1889.50</td>\n",
       "      <td>0</td>\n",
       "      <td>1</td>\n",
       "      <td>1</td>\n",
       "      <td>0</td>\n",
       "      <td>1</td>\n",
       "      <td>0</td>\n",
       "      <td>0</td>\n",
       "      <td>1</td>\n",
       "      <td>1</td>\n",
       "      <td>0</td>\n",
       "      <td>0</td>\n",
       "      <td>1</td>\n",
       "      <td>0</td>\n",
       "      <td>0</td>\n",
       "      <td>0</td>\n",
       "      <td>0</td>\n",
       "      <td>1</td>\n",
       "      <td>1</td>\n",
       "      <td>0</td>\n",
       "      <td>0</td>\n",
       "      <td>0</td>\n",
       "      <td>0</td>\n",
       "      <td>1</td>\n",
       "      <td>1</td>\n",
       "      <td>0</td>\n",
       "      <td>0</td>\n",
       "      <td>1</td>\n",
       "      <td>0</td>\n",
       "      <td>0</td>\n",
       "      <td>1</td>\n",
       "      <td>0</td>\n",
       "      <td>0</td>\n",
       "      <td>0</td>\n",
       "      <td>1</td>\n",
       "      <td>0</td>\n",
       "      <td>1</td>\n",
       "      <td>0</td>\n",
       "      <td>0</td>\n",
       "      <td>0</td>\n",
       "      <td>0</td>\n",
       "      <td>1</td>\n",
       "      <td>1</td>\n",
       "      <td>0</td>\n",
       "    </tr>\n",
       "    <tr>\n",
       "      <td>2</td>\n",
       "      <td>0</td>\n",
       "      <td>2</td>\n",
       "      <td>53.85</td>\n",
       "      <td>108.15</td>\n",
       "      <td>0</td>\n",
       "      <td>1</td>\n",
       "      <td>1</td>\n",
       "      <td>0</td>\n",
       "      <td>1</td>\n",
       "      <td>0</td>\n",
       "      <td>0</td>\n",
       "      <td>1</td>\n",
       "      <td>1</td>\n",
       "      <td>0</td>\n",
       "      <td>0</td>\n",
       "      <td>1</td>\n",
       "      <td>0</td>\n",
       "      <td>0</td>\n",
       "      <td>0</td>\n",
       "      <td>0</td>\n",
       "      <td>1</td>\n",
       "      <td>0</td>\n",
       "      <td>0</td>\n",
       "      <td>1</td>\n",
       "      <td>1</td>\n",
       "      <td>0</td>\n",
       "      <td>0</td>\n",
       "      <td>1</td>\n",
       "      <td>0</td>\n",
       "      <td>0</td>\n",
       "      <td>1</td>\n",
       "      <td>0</td>\n",
       "      <td>0</td>\n",
       "      <td>1</td>\n",
       "      <td>0</td>\n",
       "      <td>0</td>\n",
       "      <td>1</td>\n",
       "      <td>0</td>\n",
       "      <td>0</td>\n",
       "      <td>0</td>\n",
       "      <td>1</td>\n",
       "      <td>0</td>\n",
       "      <td>0</td>\n",
       "      <td>0</td>\n",
       "      <td>1</td>\n",
       "      <td>0</td>\n",
       "      <td>1</td>\n",
       "    </tr>\n",
       "    <tr>\n",
       "      <td>3</td>\n",
       "      <td>0</td>\n",
       "      <td>45</td>\n",
       "      <td>42.30</td>\n",
       "      <td>1840.75</td>\n",
       "      <td>0</td>\n",
       "      <td>1</td>\n",
       "      <td>1</td>\n",
       "      <td>0</td>\n",
       "      <td>1</td>\n",
       "      <td>0</td>\n",
       "      <td>1</td>\n",
       "      <td>0</td>\n",
       "      <td>0</td>\n",
       "      <td>1</td>\n",
       "      <td>0</td>\n",
       "      <td>1</td>\n",
       "      <td>0</td>\n",
       "      <td>0</td>\n",
       "      <td>0</td>\n",
       "      <td>0</td>\n",
       "      <td>1</td>\n",
       "      <td>1</td>\n",
       "      <td>0</td>\n",
       "      <td>0</td>\n",
       "      <td>0</td>\n",
       "      <td>0</td>\n",
       "      <td>1</td>\n",
       "      <td>0</td>\n",
       "      <td>0</td>\n",
       "      <td>1</td>\n",
       "      <td>1</td>\n",
       "      <td>0</td>\n",
       "      <td>0</td>\n",
       "      <td>1</td>\n",
       "      <td>0</td>\n",
       "      <td>0</td>\n",
       "      <td>0</td>\n",
       "      <td>1</td>\n",
       "      <td>0</td>\n",
       "      <td>1</td>\n",
       "      <td>0</td>\n",
       "      <td>1</td>\n",
       "      <td>0</td>\n",
       "      <td>0</td>\n",
       "      <td>0</td>\n",
       "      <td>1</td>\n",
       "      <td>0</td>\n",
       "    </tr>\n",
       "    <tr>\n",
       "      <td>4</td>\n",
       "      <td>0</td>\n",
       "      <td>2</td>\n",
       "      <td>70.70</td>\n",
       "      <td>151.65</td>\n",
       "      <td>1</td>\n",
       "      <td>0</td>\n",
       "      <td>1</td>\n",
       "      <td>0</td>\n",
       "      <td>1</td>\n",
       "      <td>0</td>\n",
       "      <td>0</td>\n",
       "      <td>1</td>\n",
       "      <td>1</td>\n",
       "      <td>0</td>\n",
       "      <td>0</td>\n",
       "      <td>0</td>\n",
       "      <td>1</td>\n",
       "      <td>0</td>\n",
       "      <td>1</td>\n",
       "      <td>0</td>\n",
       "      <td>0</td>\n",
       "      <td>1</td>\n",
       "      <td>0</td>\n",
       "      <td>0</td>\n",
       "      <td>1</td>\n",
       "      <td>0</td>\n",
       "      <td>0</td>\n",
       "      <td>1</td>\n",
       "      <td>0</td>\n",
       "      <td>0</td>\n",
       "      <td>1</td>\n",
       "      <td>0</td>\n",
       "      <td>0</td>\n",
       "      <td>1</td>\n",
       "      <td>0</td>\n",
       "      <td>0</td>\n",
       "      <td>1</td>\n",
       "      <td>0</td>\n",
       "      <td>0</td>\n",
       "      <td>0</td>\n",
       "      <td>1</td>\n",
       "      <td>0</td>\n",
       "      <td>0</td>\n",
       "      <td>1</td>\n",
       "      <td>0</td>\n",
       "      <td>0</td>\n",
       "      <td>1</td>\n",
       "    </tr>\n",
       "  </tbody>\n",
       "</table>\n",
       "</div>"
      ],
      "text/plain": [
       "   SeniorCitizen  tenure  MonthlyCharges  TotalCharges  gender_Female  \\\n",
       "0              0       1           29.85         29.85              1   \n",
       "1              0      34           56.95       1889.50              0   \n",
       "2              0       2           53.85        108.15              0   \n",
       "3              0      45           42.30       1840.75              0   \n",
       "4              0       2           70.70        151.65              1   \n",
       "\n",
       "   gender_Male  Partner_No  Partner_Yes  Dependents_No  Dependents_Yes  \\\n",
       "0            0           0            1              1               0   \n",
       "1            1           1            0              1               0   \n",
       "2            1           1            0              1               0   \n",
       "3            1           1            0              1               0   \n",
       "4            0           1            0              1               0   \n",
       "\n",
       "   PhoneService_No  PhoneService_Yes  MultipleLines_No  \\\n",
       "0                1                 0                 0   \n",
       "1                0                 1                 1   \n",
       "2                0                 1                 1   \n",
       "3                1                 0                 0   \n",
       "4                0                 1                 1   \n",
       "\n",
       "   MultipleLines_No phone service  MultipleLines_Yes  InternetService_DSL  \\\n",
       "0                               1                  0                    1   \n",
       "1                               0                  0                    1   \n",
       "2                               0                  0                    1   \n",
       "3                               1                  0                    1   \n",
       "4                               0                  0                    0   \n",
       "\n",
       "   InternetService_Fiber optic  InternetService_No  OnlineSecurity_No  \\\n",
       "0                            0                   0                  1   \n",
       "1                            0                   0                  0   \n",
       "2                            0                   0                  0   \n",
       "3                            0                   0                  0   \n",
       "4                            1                   0                  1   \n",
       "\n",
       "   OnlineSecurity_No internet service  OnlineSecurity_Yes  OnlineBackup_No  \\\n",
       "0                                   0                   0                0   \n",
       "1                                   0                   1                1   \n",
       "2                                   0                   1                0   \n",
       "3                                   0                   1                1   \n",
       "4                                   0                   0                1   \n",
       "\n",
       "   OnlineBackup_No internet service  OnlineBackup_Yes  DeviceProtection_No  \\\n",
       "0                                 0                 1                    1   \n",
       "1                                 0                 0                    0   \n",
       "2                                 0                 1                    1   \n",
       "3                                 0                 0                    0   \n",
       "4                                 0                 0                    1   \n",
       "\n",
       "   DeviceProtection_No internet service  DeviceProtection_Yes  TechSupport_No  \\\n",
       "0                                     0                     0               1   \n",
       "1                                     0                     1               1   \n",
       "2                                     0                     0               1   \n",
       "3                                     0                     1               0   \n",
       "4                                     0                     0               1   \n",
       "\n",
       "   TechSupport_No internet service  TechSupport_Yes  StreamingTV_No  \\\n",
       "0                                0                0               1   \n",
       "1                                0                0               1   \n",
       "2                                0                0               1   \n",
       "3                                0                1               1   \n",
       "4                                0                0               1   \n",
       "\n",
       "   StreamingTV_No internet service  StreamingTV_Yes  StreamingMovies_No  \\\n",
       "0                                0                0                   1   \n",
       "1                                0                0                   1   \n",
       "2                                0                0                   1   \n",
       "3                                0                0                   1   \n",
       "4                                0                0                   1   \n",
       "\n",
       "   StreamingMovies_No internet service  StreamingMovies_Yes  \\\n",
       "0                                    0                    0   \n",
       "1                                    0                    0   \n",
       "2                                    0                    0   \n",
       "3                                    0                    0   \n",
       "4                                    0                    0   \n",
       "\n",
       "   Contract_Month-to-month  Contract_One year  Contract_Two year  \\\n",
       "0                        1                  0                  0   \n",
       "1                        0                  1                  0   \n",
       "2                        1                  0                  0   \n",
       "3                        0                  1                  0   \n",
       "4                        1                  0                  0   \n",
       "\n",
       "   PaperlessBilling_No  PaperlessBilling_Yes  \\\n",
       "0                    0                     1   \n",
       "1                    1                     0   \n",
       "2                    0                     1   \n",
       "3                    1                     0   \n",
       "4                    0                     1   \n",
       "\n",
       "   PaymentMethod_Bank transfer (automatic)  \\\n",
       "0                                        0   \n",
       "1                                        0   \n",
       "2                                        0   \n",
       "3                                        1   \n",
       "4                                        0   \n",
       "\n",
       "   PaymentMethod_Credit card (automatic)  PaymentMethod_Electronic check  \\\n",
       "0                                      0                               1   \n",
       "1                                      0                               0   \n",
       "2                                      0                               0   \n",
       "3                                      0                               0   \n",
       "4                                      0                               1   \n",
       "\n",
       "   PaymentMethod_Mailed check  Churn_No  Churn_Yes  \n",
       "0                           0         1          0  \n",
       "1                           1         1          0  \n",
       "2                           1         0          1  \n",
       "3                           0         1          0  \n",
       "4                           0         0          1  "
      ]
     },
     "execution_count": 232,
     "metadata": {},
     "output_type": "execute_result"
    }
   ],
   "source": [
    "tcc = get_dummy(tcc)\n",
    "tcc.head()"
   ]
  },
  {
   "cell_type": "code",
   "execution_count": 233,
   "metadata": {
    "ExecuteTime": {
     "end_time": "2019-10-11T13:27:24.890168Z",
     "start_time": "2019-10-11T13:27:24.879293Z"
    }
   },
   "outputs": [
    {
     "data": {
      "text/plain": [
       "SeniorCitizen                                int64\n",
       "tenure                                       int64\n",
       "MonthlyCharges                             float64\n",
       "TotalCharges                               float64\n",
       "gender_Female                                uint8\n",
       "gender_Male                                  uint8\n",
       "Partner_No                                   uint8\n",
       "Partner_Yes                                  uint8\n",
       "Dependents_No                                uint8\n",
       "Dependents_Yes                               uint8\n",
       "PhoneService_No                              uint8\n",
       "PhoneService_Yes                             uint8\n",
       "MultipleLines_No                             uint8\n",
       "MultipleLines_No phone service               uint8\n",
       "MultipleLines_Yes                            uint8\n",
       "InternetService_DSL                          uint8\n",
       "InternetService_Fiber optic                  uint8\n",
       "InternetService_No                           uint8\n",
       "OnlineSecurity_No                            uint8\n",
       "OnlineSecurity_No internet service           uint8\n",
       "OnlineSecurity_Yes                           uint8\n",
       "OnlineBackup_No                              uint8\n",
       "OnlineBackup_No internet service             uint8\n",
       "OnlineBackup_Yes                             uint8\n",
       "DeviceProtection_No                          uint8\n",
       "DeviceProtection_No internet service         uint8\n",
       "DeviceProtection_Yes                         uint8\n",
       "TechSupport_No                               uint8\n",
       "TechSupport_No internet service              uint8\n",
       "TechSupport_Yes                              uint8\n",
       "StreamingTV_No                               uint8\n",
       "StreamingTV_No internet service              uint8\n",
       "StreamingTV_Yes                              uint8\n",
       "StreamingMovies_No                           uint8\n",
       "StreamingMovies_No internet service          uint8\n",
       "StreamingMovies_Yes                          uint8\n",
       "Contract_Month-to-month                      uint8\n",
       "Contract_One year                            uint8\n",
       "Contract_Two year                            uint8\n",
       "PaperlessBilling_No                          uint8\n",
       "PaperlessBilling_Yes                         uint8\n",
       "PaymentMethod_Bank transfer (automatic)      uint8\n",
       "PaymentMethod_Credit card (automatic)        uint8\n",
       "PaymentMethod_Electronic check               uint8\n",
       "PaymentMethod_Mailed check                   uint8\n",
       "Churn_No                                     uint8\n",
       "Churn_Yes                                    uint8\n",
       "dtype: object"
      ]
     },
     "execution_count": 233,
     "metadata": {},
     "output_type": "execute_result"
    }
   ],
   "source": [
    "tcc.dtypes"
   ]
  },
  {
   "cell_type": "markdown",
   "metadata": {},
   "source": [
    "Let's have a look at the variables."
   ]
  },
  {
   "cell_type": "code",
   "execution_count": 234,
   "metadata": {
    "ExecuteTime": {
     "end_time": "2019-10-11T13:27:27.060286Z",
     "start_time": "2019-10-11T13:27:27.019775Z"
    }
   },
   "outputs": [
    {
     "name": "stdout",
     "output_type": "stream",
     "text": [
      "SeniorCitizen: [0 1]\n",
      "tenure: [ 1 34  2 45  8 22 28 62 13 58 49 25 69 52 71 10 12 30 47 72 17  5 46 11\n",
      " 63 43 15 60 18 66  9 50  3 56  7 42 35 48 65 38 68 32 55 37 64 36 41 27\n",
      "  6  4 33 23 57 14 16 53 20 40 59 24 19 61 29 31 54 51 67 21 70 44 39 26]\n",
      "MonthlyCharges: [ 29.85  56.95  53.85 ...  64.1  102.95  78.7 ]\n",
      "TotalCharges: [  29.85 1889.5   108.15 ... 7362.9   346.45 6844.5 ]\n",
      "gender_Female: [1 0]\n",
      "gender_Male: [0 1]\n",
      "Partner_No: [0 1]\n",
      "Partner_Yes: [1 0]\n",
      "Dependents_No: [1 0]\n",
      "Dependents_Yes: [0 1]\n",
      "PhoneService_No: [1 0]\n",
      "PhoneService_Yes: [0 1]\n",
      "MultipleLines_No: [0 1]\n",
      "MultipleLines_No phone service: [1 0]\n",
      "MultipleLines_Yes: [0 1]\n",
      "InternetService_DSL: [1 0]\n",
      "InternetService_Fiber optic: [0 1]\n",
      "InternetService_No: [0 1]\n",
      "OnlineSecurity_No: [1 0]\n",
      "OnlineSecurity_No internet service: [0 1]\n",
      "OnlineSecurity_Yes: [0 1]\n",
      "OnlineBackup_No: [0 1]\n",
      "OnlineBackup_No internet service: [0 1]\n",
      "OnlineBackup_Yes: [1 0]\n",
      "DeviceProtection_No: [1 0]\n",
      "DeviceProtection_No internet service: [0 1]\n",
      "DeviceProtection_Yes: [0 1]\n",
      "TechSupport_No: [1 0]\n",
      "TechSupport_No internet service: [0 1]\n",
      "TechSupport_Yes: [0 1]\n",
      "StreamingTV_No: [1 0]\n",
      "StreamingTV_No internet service: [0 1]\n",
      "StreamingTV_Yes: [0 1]\n",
      "StreamingMovies_No: [1 0]\n",
      "StreamingMovies_No internet service: [0 1]\n",
      "StreamingMovies_Yes: [0 1]\n",
      "Contract_Month-to-month: [1 0]\n",
      "Contract_One year: [0 1]\n",
      "Contract_Two year: [0 1]\n",
      "PaperlessBilling_No: [0 1]\n",
      "PaperlessBilling_Yes: [1 0]\n",
      "PaymentMethod_Bank transfer (automatic): [0 1]\n",
      "PaymentMethod_Credit card (automatic): [0 1]\n",
      "PaymentMethod_Electronic check: [1 0]\n",
      "PaymentMethod_Mailed check: [0 1]\n",
      "Churn_No: [1 0]\n",
      "Churn_Yes: [0 1]\n"
     ]
    }
   ],
   "source": [
    "for col in tcc.columns:\n",
    "    print(\"{0}: {1}\".format(col, tcc.loc[:, col].unique()))"
   ]
  },
  {
   "cell_type": "markdown",
   "metadata": {},
   "source": [
    "## Dealing with Outliers"
   ]
  },
  {
   "cell_type": "code",
   "execution_count": 235,
   "metadata": {
    "ExecuteTime": {
     "end_time": "2019-10-11T13:27:30.717337Z",
     "start_time": "2019-10-11T13:27:30.683714Z"
    }
   },
   "outputs": [
    {
     "data": {
      "text/html": [
       "<div>\n",
       "<style scoped>\n",
       "    .dataframe tbody tr th:only-of-type {\n",
       "        vertical-align: middle;\n",
       "    }\n",
       "\n",
       "    .dataframe tbody tr th {\n",
       "        vertical-align: top;\n",
       "    }\n",
       "\n",
       "    .dataframe thead th {\n",
       "        text-align: right;\n",
       "    }\n",
       "</style>\n",
       "<table border=\"1\" class=\"dataframe\">\n",
       "  <thead>\n",
       "    <tr style=\"text-align: right;\">\n",
       "      <th></th>\n",
       "      <th>SeniorCitizen</th>\n",
       "      <th>tenure</th>\n",
       "      <th>MonthlyCharges</th>\n",
       "      <th>TotalCharges</th>\n",
       "      <th>gender_Female</th>\n",
       "      <th>gender_Male</th>\n",
       "      <th>Partner_No</th>\n",
       "      <th>Partner_Yes</th>\n",
       "      <th>Dependents_No</th>\n",
       "      <th>Dependents_Yes</th>\n",
       "      <th>PhoneService_No</th>\n",
       "      <th>PhoneService_Yes</th>\n",
       "      <th>MultipleLines_No</th>\n",
       "      <th>MultipleLines_No phone service</th>\n",
       "      <th>MultipleLines_Yes</th>\n",
       "      <th>InternetService_DSL</th>\n",
       "      <th>InternetService_Fiber optic</th>\n",
       "      <th>InternetService_No</th>\n",
       "      <th>OnlineSecurity_No</th>\n",
       "      <th>OnlineSecurity_No internet service</th>\n",
       "      <th>OnlineSecurity_Yes</th>\n",
       "      <th>OnlineBackup_No</th>\n",
       "      <th>OnlineBackup_No internet service</th>\n",
       "      <th>OnlineBackup_Yes</th>\n",
       "      <th>DeviceProtection_No</th>\n",
       "      <th>DeviceProtection_No internet service</th>\n",
       "      <th>DeviceProtection_Yes</th>\n",
       "      <th>TechSupport_No</th>\n",
       "      <th>TechSupport_No internet service</th>\n",
       "      <th>TechSupport_Yes</th>\n",
       "      <th>StreamingTV_No</th>\n",
       "      <th>StreamingTV_No internet service</th>\n",
       "      <th>StreamingTV_Yes</th>\n",
       "      <th>StreamingMovies_No</th>\n",
       "      <th>StreamingMovies_No internet service</th>\n",
       "      <th>StreamingMovies_Yes</th>\n",
       "      <th>Contract_Month-to-month</th>\n",
       "      <th>Contract_One year</th>\n",
       "      <th>Contract_Two year</th>\n",
       "      <th>PaperlessBilling_No</th>\n",
       "      <th>PaperlessBilling_Yes</th>\n",
       "      <th>PaymentMethod_Bank transfer (automatic)</th>\n",
       "      <th>PaymentMethod_Credit card (automatic)</th>\n",
       "      <th>PaymentMethod_Electronic check</th>\n",
       "      <th>PaymentMethod_Mailed check</th>\n",
       "      <th>Churn_No</th>\n",
       "      <th>Churn_Yes</th>\n",
       "    </tr>\n",
       "  </thead>\n",
       "  <tbody>\n",
       "    <tr>\n",
       "      <td>0</td>\n",
       "      <td>0</td>\n",
       "      <td>1</td>\n",
       "      <td>29.85</td>\n",
       "      <td>29.85</td>\n",
       "      <td>1</td>\n",
       "      <td>0</td>\n",
       "      <td>0</td>\n",
       "      <td>1</td>\n",
       "      <td>1</td>\n",
       "      <td>0</td>\n",
       "      <td>1</td>\n",
       "      <td>0</td>\n",
       "      <td>0</td>\n",
       "      <td>1</td>\n",
       "      <td>0</td>\n",
       "      <td>1</td>\n",
       "      <td>0</td>\n",
       "      <td>0</td>\n",
       "      <td>1</td>\n",
       "      <td>0</td>\n",
       "      <td>0</td>\n",
       "      <td>0</td>\n",
       "      <td>0</td>\n",
       "      <td>1</td>\n",
       "      <td>1</td>\n",
       "      <td>0</td>\n",
       "      <td>0</td>\n",
       "      <td>1</td>\n",
       "      <td>0</td>\n",
       "      <td>0</td>\n",
       "      <td>1</td>\n",
       "      <td>0</td>\n",
       "      <td>0</td>\n",
       "      <td>1</td>\n",
       "      <td>0</td>\n",
       "      <td>0</td>\n",
       "      <td>1</td>\n",
       "      <td>0</td>\n",
       "      <td>0</td>\n",
       "      <td>0</td>\n",
       "      <td>1</td>\n",
       "      <td>0</td>\n",
       "      <td>0</td>\n",
       "      <td>1</td>\n",
       "      <td>0</td>\n",
       "      <td>1</td>\n",
       "      <td>0</td>\n",
       "    </tr>\n",
       "    <tr>\n",
       "      <td>1</td>\n",
       "      <td>0</td>\n",
       "      <td>34</td>\n",
       "      <td>56.95</td>\n",
       "      <td>1889.50</td>\n",
       "      <td>0</td>\n",
       "      <td>1</td>\n",
       "      <td>1</td>\n",
       "      <td>0</td>\n",
       "      <td>1</td>\n",
       "      <td>0</td>\n",
       "      <td>0</td>\n",
       "      <td>1</td>\n",
       "      <td>1</td>\n",
       "      <td>0</td>\n",
       "      <td>0</td>\n",
       "      <td>1</td>\n",
       "      <td>0</td>\n",
       "      <td>0</td>\n",
       "      <td>0</td>\n",
       "      <td>0</td>\n",
       "      <td>1</td>\n",
       "      <td>1</td>\n",
       "      <td>0</td>\n",
       "      <td>0</td>\n",
       "      <td>0</td>\n",
       "      <td>0</td>\n",
       "      <td>1</td>\n",
       "      <td>1</td>\n",
       "      <td>0</td>\n",
       "      <td>0</td>\n",
       "      <td>1</td>\n",
       "      <td>0</td>\n",
       "      <td>0</td>\n",
       "      <td>1</td>\n",
       "      <td>0</td>\n",
       "      <td>0</td>\n",
       "      <td>0</td>\n",
       "      <td>1</td>\n",
       "      <td>0</td>\n",
       "      <td>1</td>\n",
       "      <td>0</td>\n",
       "      <td>0</td>\n",
       "      <td>0</td>\n",
       "      <td>0</td>\n",
       "      <td>1</td>\n",
       "      <td>1</td>\n",
       "      <td>0</td>\n",
       "    </tr>\n",
       "    <tr>\n",
       "      <td>2</td>\n",
       "      <td>0</td>\n",
       "      <td>2</td>\n",
       "      <td>53.85</td>\n",
       "      <td>108.15</td>\n",
       "      <td>0</td>\n",
       "      <td>1</td>\n",
       "      <td>1</td>\n",
       "      <td>0</td>\n",
       "      <td>1</td>\n",
       "      <td>0</td>\n",
       "      <td>0</td>\n",
       "      <td>1</td>\n",
       "      <td>1</td>\n",
       "      <td>0</td>\n",
       "      <td>0</td>\n",
       "      <td>1</td>\n",
       "      <td>0</td>\n",
       "      <td>0</td>\n",
       "      <td>0</td>\n",
       "      <td>0</td>\n",
       "      <td>1</td>\n",
       "      <td>0</td>\n",
       "      <td>0</td>\n",
       "      <td>1</td>\n",
       "      <td>1</td>\n",
       "      <td>0</td>\n",
       "      <td>0</td>\n",
       "      <td>1</td>\n",
       "      <td>0</td>\n",
       "      <td>0</td>\n",
       "      <td>1</td>\n",
       "      <td>0</td>\n",
       "      <td>0</td>\n",
       "      <td>1</td>\n",
       "      <td>0</td>\n",
       "      <td>0</td>\n",
       "      <td>1</td>\n",
       "      <td>0</td>\n",
       "      <td>0</td>\n",
       "      <td>0</td>\n",
       "      <td>1</td>\n",
       "      <td>0</td>\n",
       "      <td>0</td>\n",
       "      <td>0</td>\n",
       "      <td>1</td>\n",
       "      <td>0</td>\n",
       "      <td>1</td>\n",
       "    </tr>\n",
       "    <tr>\n",
       "      <td>3</td>\n",
       "      <td>0</td>\n",
       "      <td>45</td>\n",
       "      <td>42.30</td>\n",
       "      <td>1840.75</td>\n",
       "      <td>0</td>\n",
       "      <td>1</td>\n",
       "      <td>1</td>\n",
       "      <td>0</td>\n",
       "      <td>1</td>\n",
       "      <td>0</td>\n",
       "      <td>1</td>\n",
       "      <td>0</td>\n",
       "      <td>0</td>\n",
       "      <td>1</td>\n",
       "      <td>0</td>\n",
       "      <td>1</td>\n",
       "      <td>0</td>\n",
       "      <td>0</td>\n",
       "      <td>0</td>\n",
       "      <td>0</td>\n",
       "      <td>1</td>\n",
       "      <td>1</td>\n",
       "      <td>0</td>\n",
       "      <td>0</td>\n",
       "      <td>0</td>\n",
       "      <td>0</td>\n",
       "      <td>1</td>\n",
       "      <td>0</td>\n",
       "      <td>0</td>\n",
       "      <td>1</td>\n",
       "      <td>1</td>\n",
       "      <td>0</td>\n",
       "      <td>0</td>\n",
       "      <td>1</td>\n",
       "      <td>0</td>\n",
       "      <td>0</td>\n",
       "      <td>0</td>\n",
       "      <td>1</td>\n",
       "      <td>0</td>\n",
       "      <td>1</td>\n",
       "      <td>0</td>\n",
       "      <td>1</td>\n",
       "      <td>0</td>\n",
       "      <td>0</td>\n",
       "      <td>0</td>\n",
       "      <td>1</td>\n",
       "      <td>0</td>\n",
       "    </tr>\n",
       "    <tr>\n",
       "      <td>4</td>\n",
       "      <td>0</td>\n",
       "      <td>2</td>\n",
       "      <td>70.70</td>\n",
       "      <td>151.65</td>\n",
       "      <td>1</td>\n",
       "      <td>0</td>\n",
       "      <td>1</td>\n",
       "      <td>0</td>\n",
       "      <td>1</td>\n",
       "      <td>0</td>\n",
       "      <td>0</td>\n",
       "      <td>1</td>\n",
       "      <td>1</td>\n",
       "      <td>0</td>\n",
       "      <td>0</td>\n",
       "      <td>0</td>\n",
       "      <td>1</td>\n",
       "      <td>0</td>\n",
       "      <td>1</td>\n",
       "      <td>0</td>\n",
       "      <td>0</td>\n",
       "      <td>1</td>\n",
       "      <td>0</td>\n",
       "      <td>0</td>\n",
       "      <td>1</td>\n",
       "      <td>0</td>\n",
       "      <td>0</td>\n",
       "      <td>1</td>\n",
       "      <td>0</td>\n",
       "      <td>0</td>\n",
       "      <td>1</td>\n",
       "      <td>0</td>\n",
       "      <td>0</td>\n",
       "      <td>1</td>\n",
       "      <td>0</td>\n",
       "      <td>0</td>\n",
       "      <td>1</td>\n",
       "      <td>0</td>\n",
       "      <td>0</td>\n",
       "      <td>0</td>\n",
       "      <td>1</td>\n",
       "      <td>0</td>\n",
       "      <td>0</td>\n",
       "      <td>1</td>\n",
       "      <td>0</td>\n",
       "      <td>0</td>\n",
       "      <td>1</td>\n",
       "    </tr>\n",
       "  </tbody>\n",
       "</table>\n",
       "</div>"
      ],
      "text/plain": [
       "   SeniorCitizen  tenure  MonthlyCharges  TotalCharges  gender_Female  \\\n",
       "0              0       1           29.85         29.85              1   \n",
       "1              0      34           56.95       1889.50              0   \n",
       "2              0       2           53.85        108.15              0   \n",
       "3              0      45           42.30       1840.75              0   \n",
       "4              0       2           70.70        151.65              1   \n",
       "\n",
       "   gender_Male  Partner_No  Partner_Yes  Dependents_No  Dependents_Yes  \\\n",
       "0            0           0            1              1               0   \n",
       "1            1           1            0              1               0   \n",
       "2            1           1            0              1               0   \n",
       "3            1           1            0              1               0   \n",
       "4            0           1            0              1               0   \n",
       "\n",
       "   PhoneService_No  PhoneService_Yes  MultipleLines_No  \\\n",
       "0                1                 0                 0   \n",
       "1                0                 1                 1   \n",
       "2                0                 1                 1   \n",
       "3                1                 0                 0   \n",
       "4                0                 1                 1   \n",
       "\n",
       "   MultipleLines_No phone service  MultipleLines_Yes  InternetService_DSL  \\\n",
       "0                               1                  0                    1   \n",
       "1                               0                  0                    1   \n",
       "2                               0                  0                    1   \n",
       "3                               1                  0                    1   \n",
       "4                               0                  0                    0   \n",
       "\n",
       "   InternetService_Fiber optic  InternetService_No  OnlineSecurity_No  \\\n",
       "0                            0                   0                  1   \n",
       "1                            0                   0                  0   \n",
       "2                            0                   0                  0   \n",
       "3                            0                   0                  0   \n",
       "4                            1                   0                  1   \n",
       "\n",
       "   OnlineSecurity_No internet service  OnlineSecurity_Yes  OnlineBackup_No  \\\n",
       "0                                   0                   0                0   \n",
       "1                                   0                   1                1   \n",
       "2                                   0                   1                0   \n",
       "3                                   0                   1                1   \n",
       "4                                   0                   0                1   \n",
       "\n",
       "   OnlineBackup_No internet service  OnlineBackup_Yes  DeviceProtection_No  \\\n",
       "0                                 0                 1                    1   \n",
       "1                                 0                 0                    0   \n",
       "2                                 0                 1                    1   \n",
       "3                                 0                 0                    0   \n",
       "4                                 0                 0                    1   \n",
       "\n",
       "   DeviceProtection_No internet service  DeviceProtection_Yes  TechSupport_No  \\\n",
       "0                                     0                     0               1   \n",
       "1                                     0                     1               1   \n",
       "2                                     0                     0               1   \n",
       "3                                     0                     1               0   \n",
       "4                                     0                     0               1   \n",
       "\n",
       "   TechSupport_No internet service  TechSupport_Yes  StreamingTV_No  \\\n",
       "0                                0                0               1   \n",
       "1                                0                0               1   \n",
       "2                                0                0               1   \n",
       "3                                0                1               1   \n",
       "4                                0                0               1   \n",
       "\n",
       "   StreamingTV_No internet service  StreamingTV_Yes  StreamingMovies_No  \\\n",
       "0                                0                0                   1   \n",
       "1                                0                0                   1   \n",
       "2                                0                0                   1   \n",
       "3                                0                0                   1   \n",
       "4                                0                0                   1   \n",
       "\n",
       "   StreamingMovies_No internet service  StreamingMovies_Yes  \\\n",
       "0                                    0                    0   \n",
       "1                                    0                    0   \n",
       "2                                    0                    0   \n",
       "3                                    0                    0   \n",
       "4                                    0                    0   \n",
       "\n",
       "   Contract_Month-to-month  Contract_One year  Contract_Two year  \\\n",
       "0                        1                  0                  0   \n",
       "1                        0                  1                  0   \n",
       "2                        1                  0                  0   \n",
       "3                        0                  1                  0   \n",
       "4                        1                  0                  0   \n",
       "\n",
       "   PaperlessBilling_No  PaperlessBilling_Yes  \\\n",
       "0                    0                     1   \n",
       "1                    1                     0   \n",
       "2                    0                     1   \n",
       "3                    1                     0   \n",
       "4                    0                     1   \n",
       "\n",
       "   PaymentMethod_Bank transfer (automatic)  \\\n",
       "0                                        0   \n",
       "1                                        0   \n",
       "2                                        0   \n",
       "3                                        1   \n",
       "4                                        0   \n",
       "\n",
       "   PaymentMethod_Credit card (automatic)  PaymentMethod_Electronic check  \\\n",
       "0                                      0                               1   \n",
       "1                                      0                               0   \n",
       "2                                      0                               0   \n",
       "3                                      0                               0   \n",
       "4                                      0                               1   \n",
       "\n",
       "   PaymentMethod_Mailed check  Churn_No  Churn_Yes  \n",
       "0                           0         1          0  \n",
       "1                           1         1          0  \n",
       "2                           1         0          1  \n",
       "3                           0         1          0  \n",
       "4                           0         0          1  "
      ]
     },
     "execution_count": 235,
     "metadata": {},
     "output_type": "execute_result"
    }
   ],
   "source": [
    "tcc.head()"
   ]
  },
  {
   "cell_type": "code",
   "execution_count": 236,
   "metadata": {
    "ExecuteTime": {
     "end_time": "2019-10-11T13:27:31.349654Z",
     "start_time": "2019-10-11T13:27:31.167556Z"
    }
   },
   "outputs": [
    {
     "data": {
      "image/png": "[encoded data removed]",
      "text/plain": [
       "<Figure size 432x288 with 1 Axes>"
      ]
     },
     "metadata": {
      "needs_background": "light"
     },
     "output_type": "display_data"
    }
   ],
   "source": [
    "sns.boxplot(x = tcc.MonthlyCharges).set_title(\"Monthly Charges Box Plot\");"
   ]
  },
  {
   "cell_type": "code",
   "execution_count": 237,
   "metadata": {
    "ExecuteTime": {
     "end_time": "2019-10-11T13:27:33.737953Z",
     "start_time": "2019-10-11T13:27:33.486737Z"
    }
   },
   "outputs": [
    {
     "data": {
      "image/png": "[encoded data removed]",
      "text/plain": [
       "<Figure size 432x288 with 1 Axes>"
      ]
     },
     "metadata": {
      "needs_background": "light"
     },
     "output_type": "display_data"
    }
   ],
   "source": [
    "sns.distplot(tcc.MonthlyCharges).set_title(\"Monthly Charges Distribution\");"
   ]
  },
  {
   "cell_type": "code",
   "execution_count": 238,
   "metadata": {
    "ExecuteTime": {
     "end_time": "2019-10-11T13:27:34.247254Z",
     "start_time": "2019-10-11T13:27:34.073714Z"
    }
   },
   "outputs": [
    {
     "data": {
      "image/png": "[encoded data removed]",
      "text/plain": [
       "<Figure size 432x288 with 1 Axes>"
      ]
     },
     "metadata": {
      "needs_background": "light"
     },
     "output_type": "display_data"
    }
   ],
   "source": [
    "sns.boxplot(x = tcc.TotalCharges).set_title(\"Total Charges Box Plot\");"
   ]
  },
  {
   "cell_type": "code",
   "execution_count": 239,
   "metadata": {
    "ExecuteTime": {
     "end_time": "2019-10-11T13:27:35.351450Z",
     "start_time": "2019-10-11T13:27:35.107845Z"
    }
   },
   "outputs": [
    {
     "data": {
      "image/png": "[encoded data removed]",
      "text/plain": [
       "<Figure size 432x288 with 1 Axes>"
      ]
     },
     "metadata": {
      "needs_background": "light"
     },
     "output_type": "display_data"
    }
   ],
   "source": [
    "sns.distplot(tcc.TotalCharges).set_title(\"Total Charges Distribution\");"
   ]
  },
  {
   "cell_type": "code",
   "execution_count": 240,
   "metadata": {
    "ExecuteTime": {
     "end_time": "2019-10-11T13:27:37.042588Z",
     "start_time": "2019-10-11T13:27:37.034916Z"
    }
   },
   "outputs": [
    {
     "data": {
      "text/plain": [
       "Index(['SeniorCitizen', 'tenure', 'MonthlyCharges', 'TotalCharges',\n",
       "       'gender_Female', 'gender_Male', 'Partner_No', 'Partner_Yes',\n",
       "       'Dependents_No', 'Dependents_Yes', 'PhoneService_No',\n",
       "       'PhoneService_Yes', 'MultipleLines_No',\n",
       "       'MultipleLines_No phone service', 'MultipleLines_Yes',\n",
       "       'InternetService_DSL', 'InternetService_Fiber optic',\n",
       "       'InternetService_No', 'OnlineSecurity_No',\n",
       "       'OnlineSecurity_No internet service', 'OnlineSecurity_Yes',\n",
       "       'OnlineBackup_No', 'OnlineBackup_No internet service',\n",
       "       'OnlineBackup_Yes', 'DeviceProtection_No',\n",
       "       'DeviceProtection_No internet service', 'DeviceProtection_Yes',\n",
       "       'TechSupport_No', 'TechSupport_No internet service', 'TechSupport_Yes',\n",
       "       'StreamingTV_No', 'StreamingTV_No internet service', 'StreamingTV_Yes',\n",
       "       'StreamingMovies_No', 'StreamingMovies_No internet service',\n",
       "       'StreamingMovies_Yes', 'Contract_Month-to-month', 'Contract_One year',\n",
       "       'Contract_Two year', 'PaperlessBilling_No', 'PaperlessBilling_Yes',\n",
       "       'PaymentMethod_Bank transfer (automatic)',\n",
       "       'PaymentMethod_Credit card (automatic)',\n",
       "       'PaymentMethod_Electronic check', 'PaymentMethod_Mailed check',\n",
       "       'Churn_No', 'Churn_Yes'],\n",
       "      dtype='object')"
      ]
     },
     "execution_count": 240,
     "metadata": {},
     "output_type": "execute_result"
    }
   ],
   "source": [
    "tcc.columns"
   ]
  },
  {
   "cell_type": "code",
   "execution_count": 241,
   "metadata": {
    "ExecuteTime": {
     "end_time": "2019-10-11T13:27:41.021470Z",
     "start_time": "2019-10-11T13:27:38.993429Z"
    },
    "scrolled": false
   },
   "outputs": [
    {
     "name": "stderr",
     "output_type": "stream",
     "text": [
      "/home/3005019/anaconda3/lib/python3.7/site-packages/seaborn/regression.py:546: UserWarning:\n",
      "\n",
      "The `size` paramter has been renamed to `height`; please update your code.\n",
      "\n"
     ]
    },
    {
     "data": {
      "image/png": "[encoded data removed]",
      "text/plain": [
       "<Figure size 360x360 with 1 Axes>"
      ]
     },
     "metadata": {
      "needs_background": "light"
     },
     "output_type": "display_data"
    }
   ],
   "source": [
    "sns.lmplot(\"TotalCharges\", \"Churn_Yes\", data = tcc, line_kws={'color': 'red'}, lowess = True, size = 5)\n",
    "plt.suptitle(\"Chances of Churn relative to Total Charges\");"
   ]
  },
  {
   "cell_type": "code",
   "execution_count": 242,
   "metadata": {
    "ExecuteTime": {
     "end_time": "2019-10-11T13:27:41.816027Z",
     "start_time": "2019-10-11T13:27:41.022981Z"
    },
    "scrolled": false
   },
   "outputs": [
    {
     "data": {
      "image/png": "[encoded data removed]",
      "text/plain": [
       "<Figure size 360x360 with 1 Axes>"
      ]
     },
     "metadata": {
      "needs_background": "light"
     },
     "output_type": "display_data"
    }
   ],
   "source": [
    "sns.lmplot(\"MonthlyCharges\", \"Churn_Yes\", data = tcc, line_kws={'color': 'red'}, lowess = True, size = 5)\n",
    "plt.suptitle(\"Chances of Churn relative to Monthly Charges\");"
   ]
  },
  {
   "cell_type": "code",
   "execution_count": 243,
   "metadata": {
    "ExecuteTime": {
     "end_time": "2019-10-11T13:27:42.398365Z",
     "start_time": "2019-10-11T13:27:41.817644Z"
    },
    "scrolled": false
   },
   "outputs": [
    {
     "data": {
      "image/png": "[encoded data removed]",
      "text/plain": [
       "<Figure size 360x360 with 1 Axes>"
      ]
     },
     "metadata": {
      "needs_background": "light"
     },
     "output_type": "display_data"
    }
   ],
   "source": [
    "sns.lmplot(\"tenure\", \"Churn_Yes\", data = tcc, line_kws={'color': 'red'}, lowess = True, size = 5)\n",
    "plt.suptitle(\"Chances of Churn relative to Tenure\");"
   ]
  },
  {
   "cell_type": "markdown",
   "metadata": {},
   "source": [
    "## Logistic regression\n",
    "\n",
    "We want to build a predictive model using _Churn_ as our dependent variable. First we try to run the regression by including all the variables."
   ]
  },
  {
   "cell_type": "code",
   "execution_count": 244,
   "metadata": {
    "ExecuteTime": {
     "end_time": "2019-10-11T13:27:42.403079Z",
     "start_time": "2019-10-11T13:27:42.399572Z"
    }
   },
   "outputs": [
    {
     "data": {
      "text/plain": [
       "Index(['SeniorCitizen', 'tenure', 'MonthlyCharges', 'TotalCharges',\n",
       "       'gender_Female', 'gender_Male', 'Partner_No', 'Partner_Yes',\n",
       "       'Dependents_No', 'Dependents_Yes', 'PhoneService_No',\n",
       "       'PhoneService_Yes', 'MultipleLines_No',\n",
       "       'MultipleLines_No phone service', 'MultipleLines_Yes',\n",
       "       'InternetService_DSL', 'InternetService_Fiber optic',\n",
       "       'InternetService_No', 'OnlineSecurity_No',\n",
       "       'OnlineSecurity_No internet service', 'OnlineSecurity_Yes',\n",
       "       'OnlineBackup_No', 'OnlineBackup_No internet service',\n",
       "       'OnlineBackup_Yes', 'DeviceProtection_No',\n",
       "       'DeviceProtection_No internet service', 'DeviceProtection_Yes',\n",
       "       'TechSupport_No', 'TechSupport_No internet service', 'TechSupport_Yes',\n",
       "       'StreamingTV_No', 'StreamingTV_No internet service', 'StreamingTV_Yes',\n",
       "       'StreamingMovies_No', 'StreamingMovies_No internet service',\n",
       "       'StreamingMovies_Yes', 'Contract_Month-to-month', 'Contract_One year',\n",
       "       'Contract_Two year', 'PaperlessBilling_No', 'PaperlessBilling_Yes',\n",
       "       'PaymentMethod_Bank transfer (automatic)',\n",
       "       'PaymentMethod_Credit card (automatic)',\n",
       "       'PaymentMethod_Electronic check', 'PaymentMethod_Mailed check',\n",
       "       'Churn_No', 'Churn_Yes'],\n",
       "      dtype='object')"
      ]
     },
     "execution_count": 244,
     "metadata": {},
     "output_type": "execute_result"
    }
   ],
   "source": [
    "tcc.columns"
   ]
  },
  {
   "cell_type": "markdown",
   "metadata": {},
   "source": [
    "Most of the variables differentiate between \"No\" and \"No internet service\". Given that the information about \"Internet Service\" or \"No internet service\" is already provided by the variable _InternetService_ , we can just analyze the impact of having a service that implies having Internet Service versus not having it, without considering that a person could have for example no OnlineSecurity due to the fact that they do not have Internet Service.\n",
    "\n",
    "We will also exclude _TotalCharges_ from our model, since it is likely to be correlated with _MonthlyCharges_ (we are going to test this hypothesis by calculating the Pearson correlation coefficient)."
   ]
  },
  {
   "cell_type": "code",
   "execution_count": 245,
   "metadata": {
    "ExecuteTime": {
     "end_time": "2019-10-11T13:27:46.212015Z",
     "start_time": "2019-10-11T13:27:46.200771Z"
    }
   },
   "outputs": [
    {
     "name": "stdout",
     "output_type": "stream",
     "text": [
      "Coefficient: 0.6517385329480181\n",
      "p-value: 0.0\n"
     ]
    }
   ],
   "source": [
    "# Pearson correlation coefficient\n",
    "print(\"Coefficient:\",scipy.stats.pearsonr(tcc[\"MonthlyCharges\"], tcc[\"TotalCharges\"])[0])\n",
    "print(\"p-value:\",scipy.stats.pearsonr(tcc[\"MonthlyCharges\"], tcc[\"TotalCharges\"])[1])"
   ]
  },
  {
   "cell_type": "markdown",
   "metadata": {},
   "source": [
    "The two variables are highly correlated."
   ]
  },
  {
   "cell_type": "code",
   "execution_count": 246,
   "metadata": {
    "ExecuteTime": {
     "end_time": "2019-10-11T13:27:47.637741Z",
     "start_time": "2019-10-11T13:27:47.603192Z"
    }
   },
   "outputs": [
    {
     "data": {
      "text/html": [
       "<div>\n",
       "<style scoped>\n",
       "    .dataframe tbody tr th:only-of-type {\n",
       "        vertical-align: middle;\n",
       "    }\n",
       "\n",
       "    .dataframe tbody tr th {\n",
       "        vertical-align: top;\n",
       "    }\n",
       "\n",
       "    .dataframe thead th {\n",
       "        text-align: right;\n",
       "    }\n",
       "</style>\n",
       "<table border=\"1\" class=\"dataframe\">\n",
       "  <thead>\n",
       "    <tr style=\"text-align: right;\">\n",
       "      <th></th>\n",
       "      <th>SeniorCitizen</th>\n",
       "      <th>tenure</th>\n",
       "      <th>MonthlyCharges</th>\n",
       "      <th>TotalCharges</th>\n",
       "      <th>gender_Female</th>\n",
       "      <th>gender_Male</th>\n",
       "      <th>Partner_No</th>\n",
       "      <th>Partner_Yes</th>\n",
       "      <th>Dependents_No</th>\n",
       "      <th>Dependents_Yes</th>\n",
       "      <th>PhoneService_No</th>\n",
       "      <th>PhoneService_Yes</th>\n",
       "      <th>MultipleLines_No</th>\n",
       "      <th>MultipleLines_No phone service</th>\n",
       "      <th>MultipleLines_Yes</th>\n",
       "      <th>InternetService_DSL</th>\n",
       "      <th>InternetService_Fiber optic</th>\n",
       "      <th>InternetService_No</th>\n",
       "      <th>OnlineSecurity_No</th>\n",
       "      <th>OnlineSecurity_No internet service</th>\n",
       "      <th>OnlineSecurity_Yes</th>\n",
       "      <th>OnlineBackup_No</th>\n",
       "      <th>OnlineBackup_No internet service</th>\n",
       "      <th>OnlineBackup_Yes</th>\n",
       "      <th>DeviceProtection_No</th>\n",
       "      <th>DeviceProtection_No internet service</th>\n",
       "      <th>DeviceProtection_Yes</th>\n",
       "      <th>TechSupport_No</th>\n",
       "      <th>TechSupport_No internet service</th>\n",
       "      <th>TechSupport_Yes</th>\n",
       "      <th>StreamingTV_No</th>\n",
       "      <th>StreamingTV_No internet service</th>\n",
       "      <th>StreamingTV_Yes</th>\n",
       "      <th>StreamingMovies_No</th>\n",
       "      <th>StreamingMovies_No internet service</th>\n",
       "      <th>StreamingMovies_Yes</th>\n",
       "      <th>Contract_Month-to-month</th>\n",
       "      <th>Contract_One year</th>\n",
       "      <th>Contract_Two year</th>\n",
       "      <th>PaperlessBilling_No</th>\n",
       "      <th>PaperlessBilling_Yes</th>\n",
       "      <th>PaymentMethod_Bank transfer (automatic)</th>\n",
       "      <th>PaymentMethod_Credit card (automatic)</th>\n",
       "      <th>PaymentMethod_Electronic check</th>\n",
       "      <th>PaymentMethod_Mailed check</th>\n",
       "      <th>Churn_No</th>\n",
       "      <th>Churn_Yes</th>\n",
       "    </tr>\n",
       "  </thead>\n",
       "  <tbody>\n",
       "    <tr>\n",
       "      <td>0</td>\n",
       "      <td>0</td>\n",
       "      <td>1</td>\n",
       "      <td>29.85</td>\n",
       "      <td>29.85</td>\n",
       "      <td>1</td>\n",
       "      <td>0</td>\n",
       "      <td>0</td>\n",
       "      <td>1</td>\n",
       "      <td>1</td>\n",
       "      <td>0</td>\n",
       "      <td>1</td>\n",
       "      <td>0</td>\n",
       "      <td>0</td>\n",
       "      <td>1</td>\n",
       "      <td>0</td>\n",
       "      <td>1</td>\n",
       "      <td>0</td>\n",
       "      <td>0</td>\n",
       "      <td>1</td>\n",
       "      <td>0</td>\n",
       "      <td>0</td>\n",
       "      <td>0</td>\n",
       "      <td>0</td>\n",
       "      <td>1</td>\n",
       "      <td>1</td>\n",
       "      <td>0</td>\n",
       "      <td>0</td>\n",
       "      <td>1</td>\n",
       "      <td>0</td>\n",
       "      <td>0</td>\n",
       "      <td>1</td>\n",
       "      <td>0</td>\n",
       "      <td>0</td>\n",
       "      <td>1</td>\n",
       "      <td>0</td>\n",
       "      <td>0</td>\n",
       "      <td>1</td>\n",
       "      <td>0</td>\n",
       "      <td>0</td>\n",
       "      <td>0</td>\n",
       "      <td>1</td>\n",
       "      <td>0</td>\n",
       "      <td>0</td>\n",
       "      <td>1</td>\n",
       "      <td>0</td>\n",
       "      <td>1</td>\n",
       "      <td>0</td>\n",
       "    </tr>\n",
       "    <tr>\n",
       "      <td>1</td>\n",
       "      <td>0</td>\n",
       "      <td>34</td>\n",
       "      <td>56.95</td>\n",
       "      <td>1889.50</td>\n",
       "      <td>0</td>\n",
       "      <td>1</td>\n",
       "      <td>1</td>\n",
       "      <td>0</td>\n",
       "      <td>1</td>\n",
       "      <td>0</td>\n",
       "      <td>0</td>\n",
       "      <td>1</td>\n",
       "      <td>1</td>\n",
       "      <td>0</td>\n",
       "      <td>0</td>\n",
       "      <td>1</td>\n",
       "      <td>0</td>\n",
       "      <td>0</td>\n",
       "      <td>0</td>\n",
       "      <td>0</td>\n",
       "      <td>1</td>\n",
       "      <td>1</td>\n",
       "      <td>0</td>\n",
       "      <td>0</td>\n",
       "      <td>0</td>\n",
       "      <td>0</td>\n",
       "      <td>1</td>\n",
       "      <td>1</td>\n",
       "      <td>0</td>\n",
       "      <td>0</td>\n",
       "      <td>1</td>\n",
       "      <td>0</td>\n",
       "      <td>0</td>\n",
       "      <td>1</td>\n",
       "      <td>0</td>\n",
       "      <td>0</td>\n",
       "      <td>0</td>\n",
       "      <td>1</td>\n",
       "      <td>0</td>\n",
       "      <td>1</td>\n",
       "      <td>0</td>\n",
       "      <td>0</td>\n",
       "      <td>0</td>\n",
       "      <td>0</td>\n",
       "      <td>1</td>\n",
       "      <td>1</td>\n",
       "      <td>0</td>\n",
       "    </tr>\n",
       "    <tr>\n",
       "      <td>2</td>\n",
       "      <td>0</td>\n",
       "      <td>2</td>\n",
       "      <td>53.85</td>\n",
       "      <td>108.15</td>\n",
       "      <td>0</td>\n",
       "      <td>1</td>\n",
       "      <td>1</td>\n",
       "      <td>0</td>\n",
       "      <td>1</td>\n",
       "      <td>0</td>\n",
       "      <td>0</td>\n",
       "      <td>1</td>\n",
       "      <td>1</td>\n",
       "      <td>0</td>\n",
       "      <td>0</td>\n",
       "      <td>1</td>\n",
       "      <td>0</td>\n",
       "      <td>0</td>\n",
       "      <td>0</td>\n",
       "      <td>0</td>\n",
       "      <td>1</td>\n",
       "      <td>0</td>\n",
       "      <td>0</td>\n",
       "      <td>1</td>\n",
       "      <td>1</td>\n",
       "      <td>0</td>\n",
       "      <td>0</td>\n",
       "      <td>1</td>\n",
       "      <td>0</td>\n",
       "      <td>0</td>\n",
       "      <td>1</td>\n",
       "      <td>0</td>\n",
       "      <td>0</td>\n",
       "      <td>1</td>\n",
       "      <td>0</td>\n",
       "      <td>0</td>\n",
       "      <td>1</td>\n",
       "      <td>0</td>\n",
       "      <td>0</td>\n",
       "      <td>0</td>\n",
       "      <td>1</td>\n",
       "      <td>0</td>\n",
       "      <td>0</td>\n",
       "      <td>0</td>\n",
       "      <td>1</td>\n",
       "      <td>0</td>\n",
       "      <td>1</td>\n",
       "    </tr>\n",
       "    <tr>\n",
       "      <td>3</td>\n",
       "      <td>0</td>\n",
       "      <td>45</td>\n",
       "      <td>42.30</td>\n",
       "      <td>1840.75</td>\n",
       "      <td>0</td>\n",
       "      <td>1</td>\n",
       "      <td>1</td>\n",
       "      <td>0</td>\n",
       "      <td>1</td>\n",
       "      <td>0</td>\n",
       "      <td>1</td>\n",
       "      <td>0</td>\n",
       "      <td>0</td>\n",
       "      <td>1</td>\n",
       "      <td>0</td>\n",
       "      <td>1</td>\n",
       "      <td>0</td>\n",
       "      <td>0</td>\n",
       "      <td>0</td>\n",
       "      <td>0</td>\n",
       "      <td>1</td>\n",
       "      <td>1</td>\n",
       "      <td>0</td>\n",
       "      <td>0</td>\n",
       "      <td>0</td>\n",
       "      <td>0</td>\n",
       "      <td>1</td>\n",
       "      <td>0</td>\n",
       "      <td>0</td>\n",
       "      <td>1</td>\n",
       "      <td>1</td>\n",
       "      <td>0</td>\n",
       "      <td>0</td>\n",
       "      <td>1</td>\n",
       "      <td>0</td>\n",
       "      <td>0</td>\n",
       "      <td>0</td>\n",
       "      <td>1</td>\n",
       "      <td>0</td>\n",
       "      <td>1</td>\n",
       "      <td>0</td>\n",
       "      <td>1</td>\n",
       "      <td>0</td>\n",
       "      <td>0</td>\n",
       "      <td>0</td>\n",
       "      <td>1</td>\n",
       "      <td>0</td>\n",
       "    </tr>\n",
       "    <tr>\n",
       "      <td>4</td>\n",
       "      <td>0</td>\n",
       "      <td>2</td>\n",
       "      <td>70.70</td>\n",
       "      <td>151.65</td>\n",
       "      <td>1</td>\n",
       "      <td>0</td>\n",
       "      <td>1</td>\n",
       "      <td>0</td>\n",
       "      <td>1</td>\n",
       "      <td>0</td>\n",
       "      <td>0</td>\n",
       "      <td>1</td>\n",
       "      <td>1</td>\n",
       "      <td>0</td>\n",
       "      <td>0</td>\n",
       "      <td>0</td>\n",
       "      <td>1</td>\n",
       "      <td>0</td>\n",
       "      <td>1</td>\n",
       "      <td>0</td>\n",
       "      <td>0</td>\n",
       "      <td>1</td>\n",
       "      <td>0</td>\n",
       "      <td>0</td>\n",
       "      <td>1</td>\n",
       "      <td>0</td>\n",
       "      <td>0</td>\n",
       "      <td>1</td>\n",
       "      <td>0</td>\n",
       "      <td>0</td>\n",
       "      <td>1</td>\n",
       "      <td>0</td>\n",
       "      <td>0</td>\n",
       "      <td>1</td>\n",
       "      <td>0</td>\n",
       "      <td>0</td>\n",
       "      <td>1</td>\n",
       "      <td>0</td>\n",
       "      <td>0</td>\n",
       "      <td>0</td>\n",
       "      <td>1</td>\n",
       "      <td>0</td>\n",
       "      <td>0</td>\n",
       "      <td>1</td>\n",
       "      <td>0</td>\n",
       "      <td>0</td>\n",
       "      <td>1</td>\n",
       "    </tr>\n",
       "  </tbody>\n",
       "</table>\n",
       "</div>"
      ],
      "text/plain": [
       "   SeniorCitizen  tenure  MonthlyCharges  TotalCharges  gender_Female  \\\n",
       "0              0       1           29.85         29.85              1   \n",
       "1              0      34           56.95       1889.50              0   \n",
       "2              0       2           53.85        108.15              0   \n",
       "3              0      45           42.30       1840.75              0   \n",
       "4              0       2           70.70        151.65              1   \n",
       "\n",
       "   gender_Male  Partner_No  Partner_Yes  Dependents_No  Dependents_Yes  \\\n",
       "0            0           0            1              1               0   \n",
       "1            1           1            0              1               0   \n",
       "2            1           1            0              1               0   \n",
       "3            1           1            0              1               0   \n",
       "4            0           1            0              1               0   \n",
       "\n",
       "   PhoneService_No  PhoneService_Yes  MultipleLines_No  \\\n",
       "0                1                 0                 0   \n",
       "1                0                 1                 1   \n",
       "2                0                 1                 1   \n",
       "3                1                 0                 0   \n",
       "4                0                 1                 1   \n",
       "\n",
       "   MultipleLines_No phone service  MultipleLines_Yes  InternetService_DSL  \\\n",
       "0                               1                  0                    1   \n",
       "1                               0                  0                    1   \n",
       "2                               0                  0                    1   \n",
       "3                               1                  0                    1   \n",
       "4                               0                  0                    0   \n",
       "\n",
       "   InternetService_Fiber optic  InternetService_No  OnlineSecurity_No  \\\n",
       "0                            0                   0                  1   \n",
       "1                            0                   0                  0   \n",
       "2                            0                   0                  0   \n",
       "3                            0                   0                  0   \n",
       "4                            1                   0                  1   \n",
       "\n",
       "   OnlineSecurity_No internet service  OnlineSecurity_Yes  OnlineBackup_No  \\\n",
       "0                                   0                   0                0   \n",
       "1                                   0                   1                1   \n",
       "2                                   0                   1                0   \n",
       "3                                   0                   1                1   \n",
       "4                                   0                   0                1   \n",
       "\n",
       "   OnlineBackup_No internet service  OnlineBackup_Yes  DeviceProtection_No  \\\n",
       "0                                 0                 1                    1   \n",
       "1                                 0                 0                    0   \n",
       "2                                 0                 1                    1   \n",
       "3                                 0                 0                    0   \n",
       "4                                 0                 0                    1   \n",
       "\n",
       "   DeviceProtection_No internet service  DeviceProtection_Yes  TechSupport_No  \\\n",
       "0                                     0                     0               1   \n",
       "1                                     0                     1               1   \n",
       "2                                     0                     0               1   \n",
       "3                                     0                     1               0   \n",
       "4                                     0                     0               1   \n",
       "\n",
       "   TechSupport_No internet service  TechSupport_Yes  StreamingTV_No  \\\n",
       "0                                0                0               1   \n",
       "1                                0                0               1   \n",
       "2                                0                0               1   \n",
       "3                                0                1               1   \n",
       "4                                0                0               1   \n",
       "\n",
       "   StreamingTV_No internet service  StreamingTV_Yes  StreamingMovies_No  \\\n",
       "0                                0                0                   1   \n",
       "1                                0                0                   1   \n",
       "2                                0                0                   1   \n",
       "3                                0                0                   1   \n",
       "4                                0                0                   1   \n",
       "\n",
       "   StreamingMovies_No internet service  StreamingMovies_Yes  \\\n",
       "0                                    0                    0   \n",
       "1                                    0                    0   \n",
       "2                                    0                    0   \n",
       "3                                    0                    0   \n",
       "4                                    0                    0   \n",
       "\n",
       "   Contract_Month-to-month  Contract_One year  Contract_Two year  \\\n",
       "0                        1                  0                  0   \n",
       "1                        0                  1                  0   \n",
       "2                        1                  0                  0   \n",
       "3                        0                  1                  0   \n",
       "4                        1                  0                  0   \n",
       "\n",
       "   PaperlessBilling_No  PaperlessBilling_Yes  \\\n",
       "0                    0                     1   \n",
       "1                    1                     0   \n",
       "2                    0                     1   \n",
       "3                    1                     0   \n",
       "4                    0                     1   \n",
       "\n",
       "   PaymentMethod_Bank transfer (automatic)  \\\n",
       "0                                        0   \n",
       "1                                        0   \n",
       "2                                        0   \n",
       "3                                        1   \n",
       "4                                        0   \n",
       "\n",
       "   PaymentMethod_Credit card (automatic)  PaymentMethod_Electronic check  \\\n",
       "0                                      0                               1   \n",
       "1                                      0                               0   \n",
       "2                                      0                               0   \n",
       "3                                      0                               0   \n",
       "4                                      0                               1   \n",
       "\n",
       "   PaymentMethod_Mailed check  Churn_No  Churn_Yes  \n",
       "0                           0         1          0  \n",
       "1                           1         1          0  \n",
       "2                           1         0          1  \n",
       "3                           0         1          0  \n",
       "4                           0         0          1  "
      ]
     },
     "execution_count": 246,
     "metadata": {},
     "output_type": "execute_result"
    }
   ],
   "source": [
    "tcc.head()"
   ]
  },
  {
   "cell_type": "markdown",
   "metadata": {},
   "source": [
    "Let's run a first regression including all the variables. We will then progressively improve our model."
   ]
  },
  {
   "cell_type": "code",
   "execution_count": 247,
   "metadata": {
    "ExecuteTime": {
     "end_time": "2019-10-11T13:27:50.124204Z",
     "start_time": "2019-10-11T13:27:49.932573Z"
    },
    "scrolled": false
   },
   "outputs": [
    {
     "name": "stdout",
     "output_type": "stream",
     "text": [
      "Optimization terminated successfully.\n",
      "         Current function value: inf\n",
      "         Iterations 8\n"
     ]
    },
    {
     "name": "stderr",
     "output_type": "stream",
     "text": [
      "/home/3005019/anaconda3/lib/python3.7/site-packages/statsmodels/discrete/discrete_model.py:1736: RuntimeWarning:\n",
      "\n",
      "overflow encountered in exp\n",
      "\n",
      "/home/3005019/anaconda3/lib/python3.7/site-packages/statsmodels/discrete/discrete_model.py:1789: RuntimeWarning:\n",
      "\n",
      "divide by zero encountered in log\n",
      "\n",
      "/home/3005019/anaconda3/lib/python3.7/site-packages/statsmodels/base/model.py:492: HessianInversionWarning:\n",
      "\n",
      "Inverting hessian failed, no bse or cov_params available\n",
      "\n",
      "/home/3005019/anaconda3/lib/python3.7/site-packages/statsmodels/base/model.py:492: HessianInversionWarning:\n",
      "\n",
      "Inverting hessian failed, no bse or cov_params available\n",
      "\n"
     ]
    },
    {
     "data": {
      "text/html": [
       "<table class=\"simpletable\">\n",
       "<tr>\n",
       "        <td>Model:</td>              <td>Logit</td>      <td>Pseudo R-squared:</td>   <td>inf</td> \n",
       "</tr>\n",
       "<tr>\n",
       "  <td>Dependent Variable:</td>     <td>Churn_Yes</td>          <td>AIC:</td>          <td>inf</td> \n",
       "</tr>\n",
       "<tr>\n",
       "         <td>Date:</td>        <td>2019-10-11 15:27</td>       <td>BIC:</td>          <td>inf</td> \n",
       "</tr>\n",
       "<tr>\n",
       "   <td>No. Observations:</td>        <td>5614</td>        <td>Log-Likelihood:</td>   <td>-inf</td> \n",
       "</tr>\n",
       "<tr>\n",
       "       <td>Df Model:</td>             <td>22</td>            <td>LL-Null:</td>      <td>0.0000</td>\n",
       "</tr>\n",
       "<tr>\n",
       "     <td>Df Residuals:</td>          <td>5591</td>         <td>LLR p-value:</td>    <td>1.0000</td>\n",
       "</tr>\n",
       "<tr>\n",
       "      <td>Converged:</td>           <td>1.0000</td>           <td>Scale:</td>       <td>1.0000</td>\n",
       "</tr>\n",
       "<tr>\n",
       "    <td>No. Iterations:</td>        <td>8.0000</td>              <td></td>             <td></td>   \n",
       "</tr>\n",
       "</table>\n",
       "<table class=\"simpletable\">\n",
       "<tr>\n",
       "                     <td></td>                      <th>Coef.</th>  <th>Std.Err.</th>     <th>z</th>     <th>P>|z|</th> <th>[0.025</th>  <th>0.975]</th> \n",
       "</tr>\n",
       "<tr>\n",
       "  <th>SeniorCitizen</th>                           <td>0.1752</td>   <td>0.0949</td>   <td>1.8463</td>  <td>0.0648</td> <td>-0.0108</td> <td>0.3613</td> \n",
       "</tr>\n",
       "<tr>\n",
       "  <th>tenure</th>                                  <td>-0.0322</td>  <td>0.0026</td>  <td>-12.2511</td> <td>0.0000</td> <td>-0.0373</td> <td>-0.0270</td>\n",
       "</tr>\n",
       "<tr>\n",
       "  <th>MonthlyCharges</th>                          <td>-0.0414</td>  <td>0.0357</td>   <td>-1.1600</td> <td>0.2460</td> <td>-0.1113</td> <td>0.0285</td> \n",
       "</tr>\n",
       "<tr>\n",
       "  <th>gender_Female</th>                           <td>0.0357</td>   <td>0.0723</td>   <td>0.4936</td>  <td>0.6216</td> <td>-0.1060</td> <td>0.1773</td> \n",
       "</tr>\n",
       "<tr>\n",
       "  <th>Partner_Yes</th>                             <td>0.0035</td>   <td>0.0874</td>   <td>0.0401</td>  <td>0.9680</td> <td>-0.1678</td> <td>0.1748</td> \n",
       "</tr>\n",
       "<tr>\n",
       "  <th>PhoneService_Yes</th>                        <td>0.4231</td>   <td>0.7286</td>   <td>0.5808</td>  <td>0.5614</td> <td>-1.0048</td> <td>1.8511</td> \n",
       "</tr>\n",
       "<tr>\n",
       "  <th>Dependents_Yes</th>                          <td>-0.1606</td>  <td>0.1004</td>   <td>-1.5996</td> <td>0.1097</td> <td>-0.3575</td> <td>0.0362</td> \n",
       "</tr>\n",
       "<tr>\n",
       "  <th>MultipleLines_Yes</th>                       <td>0.5071</td>   <td>0.1991</td>   <td>2.5474</td>  <td>0.0109</td> <td>0.1169</td>  <td>0.8973</td> \n",
       "</tr>\n",
       "<tr>\n",
       "  <th>InternetService_DSL</th>                     <td>1.9111</td>   <td>0.9071</td>   <td>2.1068</td>  <td>0.0351</td> <td>0.1332</td>  <td>3.6891</td> \n",
       "</tr>\n",
       "<tr>\n",
       "  <th>InternetService_Fiber optic</th>             <td>3.7613</td>   <td>1.7922</td>   <td>2.0987</td>  <td>0.0358</td> <td>0.2486</td>  <td>7.2740</td> \n",
       "</tr>\n",
       "<tr>\n",
       "  <th>OnlineSecurity_Yes</th>                      <td>-0.1505</td>  <td>0.2008</td>   <td>-0.7493</td> <td>0.4537</td> <td>-0.5440</td> <td>0.2431</td> \n",
       "</tr>\n",
       "<tr>\n",
       "  <th>OnlineBackup_Yes</th>                        <td>0.0835</td>   <td>0.1965</td>   <td>0.4249</td>  <td>0.6709</td> <td>-0.3016</td> <td>0.4685</td> \n",
       "</tr>\n",
       "<tr>\n",
       "  <th>DeviceProtection_Yes</th>                    <td>0.2523</td>   <td>0.1975</td>   <td>1.2773</td>  <td>0.2015</td> <td>-0.1348</td> <td>0.6394</td> \n",
       "</tr>\n",
       "<tr>\n",
       "  <th>TechSupport_Yes</th>                         <td>-0.2002</td>  <td>0.2021</td>   <td>-0.9905</td> <td>0.3219</td> <td>-0.5964</td> <td>0.1960</td> \n",
       "</tr>\n",
       "<tr>\n",
       "  <th>StreamingTV_Yes</th>                         <td>0.6430</td>   <td>0.3666</td>   <td>1.7537</td>  <td>0.0795</td> <td>-0.0756</td> <td>1.3616</td> \n",
       "</tr>\n",
       "<tr>\n",
       "  <th>StreamingMovies_Yes</th>                     <td>0.7151</td>   <td>0.3671</td>   <td>1.9479</td>  <td>0.0514</td> <td>-0.0044</td> <td>1.4346</td> \n",
       "</tr>\n",
       "<tr>\n",
       "  <th>Contract_One year</th>                       <td>-0.6996</td>  <td>0.1183</td>   <td>-5.9160</td> <td>0.0000</td> <td>-0.9313</td> <td>-0.4678</td>\n",
       "</tr>\n",
       "<tr>\n",
       "  <th>Contract_Two year</th>                       <td>-1.4462</td>  <td>0.1952</td>   <td>-7.4102</td> <td>0.0000</td> <td>-1.8287</td> <td>-1.0637</td>\n",
       "</tr>\n",
       "<tr>\n",
       "  <th>PaperlessBilling_Yes</th>                    <td>0.2808</td>   <td>0.0826</td>   <td>3.4012</td>  <td>0.0007</td> <td>0.1190</td>  <td>0.4427</td> \n",
       "</tr>\n",
       "<tr>\n",
       "  <th>PaymentMethod_Bank transfer (automatic)</th> <td>-0.0325</td>  <td>0.1269</td>   <td>-0.2562</td> <td>0.7978</td> <td>-0.2813</td> <td>0.2162</td> \n",
       "</tr>\n",
       "<tr>\n",
       "  <th>PaymentMethod_Credit card (automatic)</th>   <td>-0.1307</td>  <td>0.1284</td>   <td>-1.0178</td> <td>0.3088</td> <td>-0.3824</td> <td>0.1210</td> \n",
       "</tr>\n",
       "<tr>\n",
       "  <th>PaymentMethod_Electronic check</th>          <td>0.3287</td>   <td>0.1057</td>   <td>3.1098</td>  <td>0.0019</td> <td>0.1215</td>  <td>0.5358</td> \n",
       "</tr>\n",
       "<tr>\n",
       "  <th>intercept</th>                               <td>-1.0825</td>  <td>0.1950</td>   <td>-5.5522</td> <td>0.0000</td> <td>-1.4647</td> <td>-0.7004</td>\n",
       "</tr>\n",
       "</table>"
      ],
      "text/plain": [
       "<class 'statsmodels.iolib.summary2.Summary'>\n",
       "\"\"\"\n",
       "                                     Results: Logit\n",
       "========================================================================================\n",
       "Model:                       Logit                     Pseudo R-squared:          inf   \n",
       "Dependent Variable:          Churn_Yes                 AIC:                       inf   \n",
       "Date:                        2019-10-11 15:27          BIC:                       inf   \n",
       "No. Observations:            5614                      Log-Likelihood:            -inf  \n",
       "Df Model:                    22                        LL-Null:                   0.0000\n",
       "Df Residuals:                5591                      LLR p-value:               1.0000\n",
       "Converged:                   1.0000                    Scale:                     1.0000\n",
       "No. Iterations:              8.0000                                                     \n",
       "----------------------------------------------------------------------------------------\n",
       "                                         Coef.  Std.Err.    z     P>|z|   [0.025  0.975]\n",
       "----------------------------------------------------------------------------------------\n",
       "SeniorCitizen                            0.1752   0.0949   1.8463 0.0648 -0.0108  0.3613\n",
       "tenure                                  -0.0322   0.0026 -12.2511 0.0000 -0.0373 -0.0270\n",
       "MonthlyCharges                          -0.0414   0.0357  -1.1600 0.2460 -0.1113  0.0285\n",
       "gender_Female                            0.0357   0.0723   0.4936 0.6216 -0.1060  0.1773\n",
       "Partner_Yes                              0.0035   0.0874   0.0401 0.9680 -0.1678  0.1748\n",
       "PhoneService_Yes                         0.4231   0.7286   0.5808 0.5614 -1.0048  1.8511\n",
       "Dependents_Yes                          -0.1606   0.1004  -1.5996 0.1097 -0.3575  0.0362\n",
       "MultipleLines_Yes                        0.5071   0.1991   2.5474 0.0109  0.1169  0.8973\n",
       "InternetService_DSL                      1.9111   0.9071   2.1068 0.0351  0.1332  3.6891\n",
       "InternetService_Fiber optic              3.7613   1.7922   2.0987 0.0358  0.2486  7.2740\n",
       "OnlineSecurity_Yes                      -0.1505   0.2008  -0.7493 0.4537 -0.5440  0.2431\n",
       "OnlineBackup_Yes                         0.0835   0.1965   0.4249 0.6709 -0.3016  0.4685\n",
       "DeviceProtection_Yes                     0.2523   0.1975   1.2773 0.2015 -0.1348  0.6394\n",
       "TechSupport_Yes                         -0.2002   0.2021  -0.9905 0.3219 -0.5964  0.1960\n",
       "StreamingTV_Yes                          0.6430   0.3666   1.7537 0.0795 -0.0756  1.3616\n",
       "StreamingMovies_Yes                      0.7151   0.3671   1.9479 0.0514 -0.0044  1.4346\n",
       "Contract_One year                       -0.6996   0.1183  -5.9160 0.0000 -0.9313 -0.4678\n",
       "Contract_Two year                       -1.4462   0.1952  -7.4102 0.0000 -1.8287 -1.0637\n",
       "PaperlessBilling_Yes                     0.2808   0.0826   3.4012 0.0007  0.1190  0.4427\n",
       "PaymentMethod_Bank transfer (automatic) -0.0325   0.1269  -0.2562 0.7978 -0.2813  0.2162\n",
       "PaymentMethod_Credit card (automatic)   -0.1307   0.1284  -1.0178 0.3088 -0.3824  0.1210\n",
       "PaymentMethod_Electronic check           0.3287   0.1057   3.1098 0.0019  0.1215  0.5358\n",
       "intercept                               -1.0825   0.1950  -5.5522 0.0000 -1.4647 -0.7004\n",
       "========================================================================================\n",
       "\n",
       "\"\"\""
      ]
     },
     "execution_count": 247,
     "metadata": {},
     "output_type": "execute_result"
    }
   ],
   "source": [
    "# Intercept\n",
    "tcc[\"intercept\"] = 1.0\n",
    "\n",
    "variables = tcc.copy()[['SeniorCitizen', 'tenure', 'MonthlyCharges', \n",
    "       'gender_Female', 'Partner_Yes', 'PhoneService_Yes',\n",
    "        'Dependents_Yes', 'MultipleLines_Yes',\n",
    "       'InternetService_DSL', 'InternetService_Fiber optic', 'OnlineSecurity_Yes',\n",
    "        'OnlineBackup_Yes', 'DeviceProtection_Yes', 'TechSupport_Yes', 'StreamingTV_Yes',\n",
    "       'StreamingMovies_Yes', 'Contract_One year', 'Contract_Two year', 'PaperlessBilling_Yes',\n",
    "       'PaymentMethod_Bank transfer (automatic)', 'PaymentMethod_Credit card (automatic)',\n",
    "       'PaymentMethod_Electronic check', 'intercept']]\n",
    "\n",
    "# Setting the model\n",
    "logistical_regression = sm.Logit(tcc[\"Churn_Yes\"], variables)\n",
    "\n",
    "# Fitting the model\n",
    "fitted_model = logistical_regression.fit()\n",
    "fitted_model.summary2()"
   ]
  },
  {
   "cell_type": "markdown",
   "metadata": {},
   "source": [
    "To improve the goodness of our results we can first work on _PaymentMethod_. We will transform the variable _PaymentMethod_ in order to analyze the difference between automatic Payment Method and non automatic. Clients with automatic payment are less likely to churn with respect to clients with no automatic payment. We are not interested in the difference between Bank transfer and Credit card, or between Electronic check or Mailed check."
   ]
  },
  {
   "cell_type": "code",
   "execution_count": 248,
   "metadata": {
    "ExecuteTime": {
     "end_time": "2019-10-11T13:29:01.081610Z",
     "start_time": "2019-10-11T13:29:01.072219Z"
    }
   },
   "outputs": [],
   "source": [
    "# Transforming PaymentMethod\n",
    "def transform_payment(df):\n",
    "    df[\"PaymentMethod_Automatic\"] = df[\"PaymentMethod_Bank transfer (automatic)\"] + df[\"PaymentMethod_Credit card (automatic)\"]\n",
    "    return df\n",
    "\n",
    "tcc = transform_payment(tcc)"
   ]
  },
  {
   "cell_type": "code",
   "execution_count": 249,
   "metadata": {
    "ExecuteTime": {
     "end_time": "2019-10-11T13:29:14.961487Z",
     "start_time": "2019-10-11T13:29:14.788717Z"
    },
    "scrolled": false
   },
   "outputs": [
    {
     "name": "stdout",
     "output_type": "stream",
     "text": [
      "Optimization terminated successfully.\n",
      "         Current function value: inf\n",
      "         Iterations 8\n"
     ]
    },
    {
     "name": "stderr",
     "output_type": "stream",
     "text": [
      "/home/3005019/anaconda3/lib/python3.7/site-packages/statsmodels/discrete/discrete_model.py:1736: RuntimeWarning:\n",
      "\n",
      "overflow encountered in exp\n",
      "\n",
      "/home/3005019/anaconda3/lib/python3.7/site-packages/statsmodels/discrete/discrete_model.py:1789: RuntimeWarning:\n",
      "\n",
      "divide by zero encountered in log\n",
      "\n",
      "/home/3005019/anaconda3/lib/python3.7/site-packages/statsmodels/base/model.py:492: HessianInversionWarning:\n",
      "\n",
      "Inverting hessian failed, no bse or cov_params available\n",
      "\n",
      "/home/3005019/anaconda3/lib/python3.7/site-packages/statsmodels/base/model.py:492: HessianInversionWarning:\n",
      "\n",
      "Inverting hessian failed, no bse or cov_params available\n",
      "\n"
     ]
    },
    {
     "data": {
      "text/html": [
       "<table class=\"simpletable\">\n",
       "<tr>\n",
       "        <td>Model:</td>              <td>Logit</td>      <td>Pseudo R-squared:</td>   <td>inf</td> \n",
       "</tr>\n",
       "<tr>\n",
       "  <td>Dependent Variable:</td>     <td>Churn_Yes</td>          <td>AIC:</td>          <td>inf</td> \n",
       "</tr>\n",
       "<tr>\n",
       "         <td>Date:</td>        <td>2019-10-11 15:29</td>       <td>BIC:</td>          <td>inf</td> \n",
       "</tr>\n",
       "<tr>\n",
       "   <td>No. Observations:</td>        <td>5614</td>        <td>Log-Likelihood:</td>   <td>-inf</td> \n",
       "</tr>\n",
       "<tr>\n",
       "       <td>Df Model:</td>             <td>19</td>            <td>LL-Null:</td>      <td>0.0000</td>\n",
       "</tr>\n",
       "<tr>\n",
       "     <td>Df Residuals:</td>          <td>5594</td>         <td>LLR p-value:</td>    <td>1.0000</td>\n",
       "</tr>\n",
       "<tr>\n",
       "      <td>Converged:</td>           <td>1.0000</td>           <td>Scale:</td>       <td>1.0000</td>\n",
       "</tr>\n",
       "<tr>\n",
       "    <td>No. Iterations:</td>        <td>8.0000</td>              <td></td>             <td></td>   \n",
       "</tr>\n",
       "</table>\n",
       "<table class=\"simpletable\">\n",
       "<tr>\n",
       "               <td></td>                <th>Coef.</th>  <th>Std.Err.</th>     <th>z</th>     <th>P>|z|</th> <th>[0.025</th>  <th>0.975]</th> \n",
       "</tr>\n",
       "<tr>\n",
       "  <th>SeniorCitizen</th>               <td>0.1899</td>   <td>0.0946</td>   <td>2.0086</td>  <td>0.0446</td> <td>0.0046</td>  <td>0.3753</td> \n",
       "</tr>\n",
       "<tr>\n",
       "  <th>tenure</th>                      <td>-0.0315</td>  <td>0.0026</td>  <td>-12.0685</td> <td>0.0000</td> <td>-0.0367</td> <td>-0.0264</td>\n",
       "</tr>\n",
       "<tr>\n",
       "  <th>MonthlyCharges</th>              <td>-0.0218</td>  <td>0.0069</td>   <td>-3.1685</td> <td>0.0015</td> <td>-0.0352</td> <td>-0.0083</td>\n",
       "</tr>\n",
       "<tr>\n",
       "  <th>gender_Female</th>               <td>0.0407</td>   <td>0.0721</td>   <td>0.5638</td>  <td>0.5729</td> <td>-0.1007</td> <td>0.1820</td> \n",
       "</tr>\n",
       "<tr>\n",
       "  <th>Partner_Yes</th>                 <td>0.0121</td>   <td>0.0871</td>   <td>0.1385</td>  <td>0.8898</td> <td>-0.1587</td> <td>0.1828</td> \n",
       "</tr>\n",
       "<tr>\n",
       "  <th>Dependents_Yes</th>              <td>-0.1664</td>  <td>0.1002</td>   <td>-1.6611</td> <td>0.0967</td> <td>-0.3628</td> <td>0.0299</td> \n",
       "</tr>\n",
       "<tr>\n",
       "  <th>MultipleLines_Yes</th>           <td>0.4180</td>   <td>0.1003</td>   <td>4.1693</td>  <td>0.0000</td> <td>0.2215</td>  <td>0.6145</td> \n",
       "</tr>\n",
       "<tr>\n",
       "  <th>InternetService_DSL</th>         <td>1.4923</td>   <td>0.1928</td>   <td>7.7419</td>  <td>0.0000</td> <td>1.1145</td>  <td>1.8701</td> \n",
       "</tr>\n",
       "<tr>\n",
       "  <th>InternetService_Fiber optic</th> <td>2.9085</td>   <td>0.3733</td>   <td>7.7918</td>  <td>0.0000</td> <td>2.1769</td>  <td>3.6401</td> \n",
       "</tr>\n",
       "<tr>\n",
       "  <th>OnlineSecurity_Yes</th>          <td>-0.2612</td>  <td>0.1010</td>   <td>-2.5869</td> <td>0.0097</td> <td>-0.4591</td> <td>-0.0633</td>\n",
       "</tr>\n",
       "<tr>\n",
       "  <th>OnlineBackup_Yes</th>            <td>-0.0173</td>  <td>0.0907</td>   <td>-0.1908</td> <td>0.8487</td> <td>-0.1951</td> <td>0.1605</td> \n",
       "</tr>\n",
       "<tr>\n",
       "  <th>DeviceProtection_Yes</th>        <td>0.1463</td>   <td>0.0932</td>   <td>1.5690</td>  <td>0.1166</td> <td>-0.0364</td> <td>0.3290</td> \n",
       "</tr>\n",
       "<tr>\n",
       "  <th>TechSupport_Yes</th>             <td>-0.3139</td>  <td>0.1015</td>   <td>-3.0926</td> <td>0.0020</td> <td>-0.5129</td> <td>-0.1150</td>\n",
       "</tr>\n",
       "<tr>\n",
       "  <th>StreamingTV_Yes</th>             <td>0.4621</td>   <td>0.1110</td>   <td>4.1621</td>  <td>0.0000</td> <td>0.2445</td>  <td>0.6797</td> \n",
       "</tr>\n",
       "<tr>\n",
       "  <th>StreamingMovies_Yes</th>         <td>0.5328</td>   <td>0.1092</td>   <td>4.8783</td>  <td>0.0000</td> <td>0.3187</td>  <td>0.7468</td> \n",
       "</tr>\n",
       "<tr>\n",
       "  <th>Contract_One year</th>           <td>-0.7216</td>  <td>0.1180</td>   <td>-6.1144</td> <td>0.0000</td> <td>-0.9529</td> <td>-0.4903</td>\n",
       "</tr>\n",
       "<tr>\n",
       "  <th>Contract_Two year</th>           <td>-1.4744</td>  <td>0.1948</td>   <td>-7.5703</td> <td>0.0000</td> <td>-1.8562</td> <td>-1.0927</td>\n",
       "</tr>\n",
       "<tr>\n",
       "  <th>PaperlessBilling_Yes</th>        <td>0.2990</td>   <td>0.0823</td>   <td>3.6339</td>  <td>0.0003</td> <td>0.1377</td>  <td>0.4602</td> \n",
       "</tr>\n",
       "<tr>\n",
       "  <th>PaymentMethod_Automatic</th>     <td>-0.3141</td>  <td>0.0809</td>   <td>-3.8845</td> <td>0.0001</td> <td>-0.4725</td> <td>-0.1556</td>\n",
       "</tr>\n",
       "<tr>\n",
       "  <th>intercept</th>                   <td>-0.9610</td>  <td>0.1890</td>   <td>-5.0845</td> <td>0.0000</td> <td>-1.3315</td> <td>-0.5906</td>\n",
       "</tr>\n",
       "</table>"
      ],
      "text/plain": [
       "<class 'statsmodels.iolib.summary2.Summary'>\n",
       "\"\"\"\n",
       "                               Results: Logit\n",
       "============================================================================\n",
       "Model:                   Logit                 Pseudo R-squared:      inf   \n",
       "Dependent Variable:      Churn_Yes             AIC:                   inf   \n",
       "Date:                    2019-10-11 15:29      BIC:                   inf   \n",
       "No. Observations:        5614                  Log-Likelihood:        -inf  \n",
       "Df Model:                19                    LL-Null:               0.0000\n",
       "Df Residuals:            5594                  LLR p-value:           1.0000\n",
       "Converged:               1.0000                Scale:                 1.0000\n",
       "No. Iterations:          8.0000                                             \n",
       "----------------------------------------------------------------------------\n",
       "                             Coef.  Std.Err.    z     P>|z|   [0.025  0.975]\n",
       "----------------------------------------------------------------------------\n",
       "SeniorCitizen                0.1899   0.0946   2.0086 0.0446  0.0046  0.3753\n",
       "tenure                      -0.0315   0.0026 -12.0685 0.0000 -0.0367 -0.0264\n",
       "MonthlyCharges              -0.0218   0.0069  -3.1685 0.0015 -0.0352 -0.0083\n",
       "gender_Female                0.0407   0.0721   0.5638 0.5729 -0.1007  0.1820\n",
       "Partner_Yes                  0.0121   0.0871   0.1385 0.8898 -0.1587  0.1828\n",
       "Dependents_Yes              -0.1664   0.1002  -1.6611 0.0967 -0.3628  0.0299\n",
       "MultipleLines_Yes            0.4180   0.1003   4.1693 0.0000  0.2215  0.6145\n",
       "InternetService_DSL          1.4923   0.1928   7.7419 0.0000  1.1145  1.8701\n",
       "InternetService_Fiber optic  2.9085   0.3733   7.7918 0.0000  2.1769  3.6401\n",
       "OnlineSecurity_Yes          -0.2612   0.1010  -2.5869 0.0097 -0.4591 -0.0633\n",
       "OnlineBackup_Yes            -0.0173   0.0907  -0.1908 0.8487 -0.1951  0.1605\n",
       "DeviceProtection_Yes         0.1463   0.0932   1.5690 0.1166 -0.0364  0.3290\n",
       "TechSupport_Yes             -0.3139   0.1015  -3.0926 0.0020 -0.5129 -0.1150\n",
       "StreamingTV_Yes              0.4621   0.1110   4.1621 0.0000  0.2445  0.6797\n",
       "StreamingMovies_Yes          0.5328   0.1092   4.8783 0.0000  0.3187  0.7468\n",
       "Contract_One year           -0.7216   0.1180  -6.1144 0.0000 -0.9529 -0.4903\n",
       "Contract_Two year           -1.4744   0.1948  -7.5703 0.0000 -1.8562 -1.0927\n",
       "PaperlessBilling_Yes         0.2990   0.0823   3.6339 0.0003  0.1377  0.4602\n",
       "PaymentMethod_Automatic     -0.3141   0.0809  -3.8845 0.0001 -0.4725 -0.1556\n",
       "intercept                   -0.9610   0.1890  -5.0845 0.0000 -1.3315 -0.5906\n",
       "============================================================================\n",
       "\n",
       "\"\"\""
      ]
     },
     "execution_count": 249,
     "metadata": {},
     "output_type": "execute_result"
    }
   ],
   "source": [
    "variables = tcc[['SeniorCitizen', 'tenure', 'MonthlyCharges', \n",
    "       'gender_Female', 'Partner_Yes',\n",
    "        'Dependents_Yes', 'MultipleLines_Yes',\n",
    "       'InternetService_DSL', 'InternetService_Fiber optic', 'OnlineSecurity_Yes',\n",
    "        'OnlineBackup_Yes', 'DeviceProtection_Yes', 'TechSupport_Yes', 'StreamingTV_Yes',\n",
    "       'StreamingMovies_Yes', 'Contract_One year', 'Contract_Two year', 'PaperlessBilling_Yes',\n",
    "       'PaymentMethod_Automatic', 'intercept']]\n",
    "\n",
    "# Setting the model\n",
    "logistical_regression = sm.Logit(tcc[\"Churn_Yes\"], variables)\n",
    "\n",
    "# Fitting the model\n",
    "fitted_model = logistical_regression.fit()\n",
    "fitted_model.summary2()"
   ]
  },
  {
   "cell_type": "markdown",
   "metadata": {},
   "source": [
    "We will remove from our model _OnlineBackup_ , _DeviceProtection_ , _gender_ and _partner_ as they are not significant."
   ]
  },
  {
   "cell_type": "code",
   "execution_count": 250,
   "metadata": {
    "ExecuteTime": {
     "end_time": "2019-10-11T13:29:22.044597Z",
     "start_time": "2019-10-11T13:29:21.870579Z"
    }
   },
   "outputs": [
    {
     "name": "stdout",
     "output_type": "stream",
     "text": [
      "Optimization terminated successfully.\n",
      "         Current function value: inf\n",
      "         Iterations 8\n"
     ]
    },
    {
     "name": "stderr",
     "output_type": "stream",
     "text": [
      "/home/3005019/anaconda3/lib/python3.7/site-packages/statsmodels/discrete/discrete_model.py:1736: RuntimeWarning:\n",
      "\n",
      "overflow encountered in exp\n",
      "\n",
      "/home/3005019/anaconda3/lib/python3.7/site-packages/statsmodels/discrete/discrete_model.py:1789: RuntimeWarning:\n",
      "\n",
      "divide by zero encountered in log\n",
      "\n",
      "/home/3005019/anaconda3/lib/python3.7/site-packages/statsmodels/base/model.py:492: HessianInversionWarning:\n",
      "\n",
      "Inverting hessian failed, no bse or cov_params available\n",
      "\n",
      "/home/3005019/anaconda3/lib/python3.7/site-packages/statsmodels/base/model.py:492: HessianInversionWarning:\n",
      "\n",
      "Inverting hessian failed, no bse or cov_params available\n",
      "\n"
     ]
    },
    {
     "data": {
      "text/html": [
       "<table class=\"simpletable\">\n",
       "<tr>\n",
       "        <td>Model:</td>              <td>Logit</td>      <td>Pseudo R-squared:</td>   <td>inf</td> \n",
       "</tr>\n",
       "<tr>\n",
       "  <td>Dependent Variable:</td>     <td>Churn_Yes</td>          <td>AIC:</td>          <td>inf</td> \n",
       "</tr>\n",
       "<tr>\n",
       "         <td>Date:</td>        <td>2019-10-11 15:29</td>       <td>BIC:</td>          <td>inf</td> \n",
       "</tr>\n",
       "<tr>\n",
       "   <td>No. Observations:</td>        <td>5614</td>        <td>Log-Likelihood:</td>   <td>-inf</td> \n",
       "</tr>\n",
       "<tr>\n",
       "       <td>Df Model:</td>             <td>15</td>            <td>LL-Null:</td>      <td>0.0000</td>\n",
       "</tr>\n",
       "<tr>\n",
       "     <td>Df Residuals:</td>          <td>5598</td>         <td>LLR p-value:</td>    <td>1.0000</td>\n",
       "</tr>\n",
       "<tr>\n",
       "      <td>Converged:</td>           <td>1.0000</td>           <td>Scale:</td>       <td>1.0000</td>\n",
       "</tr>\n",
       "<tr>\n",
       "    <td>No. Iterations:</td>        <td>8.0000</td>              <td></td>             <td></td>   \n",
       "</tr>\n",
       "</table>\n",
       "<table class=\"simpletable\">\n",
       "<tr>\n",
       "               <td></td>                <th>Coef.</th>  <th>Std.Err.</th>     <th>z</th>     <th>P>|z|</th> <th>[0.025</th>  <th>0.975]</th> \n",
       "</tr>\n",
       "<tr>\n",
       "  <th>SeniorCitizen</th>               <td>0.1960</td>   <td>0.0939</td>   <td>2.0876</td>  <td>0.0368</td> <td>0.0120</td>  <td>0.3799</td> \n",
       "</tr>\n",
       "<tr>\n",
       "  <th>tenure</th>                      <td>-0.0311</td>  <td>0.0024</td>  <td>-12.6970</td> <td>0.0000</td> <td>-0.0359</td> <td>-0.0263</td>\n",
       "</tr>\n",
       "<tr>\n",
       "  <th>MonthlyCharges</th>              <td>-0.0187</td>  <td>0.0060</td>   <td>-3.1055</td> <td>0.0019</td> <td>-0.0306</td> <td>-0.0069</td>\n",
       "</tr>\n",
       "<tr>\n",
       "  <th>Dependents_Yes</th>              <td>-0.1621</td>  <td>0.0903</td>   <td>-1.7953</td> <td>0.0726</td> <td>-0.3391</td> <td>0.0149</td> \n",
       "</tr>\n",
       "<tr>\n",
       "  <th>MultipleLines_Yes</th>           <td>0.3940</td>   <td>0.0970</td>   <td>4.0605</td>  <td>0.0000</td> <td>0.2038</td>  <td>0.5842</td> \n",
       "</tr>\n",
       "<tr>\n",
       "  <th>InternetService_DSL</th>         <td>1.4530</td>   <td>0.1892</td>   <td>7.6786</td>  <td>0.0000</td> <td>1.0821</td>  <td>1.8239</td> \n",
       "</tr>\n",
       "<tr>\n",
       "  <th>InternetService_Fiber optic</th> <td>2.7796</td>   <td>0.3461</td>   <td>8.0304</td>  <td>0.0000</td> <td>2.1012</td>  <td>3.4580</td> \n",
       "</tr>\n",
       "<tr>\n",
       "  <th>OnlineSecurity_Yes</th>          <td>-0.2792</td>  <td>0.0993</td>   <td>-2.8115</td> <td>0.0049</td> <td>-0.4739</td> <td>-0.0846</td>\n",
       "</tr>\n",
       "<tr>\n",
       "  <th>TechSupport_Yes</th>             <td>-0.3231</td>  <td>0.1007</td>   <td>-3.2089</td> <td>0.0013</td> <td>-0.5204</td> <td>-0.1257</td>\n",
       "</tr>\n",
       "<tr>\n",
       "  <th>StreamingTV_Yes</th>             <td>0.4480</td>   <td>0.1078</td>   <td>4.1556</td>  <td>0.0000</td> <td>0.2367</td>  <td>0.6593</td> \n",
       "</tr>\n",
       "<tr>\n",
       "  <th>StreamingMovies_Yes</th>         <td>0.5177</td>   <td>0.1062</td>   <td>4.8767</td>  <td>0.0000</td> <td>0.3096</td>  <td>0.7257</td> \n",
       "</tr>\n",
       "<tr>\n",
       "  <th>Contract_One year</th>           <td>-0.7078</td>  <td>0.1177</td>   <td>-6.0148</td> <td>0.0000</td> <td>-0.9384</td> <td>-0.4772</td>\n",
       "</tr>\n",
       "<tr>\n",
       "  <th>Contract_Two year</th>           <td>-1.4538</td>  <td>0.1943</td>   <td>-7.4804</td> <td>0.0000</td> <td>-1.8347</td> <td>-1.0729</td>\n",
       "</tr>\n",
       "<tr>\n",
       "  <th>PaperlessBilling_Yes</th>        <td>0.2968</td>   <td>0.0822</td>   <td>3.6119</td>  <td>0.0003</td> <td>0.1357</td>  <td>0.4579</td> \n",
       "</tr>\n",
       "<tr>\n",
       "  <th>PaymentMethod_Automatic</th>     <td>-0.3099</td>  <td>0.0808</td>   <td>-3.8373</td> <td>0.0001</td> <td>-0.4682</td> <td>-0.1516</td>\n",
       "</tr>\n",
       "<tr>\n",
       "  <th>intercept</th>                   <td>-1.0083</td>  <td>0.1696</td>   <td>-5.9435</td> <td>0.0000</td> <td>-1.3408</td> <td>-0.6758</td>\n",
       "</tr>\n",
       "</table>"
      ],
      "text/plain": [
       "<class 'statsmodels.iolib.summary2.Summary'>\n",
       "\"\"\"\n",
       "                               Results: Logit\n",
       "============================================================================\n",
       "Model:                   Logit                 Pseudo R-squared:      inf   \n",
       "Dependent Variable:      Churn_Yes             AIC:                   inf   \n",
       "Date:                    2019-10-11 15:29      BIC:                   inf   \n",
       "No. Observations:        5614                  Log-Likelihood:        -inf  \n",
       "Df Model:                15                    LL-Null:               0.0000\n",
       "Df Residuals:            5598                  LLR p-value:           1.0000\n",
       "Converged:               1.0000                Scale:                 1.0000\n",
       "No. Iterations:          8.0000                                             \n",
       "----------------------------------------------------------------------------\n",
       "                             Coef.  Std.Err.    z     P>|z|   [0.025  0.975]\n",
       "----------------------------------------------------------------------------\n",
       "SeniorCitizen                0.1960   0.0939   2.0876 0.0368  0.0120  0.3799\n",
       "tenure                      -0.0311   0.0024 -12.6970 0.0000 -0.0359 -0.0263\n",
       "MonthlyCharges              -0.0187   0.0060  -3.1055 0.0019 -0.0306 -0.0069\n",
       "Dependents_Yes              -0.1621   0.0903  -1.7953 0.0726 -0.3391  0.0149\n",
       "MultipleLines_Yes            0.3940   0.0970   4.0605 0.0000  0.2038  0.5842\n",
       "InternetService_DSL          1.4530   0.1892   7.6786 0.0000  1.0821  1.8239\n",
       "InternetService_Fiber optic  2.7796   0.3461   8.0304 0.0000  2.1012  3.4580\n",
       "OnlineSecurity_Yes          -0.2792   0.0993  -2.8115 0.0049 -0.4739 -0.0846\n",
       "TechSupport_Yes             -0.3231   0.1007  -3.2089 0.0013 -0.5204 -0.1257\n",
       "StreamingTV_Yes              0.4480   0.1078   4.1556 0.0000  0.2367  0.6593\n",
       "StreamingMovies_Yes          0.5177   0.1062   4.8767 0.0000  0.3096  0.7257\n",
       "Contract_One year           -0.7078   0.1177  -6.0148 0.0000 -0.9384 -0.4772\n",
       "Contract_Two year           -1.4538   0.1943  -7.4804 0.0000 -1.8347 -1.0729\n",
       "PaperlessBilling_Yes         0.2968   0.0822   3.6119 0.0003  0.1357  0.4579\n",
       "PaymentMethod_Automatic     -0.3099   0.0808  -3.8373 0.0001 -0.4682 -0.1516\n",
       "intercept                   -1.0083   0.1696  -5.9435 0.0000 -1.3408 -0.6758\n",
       "============================================================================\n",
       "\n",
       "\"\"\""
      ]
     },
     "execution_count": 250,
     "metadata": {},
     "output_type": "execute_result"
    }
   ],
   "source": [
    "variables = tcc[['SeniorCitizen', 'tenure', 'MonthlyCharges', \n",
    "        'Dependents_Yes', 'MultipleLines_Yes',\n",
    "       'InternetService_DSL', 'InternetService_Fiber optic', 'OnlineSecurity_Yes',\n",
    "        'TechSupport_Yes', 'StreamingTV_Yes',\n",
    "       'StreamingMovies_Yes', 'Contract_One year', 'Contract_Two year', 'PaperlessBilling_Yes',\n",
    "       'PaymentMethod_Automatic', 'intercept']]\n",
    "\n",
    "# Setting the model\n",
    "logistical_regression = sm.Logit(tcc[\"Churn_Yes\"], variables)\n",
    "\n",
    "# Fitting the model\n",
    "fitted_model = logistical_regression.fit()\n",
    "fitted_model.summary2()"
   ]
  },
  {
   "cell_type": "markdown",
   "metadata": {},
   "source": [
    "To improve the interpretability of our regression, instead of considering _tenure_ as a continuous variable we can divide it into 4 clusters."
   ]
  },
  {
   "cell_type": "code",
   "execution_count": 251,
   "metadata": {
    "ExecuteTime": {
     "end_time": "2019-10-11T13:30:12.367991Z",
     "start_time": "2019-10-11T13:30:12.338815Z"
    }
   },
   "outputs": [],
   "source": [
    "def cluster(df):\n",
    "    df[\"tenure_0:18\"]  = 0\n",
    "    df[\"tenure_19:36\"] = 0\n",
    "    df[\"tenure_37:54\"] = 0\n",
    "    df[\"tenure_55:72\"] = 0\n",
    "\n",
    "    df.loc[df.tenure <= 18, \"tenure_0:18\"] = 1\n",
    "    df.loc[((df.tenure >= 19) & (df.tenure <= 36)), \"tenure_19:36\"] = 1\n",
    "    df.loc[((df.tenure >= 37) & (df.tenure <= 54)), \"tenure_37:54\"] = 1\n",
    "    df.loc[df.tenure >= 55, \"tenure_55:72\"] = 1\n",
    "    \n",
    "    return df\n",
    "\n",
    "tcc = cluster(tcc)"
   ]
  },
  {
   "cell_type": "code",
   "execution_count": 252,
   "metadata": {
    "ExecuteTime": {
     "end_time": "2019-10-11T13:30:13.171908Z",
     "start_time": "2019-10-11T13:30:13.136426Z"
    },
    "scrolled": true
   },
   "outputs": [
    {
     "data": {
      "text/html": [
       "<div>\n",
       "<style scoped>\n",
       "    .dataframe tbody tr th:only-of-type {\n",
       "        vertical-align: middle;\n",
       "    }\n",
       "\n",
       "    .dataframe tbody tr th {\n",
       "        vertical-align: top;\n",
       "    }\n",
       "\n",
       "    .dataframe thead th {\n",
       "        text-align: right;\n",
       "    }\n",
       "</style>\n",
       "<table border=\"1\" class=\"dataframe\">\n",
       "  <thead>\n",
       "    <tr style=\"text-align: right;\">\n",
       "      <th></th>\n",
       "      <th>SeniorCitizen</th>\n",
       "      <th>tenure</th>\n",
       "      <th>MonthlyCharges</th>\n",
       "      <th>TotalCharges</th>\n",
       "      <th>gender_Female</th>\n",
       "      <th>gender_Male</th>\n",
       "      <th>Partner_No</th>\n",
       "      <th>Partner_Yes</th>\n",
       "      <th>Dependents_No</th>\n",
       "      <th>Dependents_Yes</th>\n",
       "      <th>PhoneService_No</th>\n",
       "      <th>PhoneService_Yes</th>\n",
       "      <th>MultipleLines_No</th>\n",
       "      <th>MultipleLines_No phone service</th>\n",
       "      <th>MultipleLines_Yes</th>\n",
       "      <th>InternetService_DSL</th>\n",
       "      <th>InternetService_Fiber optic</th>\n",
       "      <th>InternetService_No</th>\n",
       "      <th>OnlineSecurity_No</th>\n",
       "      <th>OnlineSecurity_No internet service</th>\n",
       "      <th>OnlineSecurity_Yes</th>\n",
       "      <th>OnlineBackup_No</th>\n",
       "      <th>OnlineBackup_No internet service</th>\n",
       "      <th>OnlineBackup_Yes</th>\n",
       "      <th>DeviceProtection_No</th>\n",
       "      <th>DeviceProtection_No internet service</th>\n",
       "      <th>DeviceProtection_Yes</th>\n",
       "      <th>TechSupport_No</th>\n",
       "      <th>TechSupport_No internet service</th>\n",
       "      <th>TechSupport_Yes</th>\n",
       "      <th>StreamingTV_No</th>\n",
       "      <th>StreamingTV_No internet service</th>\n",
       "      <th>StreamingTV_Yes</th>\n",
       "      <th>StreamingMovies_No</th>\n",
       "      <th>StreamingMovies_No internet service</th>\n",
       "      <th>StreamingMovies_Yes</th>\n",
       "      <th>Contract_Month-to-month</th>\n",
       "      <th>Contract_One year</th>\n",
       "      <th>Contract_Two year</th>\n",
       "      <th>PaperlessBilling_No</th>\n",
       "      <th>PaperlessBilling_Yes</th>\n",
       "      <th>PaymentMethod_Bank transfer (automatic)</th>\n",
       "      <th>PaymentMethod_Credit card (automatic)</th>\n",
       "      <th>PaymentMethod_Electronic check</th>\n",
       "      <th>PaymentMethod_Mailed check</th>\n",
       "      <th>Churn_No</th>\n",
       "      <th>Churn_Yes</th>\n",
       "      <th>intercept</th>\n",
       "      <th>PaymentMethod_Automatic</th>\n",
       "      <th>tenure_0:18</th>\n",
       "      <th>tenure_19:36</th>\n",
       "      <th>tenure_37:54</th>\n",
       "      <th>tenure_55:72</th>\n",
       "    </tr>\n",
       "  </thead>\n",
       "  <tbody>\n",
       "    <tr>\n",
       "      <td>0</td>\n",
       "      <td>0</td>\n",
       "      <td>1</td>\n",
       "      <td>29.85</td>\n",
       "      <td>29.85</td>\n",
       "      <td>1</td>\n",
       "      <td>0</td>\n",
       "      <td>0</td>\n",
       "      <td>1</td>\n",
       "      <td>1</td>\n",
       "      <td>0</td>\n",
       "      <td>1</td>\n",
       "      <td>0</td>\n",
       "      <td>0</td>\n",
       "      <td>1</td>\n",
       "      <td>0</td>\n",
       "      <td>1</td>\n",
       "      <td>0</td>\n",
       "      <td>0</td>\n",
       "      <td>1</td>\n",
       "      <td>0</td>\n",
       "      <td>0</td>\n",
       "      <td>0</td>\n",
       "      <td>0</td>\n",
       "      <td>1</td>\n",
       "      <td>1</td>\n",
       "      <td>0</td>\n",
       "      <td>0</td>\n",
       "      <td>1</td>\n",
       "      <td>0</td>\n",
       "      <td>0</td>\n",
       "      <td>1</td>\n",
       "      <td>0</td>\n",
       "      <td>0</td>\n",
       "      <td>1</td>\n",
       "      <td>0</td>\n",
       "      <td>0</td>\n",
       "      <td>1</td>\n",
       "      <td>0</td>\n",
       "      <td>0</td>\n",
       "      <td>0</td>\n",
       "      <td>1</td>\n",
       "      <td>0</td>\n",
       "      <td>0</td>\n",
       "      <td>1</td>\n",
       "      <td>0</td>\n",
       "      <td>1</td>\n",
       "      <td>0</td>\n",
       "      <td>1.0</td>\n",
       "      <td>0</td>\n",
       "      <td>1</td>\n",
       "      <td>0</td>\n",
       "      <td>0</td>\n",
       "      <td>0</td>\n",
       "    </tr>\n",
       "    <tr>\n",
       "      <td>1</td>\n",
       "      <td>0</td>\n",
       "      <td>34</td>\n",
       "      <td>56.95</td>\n",
       "      <td>1889.50</td>\n",
       "      <td>0</td>\n",
       "      <td>1</td>\n",
       "      <td>1</td>\n",
       "      <td>0</td>\n",
       "      <td>1</td>\n",
       "      <td>0</td>\n",
       "      <td>0</td>\n",
       "      <td>1</td>\n",
       "      <td>1</td>\n",
       "      <td>0</td>\n",
       "      <td>0</td>\n",
       "      <td>1</td>\n",
       "      <td>0</td>\n",
       "      <td>0</td>\n",
       "      <td>0</td>\n",
       "      <td>0</td>\n",
       "      <td>1</td>\n",
       "      <td>1</td>\n",
       "      <td>0</td>\n",
       "      <td>0</td>\n",
       "      <td>0</td>\n",
       "      <td>0</td>\n",
       "      <td>1</td>\n",
       "      <td>1</td>\n",
       "      <td>0</td>\n",
       "      <td>0</td>\n",
       "      <td>1</td>\n",
       "      <td>0</td>\n",
       "      <td>0</td>\n",
       "      <td>1</td>\n",
       "      <td>0</td>\n",
       "      <td>0</td>\n",
       "      <td>0</td>\n",
       "      <td>1</td>\n",
       "      <td>0</td>\n",
       "      <td>1</td>\n",
       "      <td>0</td>\n",
       "      <td>0</td>\n",
       "      <td>0</td>\n",
       "      <td>0</td>\n",
       "      <td>1</td>\n",
       "      <td>1</td>\n",
       "      <td>0</td>\n",
       "      <td>1.0</td>\n",
       "      <td>0</td>\n",
       "      <td>0</td>\n",
       "      <td>1</td>\n",
       "      <td>0</td>\n",
       "      <td>0</td>\n",
       "    </tr>\n",
       "    <tr>\n",
       "      <td>2</td>\n",
       "      <td>0</td>\n",
       "      <td>2</td>\n",
       "      <td>53.85</td>\n",
       "      <td>108.15</td>\n",
       "      <td>0</td>\n",
       "      <td>1</td>\n",
       "      <td>1</td>\n",
       "      <td>0</td>\n",
       "      <td>1</td>\n",
       "      <td>0</td>\n",
       "      <td>0</td>\n",
       "      <td>1</td>\n",
       "      <td>1</td>\n",
       "      <td>0</td>\n",
       "      <td>0</td>\n",
       "      <td>1</td>\n",
       "      <td>0</td>\n",
       "      <td>0</td>\n",
       "      <td>0</td>\n",
       "      <td>0</td>\n",
       "      <td>1</td>\n",
       "      <td>0</td>\n",
       "      <td>0</td>\n",
       "      <td>1</td>\n",
       "      <td>1</td>\n",
       "      <td>0</td>\n",
       "      <td>0</td>\n",
       "      <td>1</td>\n",
       "      <td>0</td>\n",
       "      <td>0</td>\n",
       "      <td>1</td>\n",
       "      <td>0</td>\n",
       "      <td>0</td>\n",
       "      <td>1</td>\n",
       "      <td>0</td>\n",
       "      <td>0</td>\n",
       "      <td>1</td>\n",
       "      <td>0</td>\n",
       "      <td>0</td>\n",
       "      <td>0</td>\n",
       "      <td>1</td>\n",
       "      <td>0</td>\n",
       "      <td>0</td>\n",
       "      <td>0</td>\n",
       "      <td>1</td>\n",
       "      <td>0</td>\n",
       "      <td>1</td>\n",
       "      <td>1.0</td>\n",
       "      <td>0</td>\n",
       "      <td>1</td>\n",
       "      <td>0</td>\n",
       "      <td>0</td>\n",
       "      <td>0</td>\n",
       "    </tr>\n",
       "    <tr>\n",
       "      <td>3</td>\n",
       "      <td>0</td>\n",
       "      <td>45</td>\n",
       "      <td>42.30</td>\n",
       "      <td>1840.75</td>\n",
       "      <td>0</td>\n",
       "      <td>1</td>\n",
       "      <td>1</td>\n",
       "      <td>0</td>\n",
       "      <td>1</td>\n",
       "      <td>0</td>\n",
       "      <td>1</td>\n",
       "      <td>0</td>\n",
       "      <td>0</td>\n",
       "      <td>1</td>\n",
       "      <td>0</td>\n",
       "      <td>1</td>\n",
       "      <td>0</td>\n",
       "      <td>0</td>\n",
       "      <td>0</td>\n",
       "      <td>0</td>\n",
       "      <td>1</td>\n",
       "      <td>1</td>\n",
       "      <td>0</td>\n",
       "      <td>0</td>\n",
       "      <td>0</td>\n",
       "      <td>0</td>\n",
       "      <td>1</td>\n",
       "      <td>0</td>\n",
       "      <td>0</td>\n",
       "      <td>1</td>\n",
       "      <td>1</td>\n",
       "      <td>0</td>\n",
       "      <td>0</td>\n",
       "      <td>1</td>\n",
       "      <td>0</td>\n",
       "      <td>0</td>\n",
       "      <td>0</td>\n",
       "      <td>1</td>\n",
       "      <td>0</td>\n",
       "      <td>1</td>\n",
       "      <td>0</td>\n",
       "      <td>1</td>\n",
       "      <td>0</td>\n",
       "      <td>0</td>\n",
       "      <td>0</td>\n",
       "      <td>1</td>\n",
       "      <td>0</td>\n",
       "      <td>1.0</td>\n",
       "      <td>1</td>\n",
       "      <td>0</td>\n",
       "      <td>0</td>\n",
       "      <td>1</td>\n",
       "      <td>0</td>\n",
       "    </tr>\n",
       "    <tr>\n",
       "      <td>4</td>\n",
       "      <td>0</td>\n",
       "      <td>2</td>\n",
       "      <td>70.70</td>\n",
       "      <td>151.65</td>\n",
       "      <td>1</td>\n",
       "      <td>0</td>\n",
       "      <td>1</td>\n",
       "      <td>0</td>\n",
       "      <td>1</td>\n",
       "      <td>0</td>\n",
       "      <td>0</td>\n",
       "      <td>1</td>\n",
       "      <td>1</td>\n",
       "      <td>0</td>\n",
       "      <td>0</td>\n",
       "      <td>0</td>\n",
       "      <td>1</td>\n",
       "      <td>0</td>\n",
       "      <td>1</td>\n",
       "      <td>0</td>\n",
       "      <td>0</td>\n",
       "      <td>1</td>\n",
       "      <td>0</td>\n",
       "      <td>0</td>\n",
       "      <td>1</td>\n",
       "      <td>0</td>\n",
       "      <td>0</td>\n",
       "      <td>1</td>\n",
       "      <td>0</td>\n",
       "      <td>0</td>\n",
       "      <td>1</td>\n",
       "      <td>0</td>\n",
       "      <td>0</td>\n",
       "      <td>1</td>\n",
       "      <td>0</td>\n",
       "      <td>0</td>\n",
       "      <td>1</td>\n",
       "      <td>0</td>\n",
       "      <td>0</td>\n",
       "      <td>0</td>\n",
       "      <td>1</td>\n",
       "      <td>0</td>\n",
       "      <td>0</td>\n",
       "      <td>1</td>\n",
       "      <td>0</td>\n",
       "      <td>0</td>\n",
       "      <td>1</td>\n",
       "      <td>1.0</td>\n",
       "      <td>0</td>\n",
       "      <td>1</td>\n",
       "      <td>0</td>\n",
       "      <td>0</td>\n",
       "      <td>0</td>\n",
       "    </tr>\n",
       "  </tbody>\n",
       "</table>\n",
       "</div>"
      ],
      "text/plain": [
       "   SeniorCitizen  tenure  MonthlyCharges  TotalCharges  gender_Female  \\\n",
       "0              0       1           29.85         29.85              1   \n",
       "1              0      34           56.95       1889.50              0   \n",
       "2              0       2           53.85        108.15              0   \n",
       "3              0      45           42.30       1840.75              0   \n",
       "4              0       2           70.70        151.65              1   \n",
       "\n",
       "   gender_Male  Partner_No  Partner_Yes  Dependents_No  Dependents_Yes  \\\n",
       "0            0           0            1              1               0   \n",
       "1            1           1            0              1               0   \n",
       "2            1           1            0              1               0   \n",
       "3            1           1            0              1               0   \n",
       "4            0           1            0              1               0   \n",
       "\n",
       "   PhoneService_No  PhoneService_Yes  MultipleLines_No  \\\n",
       "0                1                 0                 0   \n",
       "1                0                 1                 1   \n",
       "2                0                 1                 1   \n",
       "3                1                 0                 0   \n",
       "4                0                 1                 1   \n",
       "\n",
       "   MultipleLines_No phone service  MultipleLines_Yes  InternetService_DSL  \\\n",
       "0                               1                  0                    1   \n",
       "1                               0                  0                    1   \n",
       "2                               0                  0                    1   \n",
       "3                               1                  0                    1   \n",
       "4                               0                  0                    0   \n",
       "\n",
       "   InternetService_Fiber optic  InternetService_No  OnlineSecurity_No  \\\n",
       "0                            0                   0                  1   \n",
       "1                            0                   0                  0   \n",
       "2                            0                   0                  0   \n",
       "3                            0                   0                  0   \n",
       "4                            1                   0                  1   \n",
       "\n",
       "   OnlineSecurity_No internet service  OnlineSecurity_Yes  OnlineBackup_No  \\\n",
       "0                                   0                   0                0   \n",
       "1                                   0                   1                1   \n",
       "2                                   0                   1                0   \n",
       "3                                   0                   1                1   \n",
       "4                                   0                   0                1   \n",
       "\n",
       "   OnlineBackup_No internet service  OnlineBackup_Yes  DeviceProtection_No  \\\n",
       "0                                 0                 1                    1   \n",
       "1                                 0                 0                    0   \n",
       "2                                 0                 1                    1   \n",
       "3                                 0                 0                    0   \n",
       "4                                 0                 0                    1   \n",
       "\n",
       "   DeviceProtection_No internet service  DeviceProtection_Yes  TechSupport_No  \\\n",
       "0                                     0                     0               1   \n",
       "1                                     0                     1               1   \n",
       "2                                     0                     0               1   \n",
       "3                                     0                     1               0   \n",
       "4                                     0                     0               1   \n",
       "\n",
       "   TechSupport_No internet service  TechSupport_Yes  StreamingTV_No  \\\n",
       "0                                0                0               1   \n",
       "1                                0                0               1   \n",
       "2                                0                0               1   \n",
       "3                                0                1               1   \n",
       "4                                0                0               1   \n",
       "\n",
       "   StreamingTV_No internet service  StreamingTV_Yes  StreamingMovies_No  \\\n",
       "0                                0                0                   1   \n",
       "1                                0                0                   1   \n",
       "2                                0                0                   1   \n",
       "3                                0                0                   1   \n",
       "4                                0                0                   1   \n",
       "\n",
       "   StreamingMovies_No internet service  StreamingMovies_Yes  \\\n",
       "0                                    0                    0   \n",
       "1                                    0                    0   \n",
       "2                                    0                    0   \n",
       "3                                    0                    0   \n",
       "4                                    0                    0   \n",
       "\n",
       "   Contract_Month-to-month  Contract_One year  Contract_Two year  \\\n",
       "0                        1                  0                  0   \n",
       "1                        0                  1                  0   \n",
       "2                        1                  0                  0   \n",
       "3                        0                  1                  0   \n",
       "4                        1                  0                  0   \n",
       "\n",
       "   PaperlessBilling_No  PaperlessBilling_Yes  \\\n",
       "0                    0                     1   \n",
       "1                    1                     0   \n",
       "2                    0                     1   \n",
       "3                    1                     0   \n",
       "4                    0                     1   \n",
       "\n",
       "   PaymentMethod_Bank transfer (automatic)  \\\n",
       "0                                        0   \n",
       "1                                        0   \n",
       "2                                        0   \n",
       "3                                        1   \n",
       "4                                        0   \n",
       "\n",
       "   PaymentMethod_Credit card (automatic)  PaymentMethod_Electronic check  \\\n",
       "0                                      0                               1   \n",
       "1                                      0                               0   \n",
       "2                                      0                               0   \n",
       "3                                      0                               0   \n",
       "4                                      0                               1   \n",
       "\n",
       "   PaymentMethod_Mailed check  Churn_No  Churn_Yes  intercept  \\\n",
       "0                           0         1          0        1.0   \n",
       "1                           1         1          0        1.0   \n",
       "2                           1         0          1        1.0   \n",
       "3                           0         1          0        1.0   \n",
       "4                           0         0          1        1.0   \n",
       "\n",
       "   PaymentMethod_Automatic  tenure_0:18  tenure_19:36  tenure_37:54  \\\n",
       "0                        0            1             0             0   \n",
       "1                        0            0             1             0   \n",
       "2                        0            1             0             0   \n",
       "3                        1            0             0             1   \n",
       "4                        0            1             0             0   \n",
       "\n",
       "   tenure_55:72  \n",
       "0             0  \n",
       "1             0  \n",
       "2             0  \n",
       "3             0  \n",
       "4             0  "
      ]
     },
     "execution_count": 252,
     "metadata": {},
     "output_type": "execute_result"
    }
   ],
   "source": [
    "tcc.head()"
   ]
  },
  {
   "cell_type": "code",
   "execution_count": 253,
   "metadata": {
    "ExecuteTime": {
     "end_time": "2019-10-11T13:30:15.091436Z",
     "start_time": "2019-10-11T13:30:15.084368Z"
    }
   },
   "outputs": [
    {
     "data": {
      "text/plain": [
       "Index(['SeniorCitizen', 'tenure', 'MonthlyCharges', 'TotalCharges',\n",
       "       'gender_Female', 'gender_Male', 'Partner_No', 'Partner_Yes',\n",
       "       'Dependents_No', 'Dependents_Yes', 'PhoneService_No',\n",
       "       'PhoneService_Yes', 'MultipleLines_No',\n",
       "       'MultipleLines_No phone service', 'MultipleLines_Yes',\n",
       "       'InternetService_DSL', 'InternetService_Fiber optic',\n",
       "       'InternetService_No', 'OnlineSecurity_No',\n",
       "       'OnlineSecurity_No internet service', 'OnlineSecurity_Yes',\n",
       "       'OnlineBackup_No', 'OnlineBackup_No internet service',\n",
       "       'OnlineBackup_Yes', 'DeviceProtection_No',\n",
       "       'DeviceProtection_No internet service', 'DeviceProtection_Yes',\n",
       "       'TechSupport_No', 'TechSupport_No internet service', 'TechSupport_Yes',\n",
       "       'StreamingTV_No', 'StreamingTV_No internet service', 'StreamingTV_Yes',\n",
       "       'StreamingMovies_No', 'StreamingMovies_No internet service',\n",
       "       'StreamingMovies_Yes', 'Contract_Month-to-month', 'Contract_One year',\n",
       "       'Contract_Two year', 'PaperlessBilling_No', 'PaperlessBilling_Yes',\n",
       "       'PaymentMethod_Bank transfer (automatic)',\n",
       "       'PaymentMethod_Credit card (automatic)',\n",
       "       'PaymentMethod_Electronic check', 'PaymentMethod_Mailed check',\n",
       "       'Churn_No', 'Churn_Yes', 'intercept', 'PaymentMethod_Automatic',\n",
       "       'tenure_0:18', 'tenure_19:36', 'tenure_37:54', 'tenure_55:72'],\n",
       "      dtype='object')"
      ]
     },
     "execution_count": 253,
     "metadata": {},
     "output_type": "execute_result"
    }
   ],
   "source": [
    "tcc.columns"
   ]
  },
  {
   "cell_type": "markdown",
   "metadata": {},
   "source": [
    "Let's run a new regression."
   ]
  },
  {
   "cell_type": "code",
   "execution_count": 254,
   "metadata": {
    "ExecuteTime": {
     "end_time": "2019-10-11T13:30:18.010646Z",
     "start_time": "2019-10-11T13:30:17.838432Z"
    },
    "scrolled": false
   },
   "outputs": [
    {
     "name": "stdout",
     "output_type": "stream",
     "text": [
      "Optimization terminated successfully.\n",
      "         Current function value: inf\n",
      "         Iterations 8\n"
     ]
    },
    {
     "name": "stderr",
     "output_type": "stream",
     "text": [
      "/home/3005019/anaconda3/lib/python3.7/site-packages/statsmodels/discrete/discrete_model.py:1736: RuntimeWarning:\n",
      "\n",
      "overflow encountered in exp\n",
      "\n",
      "/home/3005019/anaconda3/lib/python3.7/site-packages/statsmodels/discrete/discrete_model.py:1789: RuntimeWarning:\n",
      "\n",
      "divide by zero encountered in log\n",
      "\n",
      "/home/3005019/anaconda3/lib/python3.7/site-packages/statsmodels/base/model.py:492: HessianInversionWarning:\n",
      "\n",
      "Inverting hessian failed, no bse or cov_params available\n",
      "\n",
      "/home/3005019/anaconda3/lib/python3.7/site-packages/statsmodels/base/model.py:492: HessianInversionWarning:\n",
      "\n",
      "Inverting hessian failed, no bse or cov_params available\n",
      "\n"
     ]
    },
    {
     "data": {
      "text/html": [
       "<table class=\"simpletable\">\n",
       "<tr>\n",
       "        <td>Model:</td>              <td>Logit</td>      <td>Pseudo R-squared:</td>   <td>inf</td> \n",
       "</tr>\n",
       "<tr>\n",
       "  <td>Dependent Variable:</td>     <td>Churn_Yes</td>          <td>AIC:</td>          <td>inf</td> \n",
       "</tr>\n",
       "<tr>\n",
       "         <td>Date:</td>        <td>2019-10-11 15:30</td>       <td>BIC:</td>          <td>inf</td> \n",
       "</tr>\n",
       "<tr>\n",
       "   <td>No. Observations:</td>        <td>5614</td>        <td>Log-Likelihood:</td>   <td>-inf</td> \n",
       "</tr>\n",
       "<tr>\n",
       "       <td>Df Model:</td>             <td>17</td>            <td>LL-Null:</td>      <td>0.0000</td>\n",
       "</tr>\n",
       "<tr>\n",
       "     <td>Df Residuals:</td>          <td>5596</td>         <td>LLR p-value:</td>    <td>1.0000</td>\n",
       "</tr>\n",
       "<tr>\n",
       "      <td>Converged:</td>           <td>1.0000</td>           <td>Scale:</td>       <td>1.0000</td>\n",
       "</tr>\n",
       "<tr>\n",
       "    <td>No. Iterations:</td>        <td>8.0000</td>              <td></td>             <td></td>   \n",
       "</tr>\n",
       "</table>\n",
       "<table class=\"simpletable\">\n",
       "<tr>\n",
       "               <td></td>                <th>Coef.</th>  <th>Std.Err.</th>    <th>z</th>     <th>P>|z|</th> <th>[0.025</th>  <th>0.975]</th> \n",
       "</tr>\n",
       "<tr>\n",
       "  <th>SeniorCitizen</th>               <td>0.1854</td>   <td>0.0933</td>  <td>1.9872</td>  <td>0.0469</td> <td>0.0025</td>  <td>0.3683</td> \n",
       "</tr>\n",
       "<tr>\n",
       "  <th>MonthlyCharges</th>              <td>-0.0206</td>  <td>0.0060</td>  <td>-3.4145</td> <td>0.0006</td> <td>-0.0324</td> <td>-0.0088</td>\n",
       "</tr>\n",
       "<tr>\n",
       "  <th>Dependents_Yes</th>              <td>-0.1787</td>  <td>0.0901</td>  <td>-1.9831</td> <td>0.0474</td> <td>-0.3553</td> <td>-0.0021</td>\n",
       "</tr>\n",
       "<tr>\n",
       "  <th>MultipleLines_Yes</th>           <td>0.3403</td>   <td>0.0968</td>  <td>3.5153</td>  <td>0.0004</td> <td>0.1506</td>  <td>0.5300</td> \n",
       "</tr>\n",
       "<tr>\n",
       "  <th>InternetService_DSL</th>         <td>1.4899</td>   <td>0.1889</td>  <td>7.8881</td>  <td>0.0000</td> <td>1.1197</td>  <td>1.8601</td> \n",
       "</tr>\n",
       "<tr>\n",
       "  <th>InternetService_Fiber optic</th> <td>2.8638</td>   <td>0.3465</td>  <td>8.2649</td>  <td>0.0000</td> <td>2.1847</td>  <td>3.5429</td> \n",
       "</tr>\n",
       "<tr>\n",
       "  <th>OnlineSecurity_Yes</th>          <td>-0.3084</td>  <td>0.0990</td>  <td>-3.1145</td> <td>0.0018</td> <td>-0.5025</td> <td>-0.1143</td>\n",
       "</tr>\n",
       "<tr>\n",
       "  <th>TechSupport_Yes</th>             <td>-0.3112</td>  <td>0.1008</td>  <td>-3.0889</td> <td>0.0020</td> <td>-0.5087</td> <td>-0.1137</td>\n",
       "</tr>\n",
       "<tr>\n",
       "  <th>StreamingTV_Yes</th>             <td>0.4306</td>   <td>0.1078</td>  <td>3.9951</td>  <td>0.0001</td> <td>0.2194</td>  <td>0.6418</td> \n",
       "</tr>\n",
       "<tr>\n",
       "  <th>StreamingMovies_Yes</th>         <td>0.5112</td>   <td>0.1060</td>  <td>4.8217</td>  <td>0.0000</td> <td>0.3034</td>  <td>0.7190</td> \n",
       "</tr>\n",
       "<tr>\n",
       "  <th>Contract_One year</th>           <td>-0.8516</td>  <td>0.1172</td>  <td>-7.2687</td> <td>0.0000</td> <td>-1.0812</td> <td>-0.6220</td>\n",
       "</tr>\n",
       "<tr>\n",
       "  <th>Contract_Two year</th>           <td>-1.7694</td>  <td>0.1967</td>  <td>-8.9943</td> <td>0.0000</td> <td>-2.1550</td> <td>-1.3838</td>\n",
       "</tr>\n",
       "<tr>\n",
       "  <th>PaperlessBilling_Yes</th>        <td>0.2886</td>   <td>0.0822</td>  <td>3.5107</td>  <td>0.0004</td> <td>0.1275</td>  <td>0.4498</td> \n",
       "</tr>\n",
       "<tr>\n",
       "  <th>PaymentMethod_Automatic</th>     <td>-0.3609</td>  <td>0.0803</td>  <td>-4.4936</td> <td>0.0000</td> <td>-0.5183</td> <td>-0.2035</td>\n",
       "</tr>\n",
       "<tr>\n",
       "  <th>tenure_19:36</th>                <td>-1.0021</td>  <td>0.1024</td>  <td>-9.7842</td> <td>0.0000</td> <td>-1.2028</td> <td>-0.8013</td>\n",
       "</tr>\n",
       "<tr>\n",
       "  <th>tenure_37:54</th>                <td>-0.9416</td>  <td>0.1202</td>  <td>-7.8328</td> <td>0.0000</td> <td>-1.1773</td> <td>-0.7060</td>\n",
       "</tr>\n",
       "<tr>\n",
       "  <th>tenure_55:72</th>                <td>-1.4035</td>  <td>0.1470</td>  <td>-9.5469</td> <td>0.0000</td> <td>-1.6916</td> <td>-1.1153</td>\n",
       "</tr>\n",
       "<tr>\n",
       "  <th>intercept</th>                   <td>-1.0519</td>  <td>0.1704</td>  <td>-6.1727</td> <td>0.0000</td> <td>-1.3859</td> <td>-0.7179</td>\n",
       "</tr>\n",
       "</table>"
      ],
      "text/plain": [
       "<class 'statsmodels.iolib.summary2.Summary'>\n",
       "\"\"\"\n",
       "                              Results: Logit\n",
       "===========================================================================\n",
       "Model:                    Logit                Pseudo R-squared:     inf   \n",
       "Dependent Variable:       Churn_Yes            AIC:                  inf   \n",
       "Date:                     2019-10-11 15:30     BIC:                  inf   \n",
       "No. Observations:         5614                 Log-Likelihood:       -inf  \n",
       "Df Model:                 17                   LL-Null:              0.0000\n",
       "Df Residuals:             5596                 LLR p-value:          1.0000\n",
       "Converged:                1.0000               Scale:                1.0000\n",
       "No. Iterations:           8.0000                                           \n",
       "---------------------------------------------------------------------------\n",
       "                             Coef.  Std.Err.    z    P>|z|   [0.025  0.975]\n",
       "---------------------------------------------------------------------------\n",
       "SeniorCitizen                0.1854   0.0933  1.9872 0.0469  0.0025  0.3683\n",
       "MonthlyCharges              -0.0206   0.0060 -3.4145 0.0006 -0.0324 -0.0088\n",
       "Dependents_Yes              -0.1787   0.0901 -1.9831 0.0474 -0.3553 -0.0021\n",
       "MultipleLines_Yes            0.3403   0.0968  3.5153 0.0004  0.1506  0.5300\n",
       "InternetService_DSL          1.4899   0.1889  7.8881 0.0000  1.1197  1.8601\n",
       "InternetService_Fiber optic  2.8638   0.3465  8.2649 0.0000  2.1847  3.5429\n",
       "OnlineSecurity_Yes          -0.3084   0.0990 -3.1145 0.0018 -0.5025 -0.1143\n",
       "TechSupport_Yes             -0.3112   0.1008 -3.0889 0.0020 -0.5087 -0.1137\n",
       "StreamingTV_Yes              0.4306   0.1078  3.9951 0.0001  0.2194  0.6418\n",
       "StreamingMovies_Yes          0.5112   0.1060  4.8217 0.0000  0.3034  0.7190\n",
       "Contract_One year           -0.8516   0.1172 -7.2687 0.0000 -1.0812 -0.6220\n",
       "Contract_Two year           -1.7694   0.1967 -8.9943 0.0000 -2.1550 -1.3838\n",
       "PaperlessBilling_Yes         0.2886   0.0822  3.5107 0.0004  0.1275  0.4498\n",
       "PaymentMethod_Automatic     -0.3609   0.0803 -4.4936 0.0000 -0.5183 -0.2035\n",
       "tenure_19:36                -1.0021   0.1024 -9.7842 0.0000 -1.2028 -0.8013\n",
       "tenure_37:54                -0.9416   0.1202 -7.8328 0.0000 -1.1773 -0.7060\n",
       "tenure_55:72                -1.4035   0.1470 -9.5469 0.0000 -1.6916 -1.1153\n",
       "intercept                   -1.0519   0.1704 -6.1727 0.0000 -1.3859 -0.7179\n",
       "===========================================================================\n",
       "\n",
       "\"\"\""
      ]
     },
     "execution_count": 254,
     "metadata": {},
     "output_type": "execute_result"
    }
   ],
   "source": [
    "variables = tcc[['SeniorCitizen', 'MonthlyCharges', \n",
    "        'Dependents_Yes', 'MultipleLines_Yes',\n",
    "       'InternetService_DSL', 'InternetService_Fiber optic', 'OnlineSecurity_Yes',\n",
    "        'TechSupport_Yes', 'StreamingTV_Yes',\n",
    "       'StreamingMovies_Yes', 'Contract_One year', 'Contract_Two year', 'PaperlessBilling_Yes',\n",
    "       'PaymentMethod_Automatic', 'tenure_19:36',\n",
    "       'tenure_37:54', 'tenure_55:72','intercept']]\n",
    "\n",
    "# Setting the model\n",
    "logistical_regression = sm.Logit(tcc[\"Churn_Yes\"], variables)\n",
    "\n",
    "# Fitting the model\n",
    "fitted_model = logistical_regression.fit()\n",
    "fitted_model.summary2()"
   ]
  },
  {
   "cell_type": "markdown",
   "metadata": {},
   "source": [
    "Let's calculate the VIF to see if there is multicollinearity among our variables."
   ]
  },
  {
   "cell_type": "code",
   "execution_count": 255,
   "metadata": {
    "ExecuteTime": {
     "end_time": "2019-10-11T13:30:21.092803Z",
     "start_time": "2019-10-11T13:30:21.002955Z"
    }
   },
   "outputs": [
    {
     "data": {
      "text/html": [
       "<div>\n",
       "<style scoped>\n",
       "    .dataframe tbody tr th:only-of-type {\n",
       "        vertical-align: middle;\n",
       "    }\n",
       "\n",
       "    .dataframe tbody tr th {\n",
       "        vertical-align: top;\n",
       "    }\n",
       "\n",
       "    .dataframe thead th {\n",
       "        text-align: right;\n",
       "    }\n",
       "</style>\n",
       "<table border=\"1\" class=\"dataframe\">\n",
       "  <thead>\n",
       "    <tr style=\"text-align: right;\">\n",
       "      <th></th>\n",
       "      <th>Variables</th>\n",
       "      <th>VIF Factor</th>\n",
       "    </tr>\n",
       "  </thead>\n",
       "  <tbody>\n",
       "    <tr>\n",
       "      <td>0</td>\n",
       "      <td>SeniorCitizen</td>\n",
       "      <td>1.134040</td>\n",
       "    </tr>\n",
       "    <tr>\n",
       "      <td>1</td>\n",
       "      <td>MonthlyCharges</td>\n",
       "      <td>25.523398</td>\n",
       "    </tr>\n",
       "    <tr>\n",
       "      <td>2</td>\n",
       "      <td>Dependents_Yes</td>\n",
       "      <td>1.118479</td>\n",
       "    </tr>\n",
       "    <tr>\n",
       "      <td>3</td>\n",
       "      <td>MultipleLines_Yes</td>\n",
       "      <td>1.788026</td>\n",
       "    </tr>\n",
       "    <tr>\n",
       "      <td>4</td>\n",
       "      <td>InternetService_DSL</td>\n",
       "      <td>6.107783</td>\n",
       "    </tr>\n",
       "    <tr>\n",
       "      <td>5</td>\n",
       "      <td>InternetService_Fiber optic</td>\n",
       "      <td>22.770521</td>\n",
       "    </tr>\n",
       "    <tr>\n",
       "      <td>6</td>\n",
       "      <td>OnlineSecurity_Yes</td>\n",
       "      <td>1.606637</td>\n",
       "    </tr>\n",
       "    <tr>\n",
       "      <td>7</td>\n",
       "      <td>TechSupport_Yes</td>\n",
       "      <td>1.686428</td>\n",
       "    </tr>\n",
       "    <tr>\n",
       "      <td>8</td>\n",
       "      <td>StreamingTV_Yes</td>\n",
       "      <td>2.338609</td>\n",
       "    </tr>\n",
       "    <tr>\n",
       "      <td>9</td>\n",
       "      <td>StreamingMovies_Yes</td>\n",
       "      <td>2.281422</td>\n",
       "    </tr>\n",
       "    <tr>\n",
       "      <td>10</td>\n",
       "      <td>Contract_One year</td>\n",
       "      <td>1.596759</td>\n",
       "    </tr>\n",
       "    <tr>\n",
       "      <td>11</td>\n",
       "      <td>Contract_Two year</td>\n",
       "      <td>2.516861</td>\n",
       "    </tr>\n",
       "    <tr>\n",
       "      <td>12</td>\n",
       "      <td>PaperlessBilling_Yes</td>\n",
       "      <td>1.204648</td>\n",
       "    </tr>\n",
       "    <tr>\n",
       "      <td>13</td>\n",
       "      <td>PaymentMethod_Automatic</td>\n",
       "      <td>1.192930</td>\n",
       "    </tr>\n",
       "    <tr>\n",
       "      <td>14</td>\n",
       "      <td>tenure_19:36</td>\n",
       "      <td>1.357562</td>\n",
       "    </tr>\n",
       "    <tr>\n",
       "      <td>15</td>\n",
       "      <td>tenure_37:54</td>\n",
       "      <td>1.596681</td>\n",
       "    </tr>\n",
       "    <tr>\n",
       "      <td>16</td>\n",
       "      <td>tenure_55:72</td>\n",
       "      <td>2.735595</td>\n",
       "    </tr>\n",
       "  </tbody>\n",
       "</table>\n",
       "</div>"
      ],
      "text/plain": [
       "                      Variables  VIF Factor\n",
       "0                 SeniorCitizen    1.134040\n",
       "1                MonthlyCharges   25.523398\n",
       "2                Dependents_Yes    1.118479\n",
       "3             MultipleLines_Yes    1.788026\n",
       "4           InternetService_DSL    6.107783\n",
       "5   InternetService_Fiber optic   22.770521\n",
       "6            OnlineSecurity_Yes    1.606637\n",
       "7               TechSupport_Yes    1.686428\n",
       "8               StreamingTV_Yes    2.338609\n",
       "9           StreamingMovies_Yes    2.281422\n",
       "10            Contract_One year    1.596759\n",
       "11            Contract_Two year    2.516861\n",
       "12         PaperlessBilling_Yes    1.204648\n",
       "13      PaymentMethod_Automatic    1.192930\n",
       "14                 tenure_19:36    1.357562\n",
       "15                 tenure_37:54    1.596681\n",
       "16                 tenure_55:72    2.735595"
      ]
     },
     "execution_count": 255,
     "metadata": {},
     "output_type": "execute_result"
    }
   ],
   "source": [
    "vif = pd.DataFrame()\n",
    "vif[\"Variables\"]  = variables.columns[0:-1]\n",
    "vif[\"VIF Factor\"] = [variance_inflation_factor(variables.values, i) for i in range(variables.shape[1]-1)]\n",
    "vif"
   ]
  },
  {
   "cell_type": "markdown",
   "metadata": {},
   "source": [
    "The two _InternetService_ variables have a high VIF, along with _MonthlyCharges_. A possible explanation is that customers who have the Optic Fiber connection pay a different price compared to those who have a DSL connection. For this reason, we are going to exclude _MonthlyCharges_ from our model, and then re-run our VIF analysis. This time around, we expect a low VIF for both _InternetService_ variables.\n",
    "\n",
    "We are also going to re-insert in our regression _OnlineBackup_ and _DeviceProtection_, which we removed earlier on, as they might have been affected by multicollinearity."
   ]
  },
  {
   "cell_type": "code",
   "execution_count": 256,
   "metadata": {
    "ExecuteTime": {
     "end_time": "2019-10-11T13:30:25.614483Z",
     "start_time": "2019-10-11T13:30:25.522778Z"
    }
   },
   "outputs": [
    {
     "data": {
      "text/html": [
       "<div>\n",
       "<style scoped>\n",
       "    .dataframe tbody tr th:only-of-type {\n",
       "        vertical-align: middle;\n",
       "    }\n",
       "\n",
       "    .dataframe tbody tr th {\n",
       "        vertical-align: top;\n",
       "    }\n",
       "\n",
       "    .dataframe thead th {\n",
       "        text-align: right;\n",
       "    }\n",
       "</style>\n",
       "<table border=\"1\" class=\"dataframe\">\n",
       "  <thead>\n",
       "    <tr style=\"text-align: right;\">\n",
       "      <th></th>\n",
       "      <th>Variables</th>\n",
       "      <th>VIF Factor</th>\n",
       "    </tr>\n",
       "  </thead>\n",
       "  <tbody>\n",
       "    <tr>\n",
       "      <td>0</td>\n",
       "      <td>SeniorCitizen</td>\n",
       "      <td>1.133239</td>\n",
       "    </tr>\n",
       "    <tr>\n",
       "      <td>1</td>\n",
       "      <td>Dependents_Yes</td>\n",
       "      <td>1.118640</td>\n",
       "    </tr>\n",
       "    <tr>\n",
       "      <td>2</td>\n",
       "      <td>MultipleLines_Yes</td>\n",
       "      <td>1.317114</td>\n",
       "    </tr>\n",
       "    <tr>\n",
       "      <td>3</td>\n",
       "      <td>InternetService_DSL</td>\n",
       "      <td>3.216419</td>\n",
       "    </tr>\n",
       "    <tr>\n",
       "      <td>4</td>\n",
       "      <td>InternetService_Fiber optic</td>\n",
       "      <td>3.887170</td>\n",
       "    </tr>\n",
       "    <tr>\n",
       "      <td>5</td>\n",
       "      <td>OnlineSecurity_Yes</td>\n",
       "      <td>1.397475</td>\n",
       "    </tr>\n",
       "    <tr>\n",
       "      <td>6</td>\n",
       "      <td>TechSupport_Yes</td>\n",
       "      <td>1.463103</td>\n",
       "    </tr>\n",
       "    <tr>\n",
       "      <td>7</td>\n",
       "      <td>OnlineBackup_Yes</td>\n",
       "      <td>1.362366</td>\n",
       "    </tr>\n",
       "    <tr>\n",
       "      <td>8</td>\n",
       "      <td>DeviceProtection_Yes</td>\n",
       "      <td>1.464881</td>\n",
       "    </tr>\n",
       "    <tr>\n",
       "      <td>9</td>\n",
       "      <td>StreamingTV_Yes</td>\n",
       "      <td>1.618622</td>\n",
       "    </tr>\n",
       "    <tr>\n",
       "      <td>10</td>\n",
       "      <td>StreamingMovies_Yes</td>\n",
       "      <td>1.621482</td>\n",
       "    </tr>\n",
       "    <tr>\n",
       "      <td>11</td>\n",
       "      <td>Contract_One year</td>\n",
       "      <td>1.603970</td>\n",
       "    </tr>\n",
       "    <tr>\n",
       "      <td>12</td>\n",
       "      <td>Contract_Two year</td>\n",
       "      <td>2.537672</td>\n",
       "    </tr>\n",
       "    <tr>\n",
       "      <td>13</td>\n",
       "      <td>PaperlessBilling_Yes</td>\n",
       "      <td>1.206207</td>\n",
       "    </tr>\n",
       "    <tr>\n",
       "      <td>14</td>\n",
       "      <td>PaymentMethod_Automatic</td>\n",
       "      <td>1.193577</td>\n",
       "    </tr>\n",
       "    <tr>\n",
       "      <td>15</td>\n",
       "      <td>tenure_19:36</td>\n",
       "      <td>1.364302</td>\n",
       "    </tr>\n",
       "    <tr>\n",
       "      <td>16</td>\n",
       "      <td>tenure_37:54</td>\n",
       "      <td>1.626869</td>\n",
       "    </tr>\n",
       "    <tr>\n",
       "      <td>17</td>\n",
       "      <td>tenure_55:72</td>\n",
       "      <td>2.852235</td>\n",
       "    </tr>\n",
       "  </tbody>\n",
       "</table>\n",
       "</div>"
      ],
      "text/plain": [
       "                      Variables  VIF Factor\n",
       "0                 SeniorCitizen    1.133239\n",
       "1                Dependents_Yes    1.118640\n",
       "2             MultipleLines_Yes    1.317114\n",
       "3           InternetService_DSL    3.216419\n",
       "4   InternetService_Fiber optic    3.887170\n",
       "5            OnlineSecurity_Yes    1.397475\n",
       "6               TechSupport_Yes    1.463103\n",
       "7              OnlineBackup_Yes    1.362366\n",
       "8          DeviceProtection_Yes    1.464881\n",
       "9               StreamingTV_Yes    1.618622\n",
       "10          StreamingMovies_Yes    1.621482\n",
       "11            Contract_One year    1.603970\n",
       "12            Contract_Two year    2.537672\n",
       "13         PaperlessBilling_Yes    1.206207\n",
       "14      PaymentMethod_Automatic    1.193577\n",
       "15                 tenure_19:36    1.364302\n",
       "16                 tenure_37:54    1.626869\n",
       "17                 tenure_55:72    2.852235"
      ]
     },
     "execution_count": 256,
     "metadata": {},
     "output_type": "execute_result"
    }
   ],
   "source": [
    "variables = tcc[['SeniorCitizen',\n",
    "        'Dependents_Yes', 'MultipleLines_Yes',\n",
    "         'InternetService_DSL', 'InternetService_Fiber optic', 'OnlineSecurity_Yes',\n",
    "        'TechSupport_Yes', \"OnlineBackup_Yes\", \"DeviceProtection_Yes\", 'StreamingTV_Yes',\n",
    "       'StreamingMovies_Yes', 'Contract_One year', 'Contract_Two year', 'PaperlessBilling_Yes',\n",
    "       'PaymentMethod_Automatic', 'tenure_19:36',\n",
    "       'tenure_37:54', 'tenure_55:72','intercept']]\n",
    "\n",
    "vif = pd.DataFrame()\n",
    "vif[\"Variables\"]  = variables.columns[0:-1]\n",
    "vif[\"VIF Factor\"] = [variance_inflation_factor(variables.values, i) for i in range(variables.shape[1]-1)]\n",
    "vif"
   ]
  },
  {
   "cell_type": "markdown",
   "metadata": {},
   "source": [
    "And, in fact, we are right: data proves that _MonthlyCharges_ greatly depend on _InternetService_.\n",
    "\n",
    "What we need to do now is just to run our logistic regression as before, this time without _MonthlyCharges_."
   ]
  },
  {
   "cell_type": "code",
   "execution_count": 257,
   "metadata": {
    "ExecuteTime": {
     "end_time": "2019-10-11T13:30:35.288261Z",
     "start_time": "2019-10-11T13:30:35.117744Z"
    }
   },
   "outputs": [
    {
     "name": "stdout",
     "output_type": "stream",
     "text": [
      "Optimization terminated successfully.\n",
      "         Current function value: inf\n",
      "         Iterations 8\n"
     ]
    },
    {
     "name": "stderr",
     "output_type": "stream",
     "text": [
      "/home/3005019/anaconda3/lib/python3.7/site-packages/statsmodels/discrete/discrete_model.py:1736: RuntimeWarning:\n",
      "\n",
      "overflow encountered in exp\n",
      "\n",
      "/home/3005019/anaconda3/lib/python3.7/site-packages/statsmodels/discrete/discrete_model.py:1789: RuntimeWarning:\n",
      "\n",
      "divide by zero encountered in log\n",
      "\n",
      "/home/3005019/anaconda3/lib/python3.7/site-packages/statsmodels/base/model.py:492: HessianInversionWarning:\n",
      "\n",
      "Inverting hessian failed, no bse or cov_params available\n",
      "\n",
      "/home/3005019/anaconda3/lib/python3.7/site-packages/statsmodels/base/model.py:492: HessianInversionWarning:\n",
      "\n",
      "Inverting hessian failed, no bse or cov_params available\n",
      "\n"
     ]
    },
    {
     "data": {
      "text/html": [
       "<table class=\"simpletable\">\n",
       "<tr>\n",
       "        <td>Model:</td>              <td>Logit</td>      <td>Pseudo R-squared:</td>   <td>inf</td> \n",
       "</tr>\n",
       "<tr>\n",
       "  <td>Dependent Variable:</td>     <td>Churn_Yes</td>          <td>AIC:</td>          <td>inf</td> \n",
       "</tr>\n",
       "<tr>\n",
       "         <td>Date:</td>        <td>2019-10-11 15:30</td>       <td>BIC:</td>          <td>inf</td> \n",
       "</tr>\n",
       "<tr>\n",
       "   <td>No. Observations:</td>        <td>5614</td>        <td>Log-Likelihood:</td>   <td>-inf</td> \n",
       "</tr>\n",
       "<tr>\n",
       "       <td>Df Model:</td>             <td>18</td>            <td>LL-Null:</td>      <td>0.0000</td>\n",
       "</tr>\n",
       "<tr>\n",
       "     <td>Df Residuals:</td>          <td>5595</td>         <td>LLR p-value:</td>    <td>1.0000</td>\n",
       "</tr>\n",
       "<tr>\n",
       "      <td>Converged:</td>           <td>1.0000</td>           <td>Scale:</td>       <td>1.0000</td>\n",
       "</tr>\n",
       "<tr>\n",
       "    <td>No. Iterations:</td>        <td>8.0000</td>              <td></td>             <td></td>   \n",
       "</tr>\n",
       "</table>\n",
       "<table class=\"simpletable\">\n",
       "<tr>\n",
       "               <td></td>                <th>Coef.</th>  <th>Std.Err.</th>     <th>z</th>     <th>P>|z|</th> <th>[0.025</th>  <th>0.975]</th> \n",
       "</tr>\n",
       "<tr>\n",
       "  <th>SeniorCitizen</th>               <td>0.2004</td>   <td>0.0932</td>   <td>2.1495</td>  <td>0.0316</td> <td>0.0177</td>  <td>0.3831</td> \n",
       "</tr>\n",
       "<tr>\n",
       "  <th>Dependents_Yes</th>              <td>-0.1844</td>  <td>0.0900</td>   <td>-2.0481</td> <td>0.0406</td> <td>-0.3609</td> <td>-0.0079</td>\n",
       "</tr>\n",
       "<tr>\n",
       "  <th>MultipleLines_Yes</th>           <td>0.1872</td>   <td>0.0843</td>   <td>2.2204</td>  <td>0.0264</td> <td>0.0220</td>  <td>0.3525</td> \n",
       "</tr>\n",
       "<tr>\n",
       "  <th>InternetService_DSL</th>         <td>1.1075</td>   <td>0.1439</td>   <td>7.6970</td>  <td>0.0000</td> <td>0.8255</td>  <td>1.3895</td> \n",
       "</tr>\n",
       "<tr>\n",
       "  <th>InternetService_Fiber optic</th> <td>1.8374</td>   <td>0.1479</td>   <td>12.4204</td> <td>0.0000</td> <td>1.5474</td>  <td>2.1273</td> \n",
       "</tr>\n",
       "<tr>\n",
       "  <th>OnlineSecurity_Yes</th>          <td>-0.4191</td>  <td>0.0931</td>   <td>-4.5033</td> <td>0.0000</td> <td>-0.6015</td> <td>-0.2367</td>\n",
       "</tr>\n",
       "<tr>\n",
       "  <th>TechSupport_Yes</th>             <td>-0.4293</td>  <td>0.0940</td>   <td>-4.5664</td> <td>0.0000</td> <td>-0.6136</td> <td>-0.2451</td>\n",
       "</tr>\n",
       "<tr>\n",
       "  <th>OnlineBackup_Yes</th>            <td>-0.1986</td>  <td>0.0838</td>   <td>-2.3700</td> <td>0.0178</td> <td>-0.3629</td> <td>-0.0344</td>\n",
       "</tr>\n",
       "<tr>\n",
       "  <th>DeviceProtection_Yes</th>        <td>-0.0062</td>  <td>0.0866</td>   <td>-0.0710</td> <td>0.9434</td> <td>-0.1759</td> <td>0.1636</td> \n",
       "</tr>\n",
       "<tr>\n",
       "  <th>StreamingTV_Yes</th>             <td>0.2204</td>   <td>0.0882</td>   <td>2.4984</td>  <td>0.0125</td> <td>0.0475</td>  <td>0.3933</td> \n",
       "</tr>\n",
       "<tr>\n",
       "  <th>StreamingMovies_Yes</th>         <td>0.3106</td>   <td>0.0876</td>   <td>3.5436</td>  <td>0.0004</td> <td>0.1388</td>  <td>0.4823</td> \n",
       "</tr>\n",
       "<tr>\n",
       "  <th>Contract_One year</th>           <td>-0.8741</td>  <td>0.1175</td>   <td>-7.4362</td> <td>0.0000</td> <td>-1.1045</td> <td>-0.6437</td>\n",
       "</tr>\n",
       "<tr>\n",
       "  <th>Contract_Two year</th>           <td>-1.7892</td>  <td>0.1975</td>   <td>-9.0589</td> <td>0.0000</td> <td>-2.1763</td> <td>-1.4021</td>\n",
       "</tr>\n",
       "<tr>\n",
       "  <th>PaperlessBilling_Yes</th>        <td>0.2971</td>   <td>0.0821</td>   <td>3.6166</td>  <td>0.0003</td> <td>0.1361</td>  <td>0.4581</td> \n",
       "</tr>\n",
       "<tr>\n",
       "  <th>PaymentMethod_Automatic</th>     <td>-0.3668</td>  <td>0.0803</td>   <td>-4.5676</td> <td>0.0000</td> <td>-0.5242</td> <td>-0.2094</td>\n",
       "</tr>\n",
       "<tr>\n",
       "  <th>tenure_19:36</th>                <td>-0.9822</td>  <td>0.1027</td>   <td>-9.5678</td> <td>0.0000</td> <td>-1.1834</td> <td>-0.7810</td>\n",
       "</tr>\n",
       "<tr>\n",
       "  <th>tenure_37:54</th>                <td>-0.9011</td>  <td>0.1224</td>   <td>-7.3633</td> <td>0.0000</td> <td>-1.1410</td> <td>-0.6613</td>\n",
       "</tr>\n",
       "<tr>\n",
       "  <th>tenure_55:72</th>                <td>-1.3504</td>  <td>0.1513</td>   <td>-8.9281</td> <td>0.0000</td> <td>-1.6469</td> <td>-1.0540</td>\n",
       "</tr>\n",
       "<tr>\n",
       "  <th>intercept</th>                   <td>-1.4580</td>  <td>0.1259</td>  <td>-11.5846</td> <td>0.0000</td> <td>-1.7047</td> <td>-1.2114</td>\n",
       "</tr>\n",
       "</table>"
      ],
      "text/plain": [
       "<class 'statsmodels.iolib.summary2.Summary'>\n",
       "\"\"\"\n",
       "                               Results: Logit\n",
       "============================================================================\n",
       "Model:                   Logit                 Pseudo R-squared:      inf   \n",
       "Dependent Variable:      Churn_Yes             AIC:                   inf   \n",
       "Date:                    2019-10-11 15:30      BIC:                   inf   \n",
       "No. Observations:        5614                  Log-Likelihood:        -inf  \n",
       "Df Model:                18                    LL-Null:               0.0000\n",
       "Df Residuals:            5595                  LLR p-value:           1.0000\n",
       "Converged:               1.0000                Scale:                 1.0000\n",
       "No. Iterations:          8.0000                                             \n",
       "----------------------------------------------------------------------------\n",
       "                             Coef.  Std.Err.    z     P>|z|   [0.025  0.975]\n",
       "----------------------------------------------------------------------------\n",
       "SeniorCitizen                0.2004   0.0932   2.1495 0.0316  0.0177  0.3831\n",
       "Dependents_Yes              -0.1844   0.0900  -2.0481 0.0406 -0.3609 -0.0079\n",
       "MultipleLines_Yes            0.1872   0.0843   2.2204 0.0264  0.0220  0.3525\n",
       "InternetService_DSL          1.1075   0.1439   7.6970 0.0000  0.8255  1.3895\n",
       "InternetService_Fiber optic  1.8374   0.1479  12.4204 0.0000  1.5474  2.1273\n",
       "OnlineSecurity_Yes          -0.4191   0.0931  -4.5033 0.0000 -0.6015 -0.2367\n",
       "TechSupport_Yes             -0.4293   0.0940  -4.5664 0.0000 -0.6136 -0.2451\n",
       "OnlineBackup_Yes            -0.1986   0.0838  -2.3700 0.0178 -0.3629 -0.0344\n",
       "DeviceProtection_Yes        -0.0062   0.0866  -0.0710 0.9434 -0.1759  0.1636\n",
       "StreamingTV_Yes              0.2204   0.0882   2.4984 0.0125  0.0475  0.3933\n",
       "StreamingMovies_Yes          0.3106   0.0876   3.5436 0.0004  0.1388  0.4823\n",
       "Contract_One year           -0.8741   0.1175  -7.4362 0.0000 -1.1045 -0.6437\n",
       "Contract_Two year           -1.7892   0.1975  -9.0589 0.0000 -2.1763 -1.4021\n",
       "PaperlessBilling_Yes         0.2971   0.0821   3.6166 0.0003  0.1361  0.4581\n",
       "PaymentMethod_Automatic     -0.3668   0.0803  -4.5676 0.0000 -0.5242 -0.2094\n",
       "tenure_19:36                -0.9822   0.1027  -9.5678 0.0000 -1.1834 -0.7810\n",
       "tenure_37:54                -0.9011   0.1224  -7.3633 0.0000 -1.1410 -0.6613\n",
       "tenure_55:72                -1.3504   0.1513  -8.9281 0.0000 -1.6469 -1.0540\n",
       "intercept                   -1.4580   0.1259 -11.5846 0.0000 -1.7047 -1.2114\n",
       "============================================================================\n",
       "\n",
       "\"\"\""
      ]
     },
     "execution_count": 257,
     "metadata": {},
     "output_type": "execute_result"
    }
   ],
   "source": [
    "# Setting the model\n",
    "logistical_regression = sm.Logit(tcc[\"Churn_Yes\"], variables)\n",
    "\n",
    "# Fitting the model\n",
    "fitted_model = logistical_regression.fit()\n",
    "fitted_model.summary2()"
   ]
  },
  {
   "cell_type": "markdown",
   "metadata": {},
   "source": [
    "_OnlineBackup_ is now significant, whereas _DeviceProtection_ stays unsignificant. We are going to remove the latter from the model."
   ]
  },
  {
   "cell_type": "code",
   "execution_count": 258,
   "metadata": {
    "ExecuteTime": {
     "end_time": "2019-10-11T13:30:39.471824Z",
     "start_time": "2019-10-11T13:30:39.294754Z"
    }
   },
   "outputs": [
    {
     "name": "stdout",
     "output_type": "stream",
     "text": [
      "Optimization terminated successfully.\n",
      "         Current function value: inf\n",
      "         Iterations 8\n"
     ]
    },
    {
     "name": "stderr",
     "output_type": "stream",
     "text": [
      "/home/3005019/anaconda3/lib/python3.7/site-packages/statsmodels/discrete/discrete_model.py:1736: RuntimeWarning:\n",
      "\n",
      "overflow encountered in exp\n",
      "\n",
      "/home/3005019/anaconda3/lib/python3.7/site-packages/statsmodels/discrete/discrete_model.py:1789: RuntimeWarning:\n",
      "\n",
      "divide by zero encountered in log\n",
      "\n",
      "/home/3005019/anaconda3/lib/python3.7/site-packages/statsmodels/base/model.py:492: HessianInversionWarning:\n",
      "\n",
      "Inverting hessian failed, no bse or cov_params available\n",
      "\n",
      "/home/3005019/anaconda3/lib/python3.7/site-packages/statsmodels/base/model.py:492: HessianInversionWarning:\n",
      "\n",
      "Inverting hessian failed, no bse or cov_params available\n",
      "\n"
     ]
    },
    {
     "data": {
      "text/html": [
       "<table class=\"simpletable\">\n",
       "<tr>\n",
       "        <td>Model:</td>              <td>Logit</td>      <td>Pseudo R-squared:</td>   <td>inf</td> \n",
       "</tr>\n",
       "<tr>\n",
       "  <td>Dependent Variable:</td>     <td>Churn_Yes</td>          <td>AIC:</td>          <td>inf</td> \n",
       "</tr>\n",
       "<tr>\n",
       "         <td>Date:</td>        <td>2019-10-11 15:30</td>       <td>BIC:</td>          <td>inf</td> \n",
       "</tr>\n",
       "<tr>\n",
       "   <td>No. Observations:</td>        <td>5614</td>        <td>Log-Likelihood:</td>   <td>-inf</td> \n",
       "</tr>\n",
       "<tr>\n",
       "       <td>Df Model:</td>             <td>17</td>            <td>LL-Null:</td>      <td>0.0000</td>\n",
       "</tr>\n",
       "<tr>\n",
       "     <td>Df Residuals:</td>          <td>5596</td>         <td>LLR p-value:</td>    <td>1.0000</td>\n",
       "</tr>\n",
       "<tr>\n",
       "      <td>Converged:</td>           <td>1.0000</td>           <td>Scale:</td>       <td>1.0000</td>\n",
       "</tr>\n",
       "<tr>\n",
       "    <td>No. Iterations:</td>        <td>8.0000</td>              <td></td>             <td></td>   \n",
       "</tr>\n",
       "</table>\n",
       "<table class=\"simpletable\">\n",
       "<tr>\n",
       "               <td></td>                <th>Coef.</th>  <th>Std.Err.</th>     <th>z</th>     <th>P>|z|</th> <th>[0.025</th>  <th>0.975]</th> \n",
       "</tr>\n",
       "<tr>\n",
       "  <th>SeniorCitizen</th>               <td>0.2003</td>   <td>0.0932</td>   <td>2.1487</td>  <td>0.0317</td> <td>0.0176</td>  <td>0.3829</td> \n",
       "</tr>\n",
       "<tr>\n",
       "  <th>Dependents_Yes</th>              <td>-0.1844</td>  <td>0.0900</td>   <td>-2.0487</td> <td>0.0405</td> <td>-0.3609</td> <td>-0.0080</td>\n",
       "</tr>\n",
       "<tr>\n",
       "  <th>MultipleLines_Yes</th>           <td>0.1872</td>   <td>0.0843</td>   <td>2.2200</td>  <td>0.0264</td> <td>0.0219</td>  <td>0.3524</td> \n",
       "</tr>\n",
       "<tr>\n",
       "  <th>InternetService_DSL</th>         <td>1.1063</td>   <td>0.1430</td>   <td>7.7371</td>  <td>0.0000</td> <td>0.8261</td>  <td>1.3866</td> \n",
       "</tr>\n",
       "<tr>\n",
       "  <th>InternetService_Fiber optic</th> <td>1.8361</td>   <td>0.1468</td>   <td>12.5062</td> <td>0.0000</td> <td>1.5483</td>  <td>2.1238</td> \n",
       "</tr>\n",
       "<tr>\n",
       "  <th>OnlineSecurity_Yes</th>          <td>-0.4190</td>  <td>0.0931</td>   <td>-4.5028</td> <td>0.0000</td> <td>-0.6014</td> <td>-0.2366</td>\n",
       "</tr>\n",
       "<tr>\n",
       "  <th>TechSupport_Yes</th>             <td>-0.4298</td>  <td>0.0938</td>   <td>-4.5807</td> <td>0.0000</td> <td>-0.6137</td> <td>-0.2459</td>\n",
       "</tr>\n",
       "<tr>\n",
       "  <th>OnlineBackup_Yes</th>            <td>-0.1988</td>  <td>0.0838</td>   <td>-2.3717</td> <td>0.0177</td> <td>-0.3630</td> <td>-0.0345</td>\n",
       "</tr>\n",
       "<tr>\n",
       "  <th>StreamingTV_Yes</th>             <td>0.2197</td>   <td>0.0876</td>   <td>2.5069</td>  <td>0.0122</td> <td>0.0479</td>  <td>0.3914</td> \n",
       "</tr>\n",
       "<tr>\n",
       "  <th>StreamingMovies_Yes</th>         <td>0.3099</td>   <td>0.0872</td>   <td>3.5545</td>  <td>0.0004</td> <td>0.1390</td>  <td>0.4808</td> \n",
       "</tr>\n",
       "<tr>\n",
       "  <th>Contract_One year</th>           <td>-0.8749</td>  <td>0.1171</td>   <td>-7.4722</td> <td>0.0000</td> <td>-1.1043</td> <td>-0.6454</td>\n",
       "</tr>\n",
       "<tr>\n",
       "  <th>Contract_Two year</th>           <td>-1.7902</td>  <td>0.1970</td>   <td>-9.0891</td> <td>0.0000</td> <td>-2.1762</td> <td>-1.4042</td>\n",
       "</tr>\n",
       "<tr>\n",
       "  <th>PaperlessBilling_Yes</th>        <td>0.2972</td>   <td>0.0821</td>   <td>3.6183</td>  <td>0.0003</td> <td>0.1362</td>  <td>0.4582</td> \n",
       "</tr>\n",
       "<tr>\n",
       "  <th>PaymentMethod_Automatic</th>     <td>-0.3670</td>  <td>0.0802</td>   <td>-4.5752</td> <td>0.0000</td> <td>-0.5243</td> <td>-0.2098</td>\n",
       "</tr>\n",
       "<tr>\n",
       "  <th>tenure_19:36</th>                <td>-0.9826</td>  <td>0.1026</td>   <td>-9.5810</td> <td>0.0000</td> <td>-1.1836</td> <td>-0.7816</td>\n",
       "</tr>\n",
       "<tr>\n",
       "  <th>tenure_37:54</th>                <td>-0.9020</td>  <td>0.1218</td>   <td>-7.4085</td> <td>0.0000</td> <td>-1.1406</td> <td>-0.6634</td>\n",
       "</tr>\n",
       "<tr>\n",
       "  <th>tenure_55:72</th>                <td>-1.3516</td>  <td>0.1503</td>   <td>-8.9900</td> <td>0.0000</td> <td>-1.6463</td> <td>-1.0569</td>\n",
       "</tr>\n",
       "<tr>\n",
       "  <th>intercept</th>                   <td>-1.4577</td>  <td>0.1257</td>  <td>-11.5928</td> <td>0.0000</td> <td>-1.7041</td> <td>-1.2112</td>\n",
       "</tr>\n",
       "</table>"
      ],
      "text/plain": [
       "<class 'statsmodels.iolib.summary2.Summary'>\n",
       "\"\"\"\n",
       "                               Results: Logit\n",
       "============================================================================\n",
       "Model:                   Logit                 Pseudo R-squared:      inf   \n",
       "Dependent Variable:      Churn_Yes             AIC:                   inf   \n",
       "Date:                    2019-10-11 15:30      BIC:                   inf   \n",
       "No. Observations:        5614                  Log-Likelihood:        -inf  \n",
       "Df Model:                17                    LL-Null:               0.0000\n",
       "Df Residuals:            5596                  LLR p-value:           1.0000\n",
       "Converged:               1.0000                Scale:                 1.0000\n",
       "No. Iterations:          8.0000                                             \n",
       "----------------------------------------------------------------------------\n",
       "                             Coef.  Std.Err.    z     P>|z|   [0.025  0.975]\n",
       "----------------------------------------------------------------------------\n",
       "SeniorCitizen                0.2003   0.0932   2.1487 0.0317  0.0176  0.3829\n",
       "Dependents_Yes              -0.1844   0.0900  -2.0487 0.0405 -0.3609 -0.0080\n",
       "MultipleLines_Yes            0.1872   0.0843   2.2200 0.0264  0.0219  0.3524\n",
       "InternetService_DSL          1.1063   0.1430   7.7371 0.0000  0.8261  1.3866\n",
       "InternetService_Fiber optic  1.8361   0.1468  12.5062 0.0000  1.5483  2.1238\n",
       "OnlineSecurity_Yes          -0.4190   0.0931  -4.5028 0.0000 -0.6014 -0.2366\n",
       "TechSupport_Yes             -0.4298   0.0938  -4.5807 0.0000 -0.6137 -0.2459\n",
       "OnlineBackup_Yes            -0.1988   0.0838  -2.3717 0.0177 -0.3630 -0.0345\n",
       "StreamingTV_Yes              0.2197   0.0876   2.5069 0.0122  0.0479  0.3914\n",
       "StreamingMovies_Yes          0.3099   0.0872   3.5545 0.0004  0.1390  0.4808\n",
       "Contract_One year           -0.8749   0.1171  -7.4722 0.0000 -1.1043 -0.6454\n",
       "Contract_Two year           -1.7902   0.1970  -9.0891 0.0000 -2.1762 -1.4042\n",
       "PaperlessBilling_Yes         0.2972   0.0821   3.6183 0.0003  0.1362  0.4582\n",
       "PaymentMethod_Automatic     -0.3670   0.0802  -4.5752 0.0000 -0.5243 -0.2098\n",
       "tenure_19:36                -0.9826   0.1026  -9.5810 0.0000 -1.1836 -0.7816\n",
       "tenure_37:54                -0.9020   0.1218  -7.4085 0.0000 -1.1406 -0.6634\n",
       "tenure_55:72                -1.3516   0.1503  -8.9900 0.0000 -1.6463 -1.0569\n",
       "intercept                   -1.4577   0.1257 -11.5928 0.0000 -1.7041 -1.2112\n",
       "============================================================================\n",
       "\n",
       "\"\"\""
      ]
     },
     "execution_count": 258,
     "metadata": {},
     "output_type": "execute_result"
    }
   ],
   "source": [
    "variables = tcc[['SeniorCitizen',\n",
    "        'Dependents_Yes', 'MultipleLines_Yes',\n",
    "         'InternetService_DSL', 'InternetService_Fiber optic', 'OnlineSecurity_Yes',\n",
    "        'TechSupport_Yes', \"OnlineBackup_Yes\", 'StreamingTV_Yes',\n",
    "       'StreamingMovies_Yes', 'Contract_One year', 'Contract_Two year', 'PaperlessBilling_Yes',\n",
    "       'PaymentMethod_Automatic', 'tenure_19:36',\n",
    "       'tenure_37:54', 'tenure_55:72','intercept']]\n",
    "\n",
    "# Setting the model\n",
    "logistical_regression = sm.Logit(tcc[\"Churn_Yes\"], variables)\n",
    "\n",
    "# Fitting the model\n",
    "fitted_model = logistical_regression.fit()\n",
    "fitted_model.summary2()"
   ]
  },
  {
   "cell_type": "markdown",
   "metadata": {},
   "source": [
    "This is our final model. Let's get the marginal effect of our variables in order to be able to easily interpret them."
   ]
  },
  {
   "cell_type": "code",
   "execution_count": 259,
   "metadata": {
    "ExecuteTime": {
     "end_time": "2019-10-11T13:30:48.181129Z",
     "start_time": "2019-10-11T13:30:48.110260Z"
    }
   },
   "outputs": [
    {
     "data": {
      "text/html": [
       "<table class=\"simpletable\">\n",
       "<caption>Logit Marginal Effects</caption>\n",
       "<tr>\n",
       "  <th>Dep. Variable:</th> <td>Churn_Yes</td>\n",
       "</tr>\n",
       "<tr>\n",
       "  <th>Method:</th>          <td>dydx</td>   \n",
       "</tr>\n",
       "<tr>\n",
       "  <th>At:</th>             <td>overall</td> \n",
       "</tr>\n",
       "</table>\n",
       "<table class=\"simpletable\">\n",
       "<tr>\n",
       "               <th></th>                  <th>dy/dx</th>    <th>std err</th>      <th>z</th>      <th>P>|z|</th>  <th>[0.025</th>    <th>0.975]</th>  \n",
       "</tr>\n",
       "<tr>\n",
       "  <th>SeniorCitizen</th>               <td>    0.0277</td> <td>    0.013</td> <td>    2.153</td> <td> 0.031</td> <td>    0.002</td> <td>    0.053</td>\n",
       "</tr>\n",
       "<tr>\n",
       "  <th>Dependents_Yes</th>              <td>   -0.0255</td> <td>    0.012</td> <td>   -2.051</td> <td> 0.040</td> <td>   -0.050</td> <td>   -0.001</td>\n",
       "</tr>\n",
       "<tr>\n",
       "  <th>MultipleLines_Yes</th>           <td>    0.0259</td> <td>    0.012</td> <td>    2.224</td> <td> 0.026</td> <td>    0.003</td> <td>    0.049</td>\n",
       "</tr>\n",
       "<tr>\n",
       "  <th>InternetService_DSL</th>         <td>    0.1531</td> <td>    0.019</td> <td>    7.895</td> <td> 0.000</td> <td>    0.115</td> <td>    0.191</td>\n",
       "</tr>\n",
       "<tr>\n",
       "  <th>InternetService_Fiber optic</th> <td>    0.2542</td> <td>    0.019</td> <td>   13.268</td> <td> 0.000</td> <td>    0.217</td> <td>    0.292</td>\n",
       "</tr>\n",
       "<tr>\n",
       "  <th>OnlineSecurity_Yes</th>          <td>   -0.0580</td> <td>    0.013</td> <td>   -4.537</td> <td> 0.000</td> <td>   -0.083</td> <td>   -0.033</td>\n",
       "</tr>\n",
       "<tr>\n",
       "  <th>TechSupport_Yes</th>             <td>   -0.0595</td> <td>    0.013</td> <td>   -4.619</td> <td> 0.000</td> <td>   -0.085</td> <td>   -0.034</td>\n",
       "</tr>\n",
       "<tr>\n",
       "  <th>OnlineBackup_Yes</th>            <td>   -0.0275</td> <td>    0.012</td> <td>   -2.378</td> <td> 0.017</td> <td>   -0.050</td> <td>   -0.005</td>\n",
       "</tr>\n",
       "<tr>\n",
       "  <th>StreamingTV_Yes</th>             <td>    0.0304</td> <td>    0.012</td> <td>    2.512</td> <td> 0.012</td> <td>    0.007</td> <td>    0.054</td>\n",
       "</tr>\n",
       "<tr>\n",
       "  <th>StreamingMovies_Yes</th>         <td>    0.0429</td> <td>    0.012</td> <td>    3.570</td> <td> 0.000</td> <td>    0.019</td> <td>    0.066</td>\n",
       "</tr>\n",
       "<tr>\n",
       "  <th>Contract_One year</th>           <td>   -0.1211</td> <td>    0.016</td> <td>   -7.593</td> <td> 0.000</td> <td>   -0.152</td> <td>   -0.090</td>\n",
       "</tr>\n",
       "<tr>\n",
       "  <th>Contract_Two year</th>           <td>   -0.2478</td> <td>    0.027</td> <td>   -9.153</td> <td> 0.000</td> <td>   -0.301</td> <td>   -0.195</td>\n",
       "</tr>\n",
       "<tr>\n",
       "  <th>PaperlessBilling_Yes</th>        <td>    0.0411</td> <td>    0.011</td> <td>    3.636</td> <td> 0.000</td> <td>    0.019</td> <td>    0.063</td>\n",
       "</tr>\n",
       "<tr>\n",
       "  <th>PaymentMethod_Automatic</th>     <td>   -0.0508</td> <td>    0.011</td> <td>   -4.609</td> <td> 0.000</td> <td>   -0.072</td> <td>   -0.029</td>\n",
       "</tr>\n",
       "<tr>\n",
       "  <th>tenure_19:36</th>                <td>   -0.1360</td> <td>    0.014</td> <td>   -9.935</td> <td> 0.000</td> <td>   -0.163</td> <td>   -0.109</td>\n",
       "</tr>\n",
       "<tr>\n",
       "  <th>tenure_37:54</th>                <td>   -0.1249</td> <td>    0.016</td> <td>   -7.577</td> <td> 0.000</td> <td>   -0.157</td> <td>   -0.093</td>\n",
       "</tr>\n",
       "<tr>\n",
       "  <th>tenure_55:72</th>                <td>   -0.1871</td> <td>    0.020</td> <td>   -9.288</td> <td> 0.000</td> <td>   -0.227</td> <td>   -0.148</td>\n",
       "</tr>\n",
       "</table>"
      ],
      "text/plain": [
       "<class 'statsmodels.iolib.summary.Summary'>\n",
       "\"\"\"\n",
       "        Logit Marginal Effects       \n",
       "=====================================\n",
       "Dep. Variable:              Churn_Yes\n",
       "Method:                          dydx\n",
       "At:                           overall\n",
       "===============================================================================================\n",
       "                                 dy/dx    std err          z      P>|z|      [0.025      0.975]\n",
       "-----------------------------------------------------------------------------------------------\n",
       "SeniorCitizen                   0.0277      0.013      2.153      0.031       0.002       0.053\n",
       "Dependents_Yes                 -0.0255      0.012     -2.051      0.040      -0.050      -0.001\n",
       "MultipleLines_Yes               0.0259      0.012      2.224      0.026       0.003       0.049\n",
       "InternetService_DSL             0.1531      0.019      7.895      0.000       0.115       0.191\n",
       "InternetService_Fiber optic     0.2542      0.019     13.268      0.000       0.217       0.292\n",
       "OnlineSecurity_Yes             -0.0580      0.013     -4.537      0.000      -0.083      -0.033\n",
       "TechSupport_Yes                -0.0595      0.013     -4.619      0.000      -0.085      -0.034\n",
       "OnlineBackup_Yes               -0.0275      0.012     -2.378      0.017      -0.050      -0.005\n",
       "StreamingTV_Yes                 0.0304      0.012      2.512      0.012       0.007       0.054\n",
       "StreamingMovies_Yes             0.0429      0.012      3.570      0.000       0.019       0.066\n",
       "Contract_One year              -0.1211      0.016     -7.593      0.000      -0.152      -0.090\n",
       "Contract_Two year              -0.2478      0.027     -9.153      0.000      -0.301      -0.195\n",
       "PaperlessBilling_Yes            0.0411      0.011      3.636      0.000       0.019       0.063\n",
       "PaymentMethod_Automatic        -0.0508      0.011     -4.609      0.000      -0.072      -0.029\n",
       "tenure_19:36                   -0.1360      0.014     -9.935      0.000      -0.163      -0.109\n",
       "tenure_37:54                   -0.1249      0.016     -7.577      0.000      -0.157      -0.093\n",
       "tenure_55:72                   -0.1871      0.020     -9.288      0.000      -0.227      -0.148\n",
       "===============================================================================================\n",
       "\"\"\""
      ]
     },
     "execution_count": 259,
     "metadata": {},
     "output_type": "execute_result"
    }
   ],
   "source": [
    "margeff = fitted_model.get_margeff()\n",
    "margeff.summary()"
   ]
  },
  {
   "cell_type": "markdown",
   "metadata": {},
   "source": [
    "The results are largely consistent with our plottings: \n",
    "- Both _InternetService_ variables present a positive impact on the churn rate, with Optic Fiber's being almost twice the of DSL's. It might be a good idea to consider discontinuing at least the Optic Fiber service or improving it.\n",
    "- Senior customers tend to churn more easily.\n",
    "- Additional Internet Services (_OnlineSecurity_, _TechSupport_, _OnlineBackup_) negatively affect Churn Rate and are therefore a potential way to decrease it in a managerial setting. _DeviceProtection_ on the other hand is inconsistent with our plottings, and it appears that its effect is largely explained by the other variables of our model. _StreamingMovies_ and _StreamingTV_, unlike expected, are significant and positively affect the Churn Rate: the management might consider stop offering those services."
   ]
  },
  {
   "cell_type": "markdown",
   "metadata": {},
   "source": [
    "## Model evaluation\n",
    "\n",
    "We will now fit this logistic regression to the test data to evaluate the effectiveness of our model."
   ]
  },
  {
   "cell_type": "code",
   "execution_count": 260,
   "metadata": {
    "ExecuteTime": {
     "end_time": "2019-10-11T13:32:18.279132Z",
     "start_time": "2019-10-11T13:32:18.229051Z"
    }
   },
   "outputs": [],
   "source": [
    "test = fill_missing(test)\n",
    "test = get_dummy(test)\n",
    "test = transform_payment(test)\n",
    "test = cluster(test)"
   ]
  },
  {
   "cell_type": "code",
   "execution_count": 272,
   "metadata": {
    "ExecuteTime": {
     "end_time": "2019-10-11T13:39:48.305312Z",
     "start_time": "2019-10-11T13:39:48.295297Z"
    }
   },
   "outputs": [],
   "source": [
    "test[\"intercept\"] = 1.0\n",
    "\n",
    "variables = test[['SeniorCitizen',\n",
    "        'Dependents_Yes', 'MultipleLines_Yes',\n",
    "         'InternetService_DSL', 'InternetService_Fiber optic', 'OnlineSecurity_Yes',\n",
    "        'TechSupport_Yes', \"OnlineBackup_Yes\", 'StreamingTV_Yes',\n",
    "       'StreamingMovies_Yes', 'Contract_One year', 'Contract_Two year', 'PaperlessBilling_Yes',\n",
    "       'PaymentMethod_Automatic', 'tenure_19:36',\n",
    "       'tenure_37:54', 'tenure_55:72','intercept']]\n",
    "\n",
    "y = test.Churn_Yes"
   ]
  },
  {
   "cell_type": "code",
   "execution_count": 302,
   "metadata": {
    "ExecuteTime": {
     "end_time": "2019-10-11T13:55:40.825203Z",
     "start_time": "2019-10-11T13:55:40.818842Z"
    }
   },
   "outputs": [],
   "source": [
    "model_predict = fitted_model.predict(variables)"
   ]
  },
  {
   "cell_type": "markdown",
   "metadata": {},
   "source": [
    "Let's measure the goodness of our model by building the confusion matrix."
   ]
  },
  {
   "cell_type": "code",
   "execution_count": 311,
   "metadata": {
    "ExecuteTime": {
     "end_time": "2019-10-11T14:00:07.369244Z",
     "start_time": "2019-10-11T14:00:06.807866Z"
    }
   },
   "outputs": [
    {
     "data": {
      "image/png": "[encoded data removed]",
      "text/plain": [
       "<Figure size 576x576 with 2 Axes>"
      ]
     },
     "metadata": {
      "needs_background": "light"
     },
     "output_type": "display_data"
    }
   ],
   "source": [
    "pred = model_predict.copy()\n",
    "pred[pred >= 0.5] = 1\n",
    "pred[pred < 0.5] = 0\n",
    "\n",
    "cm = skplt.metrics.confusion_matrix(y_true=y, y_pred=pred)\n",
    "plot_confusion_matrix(cm, figsize=(8, 8), colorbar=True);"
   ]
  },
  {
   "cell_type": "markdown",
   "metadata": {},
   "source": [
    "We are now going to plot the Kolmogorov–Smirnov statistics in order to set a better probability threshold for our prediction."
   ]
  },
  {
   "cell_type": "code",
   "execution_count": 312,
   "metadata": {
    "ExecuteTime": {
     "end_time": "2019-10-11T14:01:21.823345Z",
     "start_time": "2019-10-11T14:01:21.097491Z"
    }
   },
   "outputs": [
    {
     "data": {
      "image/png": "[encoded data removed]",
      "text/plain": [
       "<Figure size 360x360 with 1 Axes>"
      ]
     },
     "metadata": {
      "needs_background": "light"
     },
     "output_type": "display_data"
    }
   ],
   "source": [
    "# Compute the predicted probability\n",
    "proba = np.array([ 1 - model_predict, model_predict ])\n",
    "\n",
    "skplt.metrics.plot_ks_statistic(test[\"Churn_Yes\"], proba.T, figsize=(5, 5));"
   ]
  },
  {
   "cell_type": "markdown",
   "metadata": {},
   "source": [
    "0.326 is going to be our threshold. We begin the solution of the business case by considering as potential churners all the observations with a predicted probability of churning greater than 0.326."
   ]
  },
  {
   "cell_type": "code",
   "execution_count": 314,
   "metadata": {
    "ExecuteTime": {
     "end_time": "2019-10-11T14:02:22.712225Z",
     "start_time": "2019-10-11T14:02:22.294490Z"
    }
   },
   "outputs": [
    {
     "data": {
      "image/png": "[encoded data removed]",
      "text/plain": [
       "<Figure size 576x576 with 2 Axes>"
      ]
     },
     "metadata": {
      "needs_background": "light"
     },
     "output_type": "display_data"
    }
   ],
   "source": [
    "pred = model_predict.copy()\n",
    "pred[pred >= 0.326] = 1\n",
    "pred[pred < 0.326] = 0\n",
    "\n",
    "cm = skplt.metrics.confusion_matrix(y_true=y, y_pred=pred)\n",
    "plot_confusion_matrix(cm, figsize=(8, 8), colorbar=True);"
   ]
  },
  {
   "cell_type": "markdown",
   "metadata": {},
   "source": [
    "The model now predicts a higher number of potential churners, in order to optimize the true positive rate and false positive rate."
   ]
  },
  {
   "cell_type": "code",
   "execution_count": 316,
   "metadata": {
    "ExecuteTime": {
     "end_time": "2019-10-11T14:03:29.219498Z",
     "start_time": "2019-10-11T14:03:28.570854Z"
    }
   },
   "outputs": [
    {
     "data": {
      "image/png": "[encoded data removed]",
      "text/plain": [
       "<Figure size 360x360 with 1 Axes>"
      ]
     },
     "metadata": {
      "needs_background": "light"
     },
     "output_type": "display_data"
    }
   ],
   "source": [
    "# Lift Chart\n",
    "skplt.metrics.plot_lift_curve(test[\"Churn_Yes\"], proba.T, figsize=(5, 5));"
   ]
  },
  {
   "cell_type": "code",
   "execution_count": 317,
   "metadata": {
    "ExecuteTime": {
     "end_time": "2019-10-11T14:03:37.766697Z",
     "start_time": "2019-10-11T14:03:36.872664Z"
    },
    "scrolled": false
   },
   "outputs": [
    {
     "data": {
      "image/png": "[encoded data removed]",
      "text/plain": [
       "<Figure size 360x360 with 1 Axes>"
      ]
     },
     "metadata": {
      "needs_background": "light"
     },
     "output_type": "display_data"
    }
   ],
   "source": [
    "# Gain Chart\n",
    "skplt.metrics.plot_cumulative_gain(test[\"Churn_Yes\"], proba.T, figsize=(5, 5));"
   ]
  },
  {
   "cell_type": "markdown",
   "metadata": {},
   "source": [
    "## Resampling methods"
   ]
  },
  {
   "cell_type": "markdown",
   "metadata": {},
   "source": [
    "As a final part of our work, we are going to perform a nonparametric bootstrap to assess the precision of our estimates."
   ]
  },
  {
   "cell_type": "code",
   "execution_count": 318,
   "metadata": {
    "ExecuteTime": {
     "end_time": "2019-10-11T14:04:10.671225Z",
     "start_time": "2019-10-11T14:04:07.737899Z"
    }
   },
   "outputs": [
    {
     "name": "stderr",
     "output_type": "stream",
     "text": [
      "/home/3005019/anaconda3/lib/python3.7/site-packages/ipykernel_launcher.py:10: MatplotlibDeprecationWarning:\n",
      "\n",
      "\n",
      "The 'normed' kwarg was deprecated in Matplotlib 2.1 and will be removed in 3.1. Use 'density' instead.\n",
      "\n"
     ]
    },
    {
     "data": {
      "image/png": "[encoded data removed]",
      "text/plain": [
       "<Figure size 432x288 with 1 Axes>"
      ]
     },
     "metadata": {
      "needs_background": "light"
     },
     "output_type": "display_data"
    }
   ],
   "source": [
    "def bootstrap_replicate(data, function):\n",
    "    bs_sample = np.random.choice(data, len(data))\n",
    "    return function(bs_sample)\n",
    "\n",
    "bs_results = np.empty(10000)\n",
    "\n",
    "for i in range(10000):\n",
    "    bs_results[i] = bootstrap_replicate(model_predict, np.mean)\n",
    "\n",
    "_ = plt.hist(bs_results, bins = 30, normed = True)\n",
    "_ = plt.xlabel(\"Mean of Predicted Churners\")\n",
    "_ = plt.ylabel(\"Empirical Probability Density Function\")\n",
    "plt.show()"
   ]
  },
  {
   "cell_type": "code",
   "execution_count": 324,
   "metadata": {
    "ExecuteTime": {
     "end_time": "2019-10-11T14:07:18.411644Z",
     "start_time": "2019-10-11T14:07:18.402737Z"
    }
   },
   "outputs": [
    {
     "name": "stdout",
     "output_type": "stream",
     "text": [
      "Bootstrap confidence interval: [0.26024003 0.28567477]\n",
      "Bootstrap mean: 0.273\n"
     ]
    }
   ],
   "source": [
    "print(\"Bootstrap confidence interval:\", np.percentile(bs_results, [2.5, 97.5]))\n",
    "print(\"Bootstrap mean:\", round(bs_results.mean(), 3))"
   ]
  },
  {
   "cell_type": "markdown",
   "metadata": {},
   "source": [
    "Let's compare the estimates of our prediction with the mean of the sample."
   ]
  },
  {
   "cell_type": "code",
   "execution_count": 326,
   "metadata": {
    "ExecuteTime": {
     "end_time": "2019-10-11T14:07:27.745345Z",
     "start_time": "2019-10-11T14:07:27.738534Z"
    }
   },
   "outputs": [
    {
     "name": "stdout",
     "output_type": "stream",
     "text": [
      "Sample mean: 0.26\n"
     ]
    }
   ],
   "source": [
    "print(\"Sample mean:\", round(test.Churn_Yes.mean(), 3))"
   ]
  },
  {
   "cell_type": "markdown",
   "metadata": {},
   "source": [
    "Our prediction is very close to the actual churn rate of the sample."
   ]
  },
  {
   "cell_type": "markdown",
   "metadata": {},
   "source": [
    "<a id='another_cell'></a>"
   ]
  },
  {
   "cell_type": "markdown",
   "metadata": {},
   "source": [
    "# Appendix"
   ]
  },
  {
   "cell_type": "markdown",
   "metadata": {},
   "source": [
    "This regression aims to assess the correlation between additional internet services and _Churn_ also for low values of tenure. We want to prove that the impact of additional services on _Churn_ is causal and not due to an omitted variable or selection bias. This means that additional services are not given as gift to those clients with a higher tenure but they have an actual impact on the churn phenomenon."
   ]
  },
  {
   "cell_type": "code",
   "execution_count": 200,
   "metadata": {},
   "outputs": [
    {
     "name": "stderr",
     "output_type": "stream",
     "text": [
      "/home/matteo/anaconda3/lib/python3.6/site-packages/statsmodels/discrete/discrete_model.py:1724: RuntimeWarning:\n",
      "\n",
      "divide by zero encountered in log\n",
      "\n",
      "/home/matteo/anaconda3/lib/python3.6/site-packages/statsmodels/base/model.py:488: HessianInversionWarning:\n",
      "\n",
      "Inverting hessian failed, no bse or cov_params available\n",
      "\n",
      "/home/matteo/anaconda3/lib/python3.6/site-packages/statsmodels/base/model.py:488: HessianInversionWarning:\n",
      "\n",
      "Inverting hessian failed, no bse or cov_params available\n",
      "\n"
     ]
    },
    {
     "name": "stdout",
     "output_type": "stream",
     "text": [
      "Optimization terminated successfully.\n",
      "         Current function value: inf\n",
      "         Iterations 8\n"
     ]
    },
    {
     "data": {
      "text/html": [
       "<table class=\"simpletable\">\n",
       "<tr>\n",
       "        <td>Model:</td>              <td>Logit</td>      <td>Pseudo R-squared:</td>   <td>inf</td> \n",
       "</tr>\n",
       "<tr>\n",
       "  <td>Dependent Variable:</td>     <td>Churn_Yes</td>          <td>AIC:</td>          <td>inf</td> \n",
       "</tr>\n",
       "<tr>\n",
       "         <td>Date:</td>        <td>2018-12-24 22:00</td>       <td>BIC:</td>          <td>inf</td> \n",
       "</tr>\n",
       "<tr>\n",
       "   <td>No. Observations:</td>        <td>7032</td>        <td>Log-Likelihood:</td>   <td>-inf</td> \n",
       "</tr>\n",
       "<tr>\n",
       "       <td>Df Model:</td>             <td>17</td>            <td>LL-Null:</td>      <td>0.0000</td>\n",
       "</tr>\n",
       "<tr>\n",
       "     <td>Df Residuals:</td>          <td>7014</td>         <td>LLR p-value:</td>    <td>1.0000</td>\n",
       "</tr>\n",
       "<tr>\n",
       "      <td>Converged:</td>           <td>1.0000</td>           <td>Scale:</td>       <td>1.0000</td>\n",
       "</tr>\n",
       "<tr>\n",
       "    <td>No. Iterations:</td>        <td>8.0000</td>              <td></td>             <td></td>   \n",
       "</tr>\n",
       "</table>\n",
       "<table class=\"simpletable\">\n",
       "<tr>\n",
       "               <td></td>                <th>Coef.</th>  <th>Std.Err.</th>     <th>z</th>     <th>P>|z|</th> <th>[0.025</th>  <th>0.975]</th> \n",
       "</tr>\n",
       "<tr>\n",
       "  <th>SeniorCitizen</th>               <td>0.2334</td>   <td>0.0832</td>   <td>2.8057</td>  <td>0.0050</td> <td>0.0704</td>  <td>0.3965</td> \n",
       "</tr>\n",
       "<tr>\n",
       "  <th>Dependents_Yes</th>              <td>-0.1819</td>  <td>0.0809</td>   <td>-2.2476</td> <td>0.0246</td> <td>-0.3405</td> <td>-0.0233</td>\n",
       "</tr>\n",
       "<tr>\n",
       "  <th>MultipleLines_Yes</th>           <td>0.1762</td>   <td>0.0758</td>   <td>2.3234</td>  <td>0.0202</td> <td>0.0276</td>  <td>0.3249</td> \n",
       "</tr>\n",
       "<tr>\n",
       "  <th>InternetService_DSL</th>         <td>1.0541</td>   <td>0.1282</td>   <td>8.2235</td>  <td>0.0000</td> <td>0.8029</td>  <td>1.3054</td> \n",
       "</tr>\n",
       "<tr>\n",
       "  <th>InternetService_Fiber optic</th> <td>1.8322</td>   <td>0.1310</td>   <td>13.9916</td> <td>0.0000</td> <td>1.5756</td>  <td>2.0889</td> \n",
       "</tr>\n",
       "<tr>\n",
       "  <th>OnlineSecurity_Yes</th>          <td>-0.4310</td>  <td>0.0836</td>   <td>-5.1557</td> <td>0.0000</td> <td>-0.5948</td> <td>-0.2671</td>\n",
       "</tr>\n",
       "<tr>\n",
       "  <th>TechSupport_Yes</th>             <td>-0.3706</td>  <td>0.0846</td>   <td>-4.3795</td> <td>0.0000</td> <td>-0.5364</td> <td>-0.2047</td>\n",
       "</tr>\n",
       "<tr>\n",
       "  <th>OnlineBackup_Yes</th>            <td>-0.1864</td>  <td>0.0755</td>   <td>-2.4685</td> <td>0.0136</td> <td>-0.3344</td> <td>-0.0384</td>\n",
       "</tr>\n",
       "<tr>\n",
       "  <th>StreamingTV_Yes</th>             <td>0.2662</td>   <td>0.0785</td>   <td>3.3903</td>  <td>0.0007</td> <td>0.1123</td>  <td>0.4200</td> \n",
       "</tr>\n",
       "<tr>\n",
       "  <th>StreamingMovies_Yes</th>         <td>0.2812</td>   <td>0.0782</td>   <td>3.5963</td>  <td>0.0003</td> <td>0.1280</td>  <td>0.4345</td> \n",
       "</tr>\n",
       "<tr>\n",
       "  <th>Contract_One year</th>           <td>-0.8483</td>  <td>0.1057</td>   <td>-8.0254</td> <td>0.0000</td> <td>-1.0555</td> <td>-0.6412</td>\n",
       "</tr>\n",
       "<tr>\n",
       "  <th>Contract_Two year</th>           <td>-1.7220</td>  <td>0.1766</td>   <td>-9.7507</td> <td>0.0000</td> <td>-2.0681</td> <td>-1.3759</td>\n",
       "</tr>\n",
       "<tr>\n",
       "  <th>PaperlessBilling_Yes</th>        <td>0.3538</td>   <td>0.0738</td>   <td>4.7938</td>  <td>0.0000</td> <td>0.2091</td>  <td>0.4984</td> \n",
       "</tr>\n",
       "<tr>\n",
       "  <th>PaymentMethod_Automatic</th>     <td>-0.3145</td>  <td>0.0719</td>   <td>-4.3764</td> <td>0.0000</td> <td>-0.4553</td> <td>-0.1736</td>\n",
       "</tr>\n",
       "<tr>\n",
       "  <th>tenure_19:36</th>                <td>-1.0135</td>  <td>0.0919</td>  <td>-11.0306</td> <td>0.0000</td> <td>-1.1935</td> <td>-0.8334</td>\n",
       "</tr>\n",
       "<tr>\n",
       "  <th>tenure_37:54</th>                <td>-1.0141</td>  <td>0.1102</td>   <td>-9.2040</td> <td>0.0000</td> <td>-1.2300</td> <td>-0.7981</td>\n",
       "</tr>\n",
       "<tr>\n",
       "  <th>tenure_55:72</th>                <td>-1.4425</td>  <td>0.1367</td>  <td>-10.5496</td> <td>0.0000</td> <td>-1.7105</td> <td>-1.1745</td>\n",
       "</tr>\n",
       "<tr>\n",
       "  <th>intercept</th>                   <td>-1.5123</td>  <td>0.1120</td>  <td>-13.5003</td> <td>0.0000</td> <td>-1.7319</td> <td>-1.2928</td>\n",
       "</tr>\n",
       "</table>"
      ],
      "text/plain": [
       "<class 'statsmodels.iolib.summary2.Summary'>\n",
       "\"\"\"\n",
       "                               Results: Logit\n",
       "============================================================================\n",
       "Model:                   Logit                 Pseudo R-squared:      inf   \n",
       "Dependent Variable:      Churn_Yes             AIC:                   inf   \n",
       "Date:                    2018-12-24 22:00      BIC:                   inf   \n",
       "No. Observations:        7032                  Log-Likelihood:        -inf  \n",
       "Df Model:                17                    LL-Null:               0.0000\n",
       "Df Residuals:            7014                  LLR p-value:           1.0000\n",
       "Converged:               1.0000                Scale:                 1.0000\n",
       "No. Iterations:          8.0000                                             \n",
       "----------------------------------------------------------------------------\n",
       "                             Coef.  Std.Err.    z     P>|z|   [0.025  0.975]\n",
       "----------------------------------------------------------------------------\n",
       "SeniorCitizen                0.2334   0.0832   2.8057 0.0050  0.0704  0.3965\n",
       "Dependents_Yes              -0.1819   0.0809  -2.2476 0.0246 -0.3405 -0.0233\n",
       "MultipleLines_Yes            0.1762   0.0758   2.3234 0.0202  0.0276  0.3249\n",
       "InternetService_DSL          1.0541   0.1282   8.2235 0.0000  0.8029  1.3054\n",
       "InternetService_Fiber optic  1.8322   0.1310  13.9916 0.0000  1.5756  2.0889\n",
       "OnlineSecurity_Yes          -0.4310   0.0836  -5.1557 0.0000 -0.5948 -0.2671\n",
       "TechSupport_Yes             -0.3706   0.0846  -4.3795 0.0000 -0.5364 -0.2047\n",
       "OnlineBackup_Yes            -0.1864   0.0755  -2.4685 0.0136 -0.3344 -0.0384\n",
       "StreamingTV_Yes              0.2662   0.0785   3.3903 0.0007  0.1123  0.4200\n",
       "StreamingMovies_Yes          0.2812   0.0782   3.5963 0.0003  0.1280  0.4345\n",
       "Contract_One year           -0.8483   0.1057  -8.0254 0.0000 -1.0555 -0.6412\n",
       "Contract_Two year           -1.7220   0.1766  -9.7507 0.0000 -2.0681 -1.3759\n",
       "PaperlessBilling_Yes         0.3538   0.0738   4.7938 0.0000  0.2091  0.4984\n",
       "PaymentMethod_Automatic     -0.3145   0.0719  -4.3764 0.0000 -0.4553 -0.1736\n",
       "tenure_19:36                -1.0135   0.0919 -11.0306 0.0000 -1.1935 -0.8334\n",
       "tenure_37:54                -1.0141   0.1102  -9.2040 0.0000 -1.2300 -0.7981\n",
       "tenure_55:72                -1.4425   0.1367 -10.5496 0.0000 -1.7105 -1.1745\n",
       "intercept                   -1.5123   0.1120 -13.5003 0.0000 -1.7319 -1.2928\n",
       "============================================================================\n",
       "\n",
       "\"\"\""
      ]
     },
     "execution_count": 200,
     "metadata": {},
     "output_type": "execute_result"
    }
   ],
   "source": [
    "low_tenure = tcc[tcc[\"tenure_0:18\"]+tcc[\"tenure_19:36\"]==1]\n",
    "\n",
    "variables = low_tenure[['SeniorCitizen',\n",
    "        'Dependents_Yes', 'MultipleLines_Yes',\n",
    "         'InternetService_DSL', 'InternetService_Fiber optic', 'OnlineSecurity_Yes',\n",
    "        'TechSupport_Yes', \"OnlineBackup_Yes\", 'StreamingTV_Yes',\n",
    "       'StreamingMovies_Yes', 'Contract_One year', 'Contract_Two year', 'PaperlessBilling_Yes',\n",
    "       'PaymentMethod_Automatic', 'tenure_19:36',\n",
    "       'tenure_37:54', 'tenure_55:72','intercept']]\n",
    "\n",
    "# Setting the model\n",
    "logistical_regression_low = sm.Logit(low_tenure[\"Churn_Yes\"], variables)\n",
    "\n",
    "# Fitting the model\n",
    "fitted_model_low = logistical_regression.fit()\n",
    "fitted_model_low.summary2()"
   ]
  },
  {
   "cell_type": "markdown",
   "metadata": {},
   "source": [
    "CLICK [HERE](#HERE) TO GO KEEP READING"
   ]
  }
 ],
 "metadata": {
  "celltoolbar": "Initialization Cell",
  "hide_input": false,
  "kernelspec": {
   "display_name": "Python 3",
   "language": "python",
   "name": "python3"
  },
  "language_info": {
   "codemirror_mode": {
    "name": "ipython",
    "version": 3
   },
   "file_extension": ".py",
   "mimetype": "text/x-python",
   "name": "python",
   "nbconvert_exporter": "python",
   "pygments_lexer": "ipython3",
   "version": "3.7.3"
  },
  "toc": {
   "base_numbering": 1,
   "nav_menu": {},
   "number_sections": true,
   "sideBar": true,
   "skip_h1_title": true,
   "title_cell": "Table of Contents",
   "title_sidebar": "Contents",
   "toc_cell": true,
   "toc_position": {},
   "toc_section_display": true,
   "toc_window_display": false
  },
  "varInspector": {
   "cols": {
    "lenName": 16,
    "lenType": 16,
    "lenVar": 40
   },
   "kernels_config": {
    "python": {
     "delete_cmd_postfix": "",
     "delete_cmd_prefix": "del ",
     "library": "var_list.py",
     "varRefreshCmd": "print(var_dic_list())"
    },
    "r": {
     "delete_cmd_postfix": ") ",
     "delete_cmd_prefix": "rm(",
     "library": "var_list.r",
     "varRefreshCmd": "cat(var_dic_list()) "
    }
   },
   "types_to_exclude": [
    "module",
    "function",
    "builtin_function_or_method",
    "instance",
    "_Feature"
   ],
   "window_display": false
  }
 },
 "nbformat": 4,
 "nbformat_minor": 2
}
